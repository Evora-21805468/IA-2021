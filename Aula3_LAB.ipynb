{
  "nbformat": 4,
  "nbformat_minor": 0,
  "metadata": {
    "kernelspec": {
      "display_name": "Python 3",
      "language": "python",
      "name": "python3"
    },
    "language_info": {
      "codemirror_mode": {
        "name": "ipython",
        "version": 3
      },
      "file_extension": ".py",
      "mimetype": "text/x-python",
      "name": "python",
      "nbconvert_exporter": "python",
      "pygments_lexer": "ipython3",
      "version": "3.7.6"
    },
    "toc": {
      "base_numbering": 1,
      "nav_menu": {},
      "number_sections": false,
      "sideBar": true,
      "skip_h1_title": false,
      "title_cell": "Table of Contents",
      "title_sidebar": "Contents",
      "toc_cell": false,
      "toc_position": {},
      "toc_section_display": true,
      "toc_window_display": true
    },
    "varInspector": {
      "cols": {
        "lenName": 16,
        "lenType": 16,
        "lenVar": 40
      },
      "kernels_config": {
        "python": {
          "delete_cmd_postfix": "",
          "delete_cmd_prefix": "del ",
          "library": "var_list.py",
          "varRefreshCmd": "print(var_dic_list())"
        },
        "r": {
          "delete_cmd_postfix": ") ",
          "delete_cmd_prefix": "rm(",
          "library": "var_list.r",
          "varRefreshCmd": "cat(var_dic_list()) "
        }
      },
      "types_to_exclude": [
        "module",
        "function",
        "builtin_function_or_method",
        "instance",
        "_Feature"
      ],
      "window_display": false
    },
    "colab": {
      "name": "Aula3_LAB.ipynb",
      "provenance": [],
      "collapsed_sections": [
        "96A59X6nTh2-",
        "RfIgS5SkTh2_",
        "INb7cvEdTh3C",
        "7uwV8q8MTh3H",
        "R-_GLrL_Th3H"
      ],
      "toc_visible": true,
      "include_colab_link": true
    }
  },
  "cells": [
    {
      "cell_type": "markdown",
      "metadata": {
        "id": "view-in-github",
        "colab_type": "text"
      },
      "source": [
        "<a href=\"https://colab.research.google.com/github/Evora-21805468/IA-2021/blob/main/Aula3_LAB.ipynb\" target=\"_parent\"><img src=\"https://colab.research.google.com/assets/colab-badge.svg\" alt=\"Open In Colab\"/></a>"
      ]
    },
    {
      "cell_type": "markdown",
      "metadata": {
        "deletable": false,
        "editable": false,
        "run_control": {
          "frozen": true
        },
        "id": "Wk4eJKIvTh2x"
      },
      "source": [
        "# Lab 3\n",
        "> Turing Machine "
      ]
    },
    {
      "cell_type": "markdown",
      "metadata": {
        "deletable": false,
        "editable": false,
        "run_control": {
          "frozen": true
        },
        "id": "r8YtHPbATh23"
      },
      "source": [
        "## Purpose\n",
        "Practical introduction to Turing Machine"
      ]
    },
    {
      "cell_type": "markdown",
      "metadata": {
        "deletable": false,
        "editable": false,
        "run_control": {
          "frozen": true
        },
        "id": "svGW7rxWTh23"
      },
      "source": [
        "## Methodology  \n",
        "A step-by-step implementation of a Turing Machine example"
      ]
    },
    {
      "cell_type": "markdown",
      "metadata": {
        "ExecuteTime": {
          "end_time": "2021-03-07T19:28:23.576875Z",
          "start_time": "2021-03-07T19:28:23.529740Z"
        },
        "deletable": false,
        "editable": false,
        "run_control": {
          "frozen": true
        },
        "id": "SNqSJaYITh24"
      },
      "source": [
        "## Work in Progress \n",
        "\n",
        "- 2021-03-07 19:33:38 - Lab 3"
      ]
    },
    {
      "cell_type": "markdown",
      "metadata": {
        "deletable": false,
        "editable": false,
        "run_control": {
          "frozen": true
        },
        "id": "2Fbk4G8pTh24"
      },
      "source": [
        "## Results\n",
        "A functional implementation of a Turing Machine example"
      ]
    },
    {
      "cell_type": "markdown",
      "metadata": {
        "deletable": false,
        "editable": false,
        "run_control": {
          "frozen": true
        },
        "id": "Gw34iZ8fTh25"
      },
      "source": [
        "## Suggested next steps\n",
        "Complete all the exercises"
      ]
    },
    {
      "cell_type": "markdown",
      "metadata": {
        "deletable": false,
        "editable": false,
        "run_control": {
          "frozen": true
        },
        "id": "NH-AZiXoTh26"
      },
      "source": [
        "## Setup\n",
        "\n",
        "### Library import"
      ]
    },
    {
      "cell_type": "code",
      "metadata": {
        "ExecuteTime": {
          "end_time": "2021-03-07T19:45:39.161914Z",
          "start_time": "2021-03-07T19:45:39.158024Z"
        },
        "deletable": false,
        "editable": false,
        "id": "9oEez1NtTh26"
      },
      "source": [
        "# Data manipulation\n",
        "import pandas as pd\n",
        "import numpy as np"
      ],
      "execution_count": null,
      "outputs": []
    },
    {
      "cell_type": "markdown",
      "metadata": {
        "deletable": false,
        "editable": false,
        "run_control": {
          "frozen": true
        },
        "id": "lToS-K9VTh26"
      },
      "source": [
        "## Inputer Program Exercise"
      ]
    },
    {
      "cell_type": "markdown",
      "metadata": {
        "deletable": false,
        "editable": false,
        "run_control": {
          "frozen": true
        },
        "id": "VytphRcQTh27"
      },
      "source": [
        "Let's imagine a simple blank tape as the one below, where each cell can store a value.  \n",
        "We want to create a program that stores the value ```111```on the tape."
      ]
    },
    {
      "cell_type": "markdown",
      "metadata": {
        "deletable": false,
        "editable": false,
        "run_control": {
          "frozen": true
        },
        "id": "mqaThS5zTh27"
      },
      "source": [
        "![image.png](attachment:image.png)"
      ]
    },
    {
      "cell_type": "markdown",
      "metadata": {
        "deletable": false,
        "editable": false,
        "run_control": {
          "frozen": true
        },
        "id": "QROQKJCmTh28"
      },
      "source": [
        "### Start\n",
        "\n",
        "Imagine a pointer named ```header``` pointing at a cell position on the tape. In the example below the header is represented by the wider black square."
      ]
    },
    {
      "cell_type": "markdown",
      "metadata": {
        "deletable": false,
        "editable": false,
        "run_control": {
          "frozen": true
        },
        "id": "ADfAI_FlTh29"
      },
      "source": [
        "![image.png](attachment:image.png)"
      ]
    },
    {
      "cell_type": "markdown",
      "metadata": {
        "deletable": false,
        "editable": false,
        "run_control": {
          "frozen": true
        },
        "id": "RQaNspOfTh29"
      },
      "source": [
        "### Program  \n",
        "\n",
        "1. If the value on the cell is blank, store a value and move right."
      ]
    },
    {
      "cell_type": "markdown",
      "metadata": {
        "deletable": false,
        "editable": false,
        "run_control": {
          "frozen": true
        },
        "id": "YpSz1HdbTh29"
      },
      "source": [
        "First iteration:  \n",
        "- write"
      ]
    },
    {
      "cell_type": "markdown",
      "metadata": {
        "deletable": false,
        "editable": false,
        "run_control": {
          "frozen": true
        },
        "id": "K0H0YDr7Th29"
      },
      "source": [
        "![image.png](attachment:image.png)"
      ]
    },
    {
      "cell_type": "markdown",
      "metadata": {
        "deletable": false,
        "editable": false,
        "run_control": {
          "frozen": true
        },
        "id": "6J-rC5CPTh29"
      },
      "source": [
        "- move"
      ]
    },
    {
      "cell_type": "markdown",
      "metadata": {
        "deletable": false,
        "editable": false,
        "run_control": {
          "frozen": true
        },
        "id": "ae42mNU0Th29"
      },
      "source": [
        "![image.png](attachment:image.png)"
      ]
    },
    {
      "cell_type": "markdown",
      "metadata": {
        "deletable": false,
        "editable": false,
        "run_control": {
          "frozen": true
        },
        "id": "qpHjlSD9Th29"
      },
      "source": [
        "- repeat ..."
      ]
    },
    {
      "cell_type": "markdown",
      "metadata": {
        "deletable": false,
        "editable": false,
        "run_control": {
          "frozen": true
        },
        "id": "96A59X6nTh2-"
      },
      "source": [
        "#### Program summary"
      ]
    },
    {
      "cell_type": "markdown",
      "metadata": {
        "deletable": false,
        "editable": false,
        "run_control": {
          "frozen": true
        },
        "id": "tO54Cwb1Th2-"
      },
      "source": [
        "| Read  | Write Instruction |  Move Instruction |\n",
        "|---|---|---|\n",
        "| Blank  |  1  | R  | "
      ]
    },
    {
      "cell_type": "markdown",
      "metadata": {
        "deletable": false,
        "editable": false,
        "run_control": {
          "frozen": true
        },
        "id": "RfIgS5SkTh2_"
      },
      "source": [
        "#### State\n",
        "\n",
        "We need to stop eventually otherwise the program will never end and will keep writing `1` on each cell of the tape."
      ]
    },
    {
      "cell_type": "markdown",
      "metadata": {
        "ExecuteTime": {
          "end_time": "2021-03-07T17:33:41.375787Z",
          "start_time": "2021-03-07T17:33:41.365201Z"
        },
        "deletable": false,
        "editable": false,
        "run_control": {
          "frozen": true
        },
        "id": "XlYePQDgTh2_"
      },
      "source": [
        "| State | Read  | Write Instruction |  Move Instruction | New State|\n",
        "|---|---|---| --- | --- | \n",
        "| 0 | Blank  |  1  | R  | 1 |\n",
        "| 1 | Blank  |  1  | R  | 2 |\n",
        "| 2 | Blank  |  1  | R  | Halt |"
      ]
    },
    {
      "cell_type": "markdown",
      "metadata": {
        "deletable": false,
        "editable": false,
        "run_control": {
          "frozen": true
        },
        "id": "e8vbiDaLTh2_"
      },
      "source": [
        "![image.png](attachment:image.png)"
      ]
    },
    {
      "cell_type": "markdown",
      "metadata": {
        "deletable": false,
        "editable": false,
        "run_control": {
          "frozen": true
        },
        "id": "83LKUBuBTh2_"
      },
      "source": [
        "### Implementation"
      ]
    },
    {
      "cell_type": "markdown",
      "metadata": {
        "deletable": false,
        "editable": false,
        "run_control": {
          "frozen": true
        },
        "id": "oblOnVm3Th2_"
      },
      "source": [
        "Let's use a list to simulate our blank tape"
      ]
    },
    {
      "cell_type": "code",
      "metadata": {
        "ExecuteTime": {
          "end_time": "2021-03-07T19:45:39.192129Z",
          "start_time": "2021-03-07T19:45:39.174738Z"
        },
        "colab": {
          "base_uri": "https://localhost:8080/"
        },
        "id": "Sdnc4V9vTh2_",
        "outputId": "f382f827-be0b-4db2-dd50-181ebccebfc8"
      },
      "source": [
        "# create an empy list\n",
        "tape = []\n",
        "tape"
      ],
      "execution_count": null,
      "outputs": [
        {
          "output_type": "execute_result",
          "data": {
            "text/plain": [
              "[]"
            ]
          },
          "metadata": {
            "tags": []
          },
          "execution_count": 2
        }
      ]
    },
    {
      "cell_type": "markdown",
      "metadata": {
        "deletable": false,
        "editable": false,
        "run_control": {
          "frozen": true
        },
        "id": "qIY1ff8ATh3A"
      },
      "source": [
        "Our tape will have 10 Blank cells"
      ]
    },
    {
      "cell_type": "code",
      "metadata": {
        "ExecuteTime": {
          "end_time": "2021-03-07T19:45:39.215212Z",
          "start_time": "2021-03-07T19:45:39.197505Z"
        },
        "colab": {
          "base_uri": "https://localhost:8080/"
        },
        "id": "I6-b_bPKTh3A",
        "outputId": "a35cb746-ecf7-4776-9492-071e7db2388f"
      },
      "source": [
        "# our definition of blank\n",
        "blank = 'blank'\n",
        "\n",
        "for _ in range(10):\n",
        "    tape.append(blank)\n",
        "    \n",
        "tape"
      ],
      "execution_count": null,
      "outputs": [
        {
          "output_type": "execute_result",
          "data": {
            "text/plain": [
              "['blank',\n",
              " 'blank',\n",
              " 'blank',\n",
              " 'blank',\n",
              " 'blank',\n",
              " 'blank',\n",
              " 'blank',\n",
              " 'blank',\n",
              " 'blank',\n",
              " 'blank']"
            ]
          },
          "metadata": {
            "tags": []
          },
          "execution_count": 3
        }
      ]
    },
    {
      "cell_type": "markdown",
      "metadata": {
        "deletable": false,
        "editable": false,
        "run_control": {
          "frozen": true
        },
        "id": "INb7cvEdTh3C"
      },
      "source": [
        "#### 1. We need to read the tape's cell values given the ```header``` position"
      ]
    },
    {
      "cell_type": "code",
      "metadata": {
        "ExecuteTime": {
          "end_time": "2021-03-07T19:45:39.231391Z",
          "start_time": "2021-03-07T19:45:39.222646Z"
        },
        "code_folding": [],
        "id": "aQxOBJ8hTh3C"
      },
      "source": [
        "def read_tape(position, tape):\n",
        "    \"\"\"\n",
        "    Reads tape at current position\n",
        "    \"\"\"\n",
        "\n",
        "    # Non-disruptive\n",
        "    #if position < 0 or position >= len(tape):\n",
        "    #  return -1\n",
        "\n",
        "    # Disruptive\n",
        "    #if position <0 or position >= len(tape):\n",
        "    #   raise Exception(\"position out of range\")\n",
        "\n",
        "    assert position >= 0 and position < len(tape),\\\n",
        "    \"position out of tape's range\"\n",
        "    \n",
        "    return tape[position]"
      ],
      "execution_count": null,
      "outputs": []
    },
    {
      "cell_type": "code",
      "metadata": {
        "colab": {
          "base_uri": "https://localhost:8080/",
          "height": 36
        },
        "id": "S2yZVCszYAGT",
        "outputId": "a7b19cf9-550e-40a7-9f3f-e5c22909331d"
      },
      "source": [
        "read_tape(1,tape)"
      ],
      "execution_count": null,
      "outputs": [
        {
          "output_type": "execute_result",
          "data": {
            "application/vnd.google.colaboratory.intrinsic+json": {
              "type": "string"
            },
            "text/plain": [
              "'blank'"
            ]
          },
          "metadata": {
            "tags": []
          },
          "execution_count": 16
        }
      ]
    },
    {
      "cell_type": "markdown",
      "metadata": {
        "deletable": false,
        "editable": false,
        "run_control": {
          "frozen": true
        },
        "id": "YukMOrVyTh3C"
      },
      "source": [
        "#### 2. Write a function to obtain the instructions and the the next stage \n",
        "\n",
        "To define such a function we need the program, the current state and the value that was read from the tape.  \n",
        "Recall the program"
      ]
    },
    {
      "cell_type": "markdown",
      "metadata": {
        "deletable": false,
        "editable": false,
        "run_control": {
          "frozen": true
        },
        "id": "K0WeU5nuTh3C"
      },
      "source": [
        "| State | Read  | Write Instruction |  Move Instruction | New State|\n",
        "|---|---|---| --- | --- | \n",
        "| 0 | Blank  |  1  | R  | 1 |\n",
        "| 1 | Blank  |  1  | R  | 2 |\n",
        "| 2 | Blank  |  1  | R  | Halt |"
      ]
    },
    {
      "cell_type": "markdown",
      "metadata": {
        "deletable": false,
        "editable": false,
        "run_control": {
          "frozen": true
        },
        "id": "qDGcBq5dTh3C"
      },
      "source": [
        "##### 2.1 Create a Pandas DataFrame to define the program"
      ]
    },
    {
      "cell_type": "code",
      "metadata": {
        "ExecuteTime": {
          "end_time": "2021-03-07T19:45:39.265016Z",
          "start_time": "2021-03-07T19:45:39.238767Z"
        },
        "scrolled": true,
        "colab": {
          "base_uri": "https://localhost:8080/",
          "height": 143
        },
        "id": "hPXP9y0OTh3C",
        "outputId": "645ae148-b3f2-4a7b-d10f-9fa98ad98f1c"
      },
      "source": [
        "program =\\\n",
        "pd.DataFrame(\n",
        "[\n",
        " {\n",
        "     'State': '0',\n",
        "      'Read': 'blank',\n",
        "      'Write_instruction': '1',\n",
        "      'Move_instruction': 'R',\n",
        "      'New_State': '1',\n",
        " },\n",
        " {\n",
        "     'State': '1',\n",
        "      'Read': 'blank',\n",
        "      'Write_instruction': '1',\n",
        "      'Move_instruction': 'R',\n",
        "      'New_State': '2',\n",
        " },\n",
        " {\n",
        "     'State': '2',\n",
        "      'Read': 'blank',\n",
        "      'Write_instruction': '1',\n",
        "      'Move_instruction': 'R',\n",
        "      'New_State': 'Halt',\n",
        " }\n",
        "]\n",
        ")\n",
        "\n",
        "program"
      ],
      "execution_count": null,
      "outputs": [
        {
          "output_type": "execute_result",
          "data": {
            "text/html": [
              "<div>\n",
              "<style scoped>\n",
              "    .dataframe tbody tr th:only-of-type {\n",
              "        vertical-align: middle;\n",
              "    }\n",
              "\n",
              "    .dataframe tbody tr th {\n",
              "        vertical-align: top;\n",
              "    }\n",
              "\n",
              "    .dataframe thead th {\n",
              "        text-align: right;\n",
              "    }\n",
              "</style>\n",
              "<table border=\"1\" class=\"dataframe\">\n",
              "  <thead>\n",
              "    <tr style=\"text-align: right;\">\n",
              "      <th></th>\n",
              "      <th>State</th>\n",
              "      <th>Read</th>\n",
              "      <th>Write_instruction</th>\n",
              "      <th>Move_instruction</th>\n",
              "      <th>New_State</th>\n",
              "    </tr>\n",
              "  </thead>\n",
              "  <tbody>\n",
              "    <tr>\n",
              "      <th>0</th>\n",
              "      <td>0</td>\n",
              "      <td>blank</td>\n",
              "      <td>1</td>\n",
              "      <td>R</td>\n",
              "      <td>1</td>\n",
              "    </tr>\n",
              "    <tr>\n",
              "      <th>1</th>\n",
              "      <td>1</td>\n",
              "      <td>blank</td>\n",
              "      <td>1</td>\n",
              "      <td>R</td>\n",
              "      <td>2</td>\n",
              "    </tr>\n",
              "    <tr>\n",
              "      <th>2</th>\n",
              "      <td>2</td>\n",
              "      <td>blank</td>\n",
              "      <td>1</td>\n",
              "      <td>R</td>\n",
              "      <td>Halt</td>\n",
              "    </tr>\n",
              "  </tbody>\n",
              "</table>\n",
              "</div>"
            ],
            "text/plain": [
              "  State   Read Write_instruction Move_instruction New_State\n",
              "0     0  blank                 1                R         1\n",
              "1     1  blank                 1                R         2\n",
              "2     2  blank                 1                R      Halt"
            ]
          },
          "metadata": {
            "tags": []
          },
          "execution_count": 31
        }
      ]
    },
    {
      "cell_type": "code",
      "metadata": {
        "ExecuteTime": {
          "end_time": "2021-03-07T19:45:39.275446Z",
          "start_time": "2021-03-07T19:45:39.268185Z"
        },
        "code_folding": [],
        "id": "bbannwWwTh3C"
      },
      "source": [
        "def get_instruction(program, state, symbol_read):\n",
        "    \"\"\"\n",
        "    Get the program instructions given the given state and symbol input\n",
        "    \"\"\"\n",
        "    \n",
        "    # identify state and current input on the program\n",
        "    current_state_mask = program['State'] == state\n",
        "    symbol_read_mask = program['Read'] == symbol_read\n",
        "\n",
        "    mask = current_state_mask & symbol_read_mask\n",
        "    assert mask.sum() == 1, \"Invalid instructions\" \n",
        "    \n",
        "    features = ['Write_instruction', 'Move_instruction', 'New_State']\n",
        "    \n",
        "    return program[mask][features]"
      ],
      "execution_count": null,
      "outputs": []
    },
    {
      "cell_type": "markdown",
      "metadata": {
        "deletable": false,
        "editable": false,
        "run_control": {
          "frozen": true
        },
        "id": "X9RJB9q-Th3C"
      },
      "source": [
        "Example"
      ]
    },
    {
      "cell_type": "code",
      "metadata": {
        "ExecuteTime": {
          "end_time": "2021-03-07T19:45:39.295698Z",
          "start_time": "2021-03-07T19:45:39.278540Z"
        },
        "colab": {
          "base_uri": "https://localhost:8080/",
          "height": 301
        },
        "id": "RbZAGRmlTh3C",
        "outputId": "ccb318fb-0d96-4a62-aa85-7c327f811274"
      },
      "source": [
        "get_instruction(program, '1', 'blank')"
      ],
      "execution_count": null,
      "outputs": [
        {
          "output_type": "error",
          "ename": "AssertionError",
          "evalue": "ignored",
          "traceback": [
            "\u001b[0;31m---------------------------------------------------------------------------\u001b[0m",
            "\u001b[0;31mAssertionError\u001b[0m                            Traceback (most recent call last)",
            "\u001b[0;32m<ipython-input-72-a58310726a31>\u001b[0m in \u001b[0;36m<module>\u001b[0;34m()\u001b[0m\n\u001b[0;32m----> 1\u001b[0;31m \u001b[0mget_instruction\u001b[0m\u001b[0;34m(\u001b[0m\u001b[0mprogram\u001b[0m\u001b[0;34m,\u001b[0m \u001b[0;34m'1'\u001b[0m\u001b[0;34m,\u001b[0m \u001b[0;34m'blank'\u001b[0m\u001b[0;34m)\u001b[0m\u001b[0;34m\u001b[0m\u001b[0;34m\u001b[0m\u001b[0m\n\u001b[0m",
            "\u001b[0;32m<ipython-input-71-4bb84f8ab0f0>\u001b[0m in \u001b[0;36mget_instruction\u001b[0;34m(program, state, symbol_read)\u001b[0m\n\u001b[1;32m      9\u001b[0m \u001b[0;34m\u001b[0m\u001b[0m\n\u001b[1;32m     10\u001b[0m     \u001b[0mmask\u001b[0m \u001b[0;34m=\u001b[0m \u001b[0mcurrent_state_mask\u001b[0m \u001b[0;34m&\u001b[0m \u001b[0msymbol_read_mask\u001b[0m\u001b[0;34m\u001b[0m\u001b[0;34m\u001b[0m\u001b[0m\n\u001b[0;32m---> 11\u001b[0;31m     \u001b[0;32massert\u001b[0m \u001b[0mmask\u001b[0m\u001b[0;34m.\u001b[0m\u001b[0msum\u001b[0m\u001b[0;34m(\u001b[0m\u001b[0;34m)\u001b[0m \u001b[0;34m==\u001b[0m \u001b[0;36m1\u001b[0m\u001b[0;34m,\u001b[0m \u001b[0;34m\"Invalid instructions\"\u001b[0m\u001b[0;34m\u001b[0m\u001b[0;34m\u001b[0m\u001b[0m\n\u001b[0m\u001b[1;32m     12\u001b[0m \u001b[0;34m\u001b[0m\u001b[0m\n\u001b[1;32m     13\u001b[0m     \u001b[0mfeatures\u001b[0m \u001b[0;34m=\u001b[0m \u001b[0;34m[\u001b[0m\u001b[0;34m'Write_instruction'\u001b[0m\u001b[0;34m,\u001b[0m \u001b[0;34m'Move_instruction'\u001b[0m\u001b[0;34m,\u001b[0m \u001b[0;34m'New_State'\u001b[0m\u001b[0;34m]\u001b[0m\u001b[0;34m\u001b[0m\u001b[0;34m\u001b[0m\u001b[0m\n",
            "\u001b[0;31mAssertionError\u001b[0m: Invalid instructions"
          ]
        }
      ]
    },
    {
      "cell_type": "markdown",
      "metadata": {
        "deletable": false,
        "editable": false,
        "run_control": {
          "frozen": true
        },
        "id": "nETzTX0KTh3D"
      },
      "source": [
        "#### 3. Assign variables to each instruction and to the new state"
      ]
    },
    {
      "cell_type": "code",
      "metadata": {
        "ExecuteTime": {
          "end_time": "2021-03-07T19:45:39.343448Z",
          "start_time": "2021-03-07T19:45:39.298325Z"
        },
        "colab": {
          "base_uri": "https://localhost:8080/",
          "height": 319
        },
        "id": "PpoypQimTh3D",
        "outputId": "c784861c-7fcb-4447-b3ab-3567aa518d12"
      },
      "source": [
        "write_instruction = get_instruction(program, '1', 'blank')['Write_instruction']\n",
        "write_instruction"
      ],
      "execution_count": null,
      "outputs": [
        {
          "output_type": "error",
          "ename": "AssertionError",
          "evalue": "ignored",
          "traceback": [
            "\u001b[0;31m---------------------------------------------------------------------------\u001b[0m",
            "\u001b[0;31mAssertionError\u001b[0m                            Traceback (most recent call last)",
            "\u001b[0;32m<ipython-input-62-92ba6eefb73f>\u001b[0m in \u001b[0;36m<module>\u001b[0;34m()\u001b[0m\n\u001b[0;32m----> 1\u001b[0;31m \u001b[0mwrite_instruction\u001b[0m \u001b[0;34m=\u001b[0m \u001b[0mget_instruction\u001b[0m\u001b[0;34m(\u001b[0m\u001b[0mprogram\u001b[0m\u001b[0;34m,\u001b[0m \u001b[0;34m'1'\u001b[0m\u001b[0;34m,\u001b[0m \u001b[0;34m'blank'\u001b[0m\u001b[0;34m)\u001b[0m\u001b[0;34m[\u001b[0m\u001b[0;34m'Write_instruction'\u001b[0m\u001b[0;34m]\u001b[0m\u001b[0;34m\u001b[0m\u001b[0;34m\u001b[0m\u001b[0m\n\u001b[0m\u001b[1;32m      2\u001b[0m \u001b[0mwrite_instruction\u001b[0m\u001b[0;34m\u001b[0m\u001b[0;34m\u001b[0m\u001b[0m\n",
            "\u001b[0;32m<ipython-input-61-86176eaaee2a>\u001b[0m in \u001b[0;36mget_instruction\u001b[0;34m(program, state, symbol_read)\u001b[0m\n\u001b[1;32m      9\u001b[0m \u001b[0;34m\u001b[0m\u001b[0m\n\u001b[1;32m     10\u001b[0m     \u001b[0mmask\u001b[0m \u001b[0;34m=\u001b[0m \u001b[0mcurrent_state_mask\u001b[0m \u001b[0;34m&\u001b[0m \u001b[0msymbol_read_mask\u001b[0m\u001b[0;34m\u001b[0m\u001b[0;34m\u001b[0m\u001b[0m\n\u001b[0;32m---> 11\u001b[0;31m     \u001b[0;32massert\u001b[0m \u001b[0mmask\u001b[0m\u001b[0;34m.\u001b[0m\u001b[0msum\u001b[0m\u001b[0;34m(\u001b[0m\u001b[0;34m)\u001b[0m \u001b[0;34m==\u001b[0m \u001b[0;36m1\u001b[0m\u001b[0;34m,\u001b[0m \u001b[0;34m\"Invalid instructions\"\u001b[0m\u001b[0;34m\u001b[0m\u001b[0;34m\u001b[0m\u001b[0m\n\u001b[0m\u001b[1;32m     12\u001b[0m \u001b[0;34m\u001b[0m\u001b[0m\n\u001b[1;32m     13\u001b[0m     \u001b[0mfeatures\u001b[0m \u001b[0;34m=\u001b[0m \u001b[0;34m[\u001b[0m\u001b[0;34m'Write_instruction'\u001b[0m\u001b[0;34m,\u001b[0m \u001b[0;34m'Move_instruction'\u001b[0m\u001b[0;34m,\u001b[0m \u001b[0;34m'New_State'\u001b[0m\u001b[0;34m]\u001b[0m\u001b[0;34m\u001b[0m\u001b[0;34m\u001b[0m\u001b[0m\n",
            "\u001b[0;31mAssertionError\u001b[0m: Invalid instructions"
          ]
        }
      ]
    },
    {
      "cell_type": "code",
      "metadata": {
        "ExecuteTime": {
          "end_time": "2021-03-07T19:45:39.392915Z",
          "start_time": "2021-03-07T19:45:39.368443Z"
        },
        "id": "AH7II2yMTh3E",
        "outputId": "c263f48b-264a-460b-8f92-3ed668034eba"
      },
      "source": [
        "type(write_instruction)"
      ],
      "execution_count": null,
      "outputs": [
        {
          "output_type": "execute_result",
          "data": {
            "text/plain": [
              "pandas.core.series.Series"
            ]
          },
          "metadata": {
            "tags": []
          },
          "execution_count": 11
        }
      ]
    },
    {
      "cell_type": "markdown",
      "metadata": {
        "deletable": false,
        "editable": false,
        "run_control": {
          "frozen": true
        },
        "id": "FDnfjjYOTh3E"
      },
      "source": [
        "Get the scalar value"
      ]
    },
    {
      "cell_type": "code",
      "metadata": {
        "ExecuteTime": {
          "end_time": "2021-03-07T19:45:39.417384Z",
          "start_time": "2021-03-07T19:45:39.403266Z"
        },
        "id": "8kW9KTDTTh3E",
        "outputId": "a81668ca-56df-4c05-fd9f-d84760ce4a26"
      },
      "source": [
        "write_instruction.iat[0]"
      ],
      "execution_count": null,
      "outputs": [
        {
          "output_type": "execute_result",
          "data": {
            "text/plain": [
              "'1'"
            ]
          },
          "metadata": {
            "tags": []
          },
          "execution_count": 12
        }
      ]
    },
    {
      "cell_type": "code",
      "metadata": {
        "ExecuteTime": {
          "end_time": "2021-03-07T19:45:39.434215Z",
          "start_time": "2021-03-07T19:45:39.423554Z"
        },
        "id": "vEeeM3krTh3E",
        "outputId": "3c03aa5a-1c63-434d-8070-1a7d4d25d9cd"
      },
      "source": [
        "write_instruction.iloc[0]"
      ],
      "execution_count": null,
      "outputs": [
        {
          "output_type": "execute_result",
          "data": {
            "text/plain": [
              "'1'"
            ]
          },
          "metadata": {
            "tags": []
          },
          "execution_count": 13
        }
      ]
    },
    {
      "cell_type": "markdown",
      "metadata": {
        "deletable": false,
        "editable": false,
        "run_control": {
          "frozen": true
        },
        "id": "uZK1DsDrTh3F"
      },
      "source": [
        "Do the same for the Move instruction and the next stage"
      ]
    },
    {
      "cell_type": "code",
      "metadata": {
        "id": "JI_vuu6UTh3F"
      },
      "source": [
        ""
      ],
      "execution_count": null,
      "outputs": []
    },
    {
      "cell_type": "markdown",
      "metadata": {
        "deletable": false,
        "editable": false,
        "run_control": {
          "frozen": true
        },
        "id": "vzMDIWNCTh3F"
      },
      "source": [
        "We can also extract a Numpy MultiDim-Array from the Pandas DataFrame "
      ]
    },
    {
      "cell_type": "code",
      "metadata": {
        "ExecuteTime": {
          "end_time": "2021-03-07T19:45:39.475649Z",
          "start_time": "2021-03-07T19:45:39.438232Z"
        },
        "colab": {
          "base_uri": "https://localhost:8080/",
          "height": 81
        },
        "id": "ZPmsZHkSTh3F",
        "outputId": "0d0e4e41-b07f-4a43-b7fd-ec69532380b1"
      },
      "source": [
        "get_instruction(program, '1', 'blank')"
      ],
      "execution_count": null,
      "outputs": [
        {
          "output_type": "execute_result",
          "data": {
            "text/html": [
              "<div>\n",
              "<style scoped>\n",
              "    .dataframe tbody tr th:only-of-type {\n",
              "        vertical-align: middle;\n",
              "    }\n",
              "\n",
              "    .dataframe tbody tr th {\n",
              "        vertical-align: top;\n",
              "    }\n",
              "\n",
              "    .dataframe thead th {\n",
              "        text-align: right;\n",
              "    }\n",
              "</style>\n",
              "<table border=\"1\" class=\"dataframe\">\n",
              "  <thead>\n",
              "    <tr style=\"text-align: right;\">\n",
              "      <th></th>\n",
              "      <th>Write_instruction</th>\n",
              "      <th>Move_instruction</th>\n",
              "      <th>New_State</th>\n",
              "    </tr>\n",
              "  </thead>\n",
              "  <tbody>\n",
              "    <tr>\n",
              "      <th>1</th>\n",
              "      <td>1</td>\n",
              "      <td>R</td>\n",
              "      <td>2</td>\n",
              "    </tr>\n",
              "  </tbody>\n",
              "</table>\n",
              "</div>"
            ],
            "text/plain": [
              "  Write_instruction Move_instruction New_State\n",
              "1                 1                R         2"
            ]
          },
          "metadata": {
            "tags": []
          },
          "execution_count": 37
        }
      ]
    },
    {
      "cell_type": "code",
      "metadata": {
        "ExecuteTime": {
          "end_time": "2021-03-07T19:45:39.503508Z",
          "start_time": "2021-03-07T19:45:39.481287Z"
        },
        "colab": {
          "base_uri": "https://localhost:8080/"
        },
        "id": "M2TjZVQoTh3G",
        "outputId": "6e17b541-b7d2-4e30-b322-ef74235bd0f5"
      },
      "source": [
        "array = get_instruction(program, '1', 'blank').values\n",
        "array"
      ],
      "execution_count": null,
      "outputs": [
        {
          "output_type": "execute_result",
          "data": {
            "text/plain": [
              "array([['1', 'R', '2']], dtype=object)"
            ]
          },
          "metadata": {
            "tags": []
          },
          "execution_count": 38
        }
      ]
    },
    {
      "cell_type": "code",
      "metadata": {
        "ExecuteTime": {
          "end_time": "2021-03-07T19:45:39.523425Z",
          "start_time": "2021-03-07T19:45:39.512727Z"
        },
        "colab": {
          "base_uri": "https://localhost:8080/"
        },
        "id": "sSI9TOzcTh3G",
        "outputId": "ae80b4fe-59a0-4754-bdea-93ab3782c5a8"
      },
      "source": [
        "array[0]"
      ],
      "execution_count": null,
      "outputs": [
        {
          "output_type": "execute_result",
          "data": {
            "text/plain": [
              "array(['1', 'R', '2'], dtype=object)"
            ]
          },
          "metadata": {
            "tags": []
          },
          "execution_count": 39
        }
      ]
    },
    {
      "cell_type": "code",
      "metadata": {
        "id": "HngZ-wCaTh3H"
      },
      "source": [
        ""
      ],
      "execution_count": null,
      "outputs": []
    },
    {
      "cell_type": "markdown",
      "metadata": {
        "deletable": false,
        "editable": false,
        "run_control": {
          "frozen": true
        },
        "id": "7uwV8q8MTh3H"
      },
      "source": [
        "#### 4. Define a function to update the tape"
      ]
    },
    {
      "cell_type": "markdown",
      "metadata": {
        "deletable": false,
        "editable": false,
        "run_control": {
          "frozen": true
        },
        "id": "G35CbkccTh3H"
      },
      "source": [
        "Given a tape, which is of type list, define a function to update the list given an index"
      ]
    },
    {
      "cell_type": "code",
      "metadata": {
        "ExecuteTime": {
          "end_time": "2021-03-07T19:45:39.534984Z",
          "start_time": "2021-03-07T19:45:39.529292Z"
        },
        "code_folding": [],
        "id": "MLv_w-KVTh3H"
      },
      "source": [
        "def update_tape(tape, position, value):\n",
        "    \"\"\"\n",
        "    Updates tape at current position with given value\n",
        "    \"\"\"\n",
        "    \n",
        "    tape[position] = value\n",
        "    \n",
        "    return tape"
      ],
      "execution_count": null,
      "outputs": []
    },
    {
      "cell_type": "markdown",
      "metadata": {
        "deletable": false,
        "editable": false,
        "run_control": {
          "frozen": true
        },
        "id": "R-_GLrL_Th3H"
      },
      "source": [
        "#### 5. Define a function to update the ```header```"
      ]
    },
    {
      "cell_type": "markdown",
      "metadata": {
        "deletable": false,
        "editable": false,
        "run_control": {
          "frozen": true
        },
        "id": "GR6OAjWdTh3I"
      },
      "source": [
        "The move on the tape can only be Left or Right ('L' or 'R'). Define a function that updates the ```header```position accordingly."
      ]
    },
    {
      "cell_type": "code",
      "metadata": {
        "ExecuteTime": {
          "end_time": "2021-03-07T19:45:39.548390Z",
          "start_time": "2021-03-07T19:45:39.540289Z"
        },
        "code_folding": [],
        "id": "0Wq2Ad4oTh3I"
      },
      "source": [
        "def update_head(position, move, tape_size):\n",
        "    \"\"\"\n",
        "    Update head position\n",
        "    \"\"\"\n",
        "\n",
        "    # Compute next position\n",
        "    if move == 'L':\n",
        "       next_position = position - 1\n",
        "    elif move == 'R':\n",
        "        next_position = position + 1\n",
        "\n",
        "    # Validation\n",
        "    assert next_position >= 0 and next_position < tape_size,\\\n",
        "    \"Invalid head position\"\n",
        "\n",
        "    return next_position"
      ],
      "execution_count": null,
      "outputs": []
    },
    {
      "cell_type": "markdown",
      "metadata": {
        "deletable": false,
        "editable": false,
        "run_control": {
          "frozen": true
        },
        "id": "VCGYXDeATh3I"
      },
      "source": [
        "### Compile every step to a single function"
      ]
    },
    {
      "cell_type": "markdown",
      "metadata": {
        "deletable": false,
        "editable": false,
        "run_control": {
          "frozen": true
        },
        "id": "GUB7kAo5Th3I"
      },
      "source": [
        "#### 6.  Define a function that given a program, a tape, the ```header```and a program state computes the following:\n",
        "1. Reads the value on the tape given the ```header````\n",
        "2. Obtain the program instructions given the current state and the symbol read\n",
        "3. Update the tape\n",
        "5. Update the ```header````\n",
        "6. Return the new ```header``` position, the next state, and the updated tape"
      ]
    },
    {
      "cell_type": "code",
      "metadata": {
        "ExecuteTime": {
          "end_time": "2021-03-07T19:56:17.200536Z",
          "start_time": "2021-03-07T19:56:17.192246Z"
        },
        "code_folding": [],
        "id": "z0WZtLfGTh3I"
      },
      "source": [
        "def execute_step(program, tape, head, state) :\n",
        "    \"\"\"\n",
        "    Executes a single step of the turing machine\n",
        "    \"\"\"\n",
        "    initial_msg = \"\\t\\t# Initial State: {}\".format(state)\n",
        "    print(initial_msg)\n",
        "    \n",
        "    # Read tape\n",
        "    symbol_read = read_tape(head, tape)\n",
        "    \n",
        "    # Load instructions according to reading\n",
        "    instructions = get_instruction(program, state, symbol_read)\n",
        "    \n",
        "    # Unfold instructions\n",
        "    write_instruction, move_instruction, next_state = instructions.values[0]\n",
        "    \n",
        "    # Update tape\n",
        "    tape = update_tape(tape, head, write_instruction)\n",
        "    \n",
        "    # Update head\n",
        "    tape_size = len(tape)\n",
        "    next_position = update_head(head, move_instruction, tape_size)\n",
        "    \n",
        "    return next_position, next_state, tape"
      ],
      "execution_count": null,
      "outputs": []
    },
    {
      "cell_type": "markdown",
      "metadata": {
        "deletable": false,
        "editable": false,
        "run_control": {
          "frozen": true
        },
        "id": "lIXN-jn2Th3I"
      },
      "source": [
        "### Almost Done! "
      ]
    },
    {
      "cell_type": "markdown",
      "metadata": {
        "deletable": false,
        "editable": false,
        "run_control": {
          "frozen": true
        },
        "id": "hCsB-GnKTh3I"
      },
      "source": [
        "#### 7. Define a function to execute the program "
      ]
    },
    {
      "cell_type": "code",
      "metadata": {
        "ExecuteTime": {
          "end_time": "2021-03-07T19:45:39.580287Z",
          "start_time": "2021-03-07T19:45:39.566078Z"
        },
        "code_folding": [],
        "id": "leiuBgaLTh3J"
      },
      "source": [
        "def run_machine(program, tape, head=0, state='0'):\n",
        "    \"\"\"\n",
        "    The main function\n",
        "    \"\"\"\n",
        "\n",
        "    iterator = 1\n",
        "    while state != 'Halt':\n",
        "\n",
        "        print(\"\"\"## Iteration : {}\n",
        "        # Tape  : {}\n",
        "        # Head is at position : {}\"\"\".format(iterator,\n",
        "                                             tape,\n",
        "                                             head))\n",
        "\n",
        "        # Execute Step\n",
        "        next_position, next_state, tape = execute_step(program, tape, head, state)\n",
        "\n",
        "        # Updates\n",
        "        head = next_position\n",
        "        state = next_state\n",
        "        iterator += 1\n",
        "        \n",
        "    print('## Program Finished')\n",
        "    return tape"
      ],
      "execution_count": null,
      "outputs": []
    },
    {
      "cell_type": "code",
      "metadata": {
        "ExecuteTime": {
          "end_time": "2021-03-07T19:45:39.616281Z",
          "start_time": "2021-03-07T19:45:39.586002Z"
        },
        "id": "ro3NvAyZTh3J",
        "outputId": "281557a2-5421-40d2-fbd8-3399158fd4a1"
      },
      "source": [
        "program"
      ],
      "execution_count": null,
      "outputs": [
        {
          "output_type": "execute_result",
          "data": {
            "text/html": [
              "<div>\n",
              "<style scoped>\n",
              "    .dataframe tbody tr th:only-of-type {\n",
              "        vertical-align: middle;\n",
              "    }\n",
              "\n",
              "    .dataframe tbody tr th {\n",
              "        vertical-align: top;\n",
              "    }\n",
              "\n",
              "    .dataframe thead th {\n",
              "        text-align: right;\n",
              "    }\n",
              "</style>\n",
              "<table border=\"1\" class=\"dataframe\">\n",
              "  <thead>\n",
              "    <tr style=\"text-align: right;\">\n",
              "      <th></th>\n",
              "      <th>State</th>\n",
              "      <th>Read</th>\n",
              "      <th>Write_instruction</th>\n",
              "      <th>Move_instruction</th>\n",
              "      <th>New_State</th>\n",
              "    </tr>\n",
              "  </thead>\n",
              "  <tbody>\n",
              "    <tr>\n",
              "      <th>0</th>\n",
              "      <td>0</td>\n",
              "      <td>blank</td>\n",
              "      <td>1</td>\n",
              "      <td>R</td>\n",
              "      <td>1</td>\n",
              "    </tr>\n",
              "    <tr>\n",
              "      <th>1</th>\n",
              "      <td>1</td>\n",
              "      <td>blank</td>\n",
              "      <td>1</td>\n",
              "      <td>R</td>\n",
              "      <td>2</td>\n",
              "    </tr>\n",
              "    <tr>\n",
              "      <th>2</th>\n",
              "      <td>2</td>\n",
              "      <td>blank</td>\n",
              "      <td>1</td>\n",
              "      <td>R</td>\n",
              "      <td>Halt</td>\n",
              "    </tr>\n",
              "  </tbody>\n",
              "</table>\n",
              "</div>"
            ],
            "text/plain": [
              "  State   Read Write_instruction Move_instruction New_State\n",
              "0     0  blank                 1                R         1\n",
              "1     1  blank                 1                R         2\n",
              "2     2  blank                 1                R      Halt"
            ]
          },
          "metadata": {
            "tags": []
          },
          "execution_count": 21
        }
      ]
    },
    {
      "cell_type": "code",
      "metadata": {
        "ExecuteTime": {
          "end_time": "2021-03-07T19:45:39.656842Z",
          "start_time": "2021-03-07T19:45:39.622531Z"
        },
        "colab": {
          "base_uri": "https://localhost:8080/"
        },
        "id": "EA--SOANTh3K",
        "outputId": "0b7708f9-f8e8-405b-924a-aaedb9d32fce"
      },
      "source": [
        "tape = ['blank' for _ in range(10)]\n",
        "run_machine(program, tape)"
      ],
      "execution_count": null,
      "outputs": [
        {
          "output_type": "stream",
          "text": [
            "## Iteration : 1\n",
            "        # Tape  : ['blank', 'blank', 'blank', 'blank', 'blank', 'blank', 'blank', 'blank', 'blank', 'blank']\n",
            "        # Head is at position : 0\n",
            "## Iteration : 2\n",
            "        # Tape  : ['1', 'blank', 'blank', 'blank', 'blank', 'blank', 'blank', 'blank', 'blank', 'blank']\n",
            "        # Head is at position : 1\n",
            "## Iteration : 3\n",
            "        # Tape  : ['1', '1', 'blank', 'blank', 'blank', 'blank', 'blank', 'blank', 'blank', 'blank']\n",
            "        # Head is at position : 2\n",
            "## Program Finished\n"
          ],
          "name": "stdout"
        },
        {
          "output_type": "execute_result",
          "data": {
            "text/plain": [
              "['1', '1', '1', 'blank', 'blank', 'blank', 'blank', 'blank', 'blank', 'blank']"
            ]
          },
          "metadata": {
            "tags": []
          },
          "execution_count": 44
        }
      ]
    },
    {
      "cell_type": "markdown",
      "metadata": {
        "deletable": false,
        "editable": false,
        "run_control": {
          "frozen": true
        },
        "id": "cDNp3OmVTh3K"
      },
      "source": [
        "### Exercícios"
      ]
    },
    {
      "cell_type": "markdown",
      "metadata": {
        "deletable": false,
        "editable": false,
        "run_control": {
          "frozen": true
        },
        "id": "txQYLIjETh3K"
      },
      "source": [
        "### Define um Programa que devolva a seguinte tape\n",
        "\n",
        "\n",
        "```python\n",
        "['blank', 'blank', 'blank', 'blank', '1', '1', '1', 'blank', 'blank', 'blank']\n",
        "```\n"
      ]
    },
    {
      "cell_type": "code",
      "metadata": {
        "ExecuteTime": {
          "end_time": "2021-03-07T19:45:39.690324Z",
          "start_time": "2021-03-07T19:45:39.661545Z"
        },
        "id": "dwqDYhvTTh3K",
        "colab": {
          "base_uri": "https://localhost:8080/"
        },
        "outputId": "fa8cd530-688b-4667-f0ff-44f345203032"
      },
      "source": [
        "run_machine(program, tape, head=4)"
      ],
      "execution_count": null,
      "outputs": [
        {
          "output_type": "stream",
          "text": [
            "## Iteration : 1\n",
            "        # Tape  : ['1', '1', '1', 'blank', 'blank', 'blank', 'blank', 'blank', 'blank', 'blank']\n",
            "        # Head is at position : 4\n",
            "## Iteration : 2\n",
            "        # Tape  : ['1', '1', '1', 'blank', '1', 'blank', 'blank', 'blank', 'blank', 'blank']\n",
            "        # Head is at position : 5\n",
            "## Iteration : 3\n",
            "        # Tape  : ['1', '1', '1', 'blank', '1', '1', 'blank', 'blank', 'blank', 'blank']\n",
            "        # Head is at position : 6\n",
            "## Program Finished\n"
          ],
          "name": "stdout"
        },
        {
          "output_type": "execute_result",
          "data": {
            "text/plain": [
              "['1', '1', '1', 'blank', '1', '1', '1', 'blank', 'blank', 'blank']"
            ]
          },
          "metadata": {
            "tags": []
          },
          "execution_count": 45
        }
      ]
    },
    {
      "cell_type": "markdown",
      "metadata": {
        "deletable": false,
        "editable": false,
        "run_control": {
          "frozen": true
        },
        "id": "ojxJdo1KTh3K"
      },
      "source": [
        "### Define um Programa que altere todos os digitos consecutivos ```1``` em uma tape para ```0``` ignorando ```blank```\n",
        "\n",
        "\n",
        "Exemplo, se a tape possuir o seguinte \n",
        "```python\n",
        "['blank', '1', '1', '1', 'blank', 'blank', 'blank', 'blank', 'blank', 'blank', 'blank']\n",
        "```\n",
        "  \n",
        "deve retornar\n",
        "```python\n",
        "['blank', '0', '0', '0', 'blank', 'blank', 'blank', 'blank', 'blank', 'blank', 'blank']\n",
        "```"
      ]
    },
    {
      "cell_type": "code",
      "metadata": {
        "ExecuteTime": {
          "end_time": "2021-03-07T19:56:20.458571Z",
          "start_time": "2021-03-07T19:56:20.431075Z"
        },
        "id": "bZL4QDKJTh3K",
        "colab": {
          "base_uri": "https://localhost:8080/",
          "height": 175
        },
        "outputId": "bc9b283c-dca5-484e-a1fe-3e3e4b322062"
      },
      "source": [
        "program =\\\n",
        "pd.DataFrame(\n",
        "[\n",
        "    {\n",
        "      'State': '0',\n",
        "      'Read': 'blank',\n",
        "      'Write_instruction': 'blank',\n",
        "      'Move_instruction': 'R',\n",
        "      'New_State': '0', \n",
        "    },\n",
        "    {\n",
        "      'State': '0',\n",
        "      'Read': '1',\n",
        "      'Write_instruction': '0',\n",
        "      'Move_instruction': 'R',\n",
        "      'New_State': '1', \n",
        "    },\n",
        "    {\n",
        "      'State': '1',\n",
        "      'Read': '1',\n",
        "      'Write_instruction': '0',\n",
        "      'Move_instruction': 'R',\n",
        "      'New_State': '1', \n",
        "    },\n",
        "    {\n",
        "      'State': '0',\n",
        "      'Read': 'blank',\n",
        "      'Write_instruction': 'blank',\n",
        "      'Move_instruction': 'R',\n",
        "      'New_State': 'Halt', \n",
        "    },\n",
        "]\n",
        ")\n",
        "\n",
        "program"
      ],
      "execution_count": null,
      "outputs": [
        {
          "output_type": "execute_result",
          "data": {
            "text/html": [
              "<div>\n",
              "<style scoped>\n",
              "    .dataframe tbody tr th:only-of-type {\n",
              "        vertical-align: middle;\n",
              "    }\n",
              "\n",
              "    .dataframe tbody tr th {\n",
              "        vertical-align: top;\n",
              "    }\n",
              "\n",
              "    .dataframe thead th {\n",
              "        text-align: right;\n",
              "    }\n",
              "</style>\n",
              "<table border=\"1\" class=\"dataframe\">\n",
              "  <thead>\n",
              "    <tr style=\"text-align: right;\">\n",
              "      <th></th>\n",
              "      <th>State</th>\n",
              "      <th>Read</th>\n",
              "      <th>Write_instruction</th>\n",
              "      <th>Move_instruction</th>\n",
              "      <th>New_State</th>\n",
              "    </tr>\n",
              "  </thead>\n",
              "  <tbody>\n",
              "    <tr>\n",
              "      <th>0</th>\n",
              "      <td>0</td>\n",
              "      <td>blank</td>\n",
              "      <td>blank</td>\n",
              "      <td>R</td>\n",
              "      <td>0</td>\n",
              "    </tr>\n",
              "    <tr>\n",
              "      <th>1</th>\n",
              "      <td>0</td>\n",
              "      <td>1</td>\n",
              "      <td>0</td>\n",
              "      <td>R</td>\n",
              "      <td>1</td>\n",
              "    </tr>\n",
              "    <tr>\n",
              "      <th>2</th>\n",
              "      <td>1</td>\n",
              "      <td>1</td>\n",
              "      <td>0</td>\n",
              "      <td>R</td>\n",
              "      <td>1</td>\n",
              "    </tr>\n",
              "    <tr>\n",
              "      <th>3</th>\n",
              "      <td>0</td>\n",
              "      <td>blank</td>\n",
              "      <td>blank</td>\n",
              "      <td>R</td>\n",
              "      <td>Halt</td>\n",
              "    </tr>\n",
              "  </tbody>\n",
              "</table>\n",
              "</div>"
            ],
            "text/plain": [
              "  State   Read Write_instruction Move_instruction New_State\n",
              "0     0  blank             blank                R         0\n",
              "1     0      1                 0                R         1\n",
              "2     1      1                 0                R         1\n",
              "3     0  blank             blank                R      Halt"
            ]
          },
          "metadata": {
            "tags": []
          },
          "execution_count": 48
        }
      ]
    },
    {
      "cell_type": "code",
      "metadata": {
        "ExecuteTime": {
          "end_time": "2021-03-07T19:56:42.857660Z",
          "start_time": "2021-03-07T19:56:42.829001Z"
        },
        "id": "E9Unjk1YTh3L",
        "colab": {
          "base_uri": "https://localhost:8080/",
          "height": 674
        },
        "outputId": "6d9b3915-ad52-4c93-a5fd-93cf4b1de30f"
      },
      "source": [
        "tape = ['blank', '1', '1', '1', 'blank', 'blank', 'blank', 'blank', 'blank', 'blank', 'blank']\n",
        "run_machine(program, tape, 0)"
      ],
      "execution_count": null,
      "outputs": [
        {
          "output_type": "stream",
          "text": [
            "## Iteration : 1\n",
            "        # Tape  : ['blank', '1', '1', '1', 'blank', 'blank', 'blank', 'blank', 'blank', 'blank', 'blank']\n",
            "        # Head is at position : 0\n",
            "\t\t# Initial State: 0\n"
          ],
          "name": "stdout"
        },
        {
          "output_type": "error",
          "ename": "AssertionError",
          "evalue": "ignored",
          "traceback": [
            "\u001b[0;31m---------------------------------------------------------------------------\u001b[0m",
            "\u001b[0;31mAssertionError\u001b[0m                            Traceback (most recent call last)",
            "\u001b[0;32m<ipython-input-78-f61b9981c180>\u001b[0m in \u001b[0;36m<module>\u001b[0;34m()\u001b[0m\n\u001b[1;32m      1\u001b[0m \u001b[0mtape\u001b[0m \u001b[0;34m=\u001b[0m \u001b[0;34m[\u001b[0m\u001b[0;34m'blank'\u001b[0m\u001b[0;34m,\u001b[0m \u001b[0;34m'1'\u001b[0m\u001b[0;34m,\u001b[0m \u001b[0;34m'1'\u001b[0m\u001b[0;34m,\u001b[0m \u001b[0;34m'1'\u001b[0m\u001b[0;34m,\u001b[0m \u001b[0;34m'blank'\u001b[0m\u001b[0;34m,\u001b[0m \u001b[0;34m'blank'\u001b[0m\u001b[0;34m,\u001b[0m \u001b[0;34m'blank'\u001b[0m\u001b[0;34m,\u001b[0m \u001b[0;34m'blank'\u001b[0m\u001b[0;34m,\u001b[0m \u001b[0;34m'blank'\u001b[0m\u001b[0;34m,\u001b[0m \u001b[0;34m'blank'\u001b[0m\u001b[0;34m,\u001b[0m \u001b[0;34m'blank'\u001b[0m\u001b[0;34m]\u001b[0m\u001b[0;34m\u001b[0m\u001b[0;34m\u001b[0m\u001b[0m\n\u001b[0;32m----> 2\u001b[0;31m \u001b[0mrun_machine\u001b[0m\u001b[0;34m(\u001b[0m\u001b[0mprogram\u001b[0m\u001b[0;34m,\u001b[0m \u001b[0mtape\u001b[0m\u001b[0;34m,\u001b[0m \u001b[0;36m0\u001b[0m\u001b[0;34m)\u001b[0m\u001b[0;34m\u001b[0m\u001b[0;34m\u001b[0m\u001b[0m\n\u001b[0m",
            "\u001b[0;32m<ipython-input-73-3cbf4e0ae82a>\u001b[0m in \u001b[0;36mrun_machine\u001b[0;34m(program, tape, head, state)\u001b[0m\n\u001b[1;32m     14\u001b[0m \u001b[0;34m\u001b[0m\u001b[0m\n\u001b[1;32m     15\u001b[0m         \u001b[0;31m# Execute Step\u001b[0m\u001b[0;34m\u001b[0m\u001b[0;34m\u001b[0m\u001b[0;34m\u001b[0m\u001b[0m\n\u001b[0;32m---> 16\u001b[0;31m         \u001b[0mnext_position\u001b[0m\u001b[0;34m,\u001b[0m \u001b[0mnext_state\u001b[0m\u001b[0;34m,\u001b[0m \u001b[0mtape\u001b[0m \u001b[0;34m=\u001b[0m \u001b[0mexecute_step\u001b[0m\u001b[0;34m(\u001b[0m\u001b[0mprogram\u001b[0m\u001b[0;34m,\u001b[0m \u001b[0mtape\u001b[0m\u001b[0;34m,\u001b[0m \u001b[0mhead\u001b[0m\u001b[0;34m,\u001b[0m \u001b[0mstate\u001b[0m\u001b[0;34m)\u001b[0m\u001b[0;34m\u001b[0m\u001b[0;34m\u001b[0m\u001b[0m\n\u001b[0m\u001b[1;32m     17\u001b[0m \u001b[0;34m\u001b[0m\u001b[0m\n\u001b[1;32m     18\u001b[0m         \u001b[0;31m# Updates\u001b[0m\u001b[0;34m\u001b[0m\u001b[0;34m\u001b[0m\u001b[0;34m\u001b[0m\u001b[0m\n",
            "\u001b[0;32m<ipython-input-74-e0c369f6789c>\u001b[0m in \u001b[0;36mexecute_step\u001b[0;34m(program, tape, head, state)\u001b[0m\n\u001b[1;32m     10\u001b[0m \u001b[0;34m\u001b[0m\u001b[0m\n\u001b[1;32m     11\u001b[0m     \u001b[0;31m# Load instructions according to reading\u001b[0m\u001b[0;34m\u001b[0m\u001b[0;34m\u001b[0m\u001b[0;34m\u001b[0m\u001b[0m\n\u001b[0;32m---> 12\u001b[0;31m     \u001b[0minstructions\u001b[0m \u001b[0;34m=\u001b[0m \u001b[0mget_instruction\u001b[0m\u001b[0;34m(\u001b[0m\u001b[0mprogram\u001b[0m\u001b[0;34m,\u001b[0m \u001b[0mstate\u001b[0m\u001b[0;34m,\u001b[0m \u001b[0msymbol_read\u001b[0m\u001b[0;34m)\u001b[0m\u001b[0;34m\u001b[0m\u001b[0;34m\u001b[0m\u001b[0m\n\u001b[0m\u001b[1;32m     13\u001b[0m \u001b[0;34m\u001b[0m\u001b[0m\n\u001b[1;32m     14\u001b[0m     \u001b[0;31m# Unfold instructions\u001b[0m\u001b[0;34m\u001b[0m\u001b[0;34m\u001b[0m\u001b[0;34m\u001b[0m\u001b[0m\n",
            "\u001b[0;32m<ipython-input-71-4bb84f8ab0f0>\u001b[0m in \u001b[0;36mget_instruction\u001b[0;34m(program, state, symbol_read)\u001b[0m\n\u001b[1;32m      9\u001b[0m \u001b[0;34m\u001b[0m\u001b[0m\n\u001b[1;32m     10\u001b[0m     \u001b[0mmask\u001b[0m \u001b[0;34m=\u001b[0m \u001b[0mcurrent_state_mask\u001b[0m \u001b[0;34m&\u001b[0m \u001b[0msymbol_read_mask\u001b[0m\u001b[0;34m\u001b[0m\u001b[0;34m\u001b[0m\u001b[0m\n\u001b[0;32m---> 11\u001b[0;31m     \u001b[0;32massert\u001b[0m \u001b[0mmask\u001b[0m\u001b[0;34m.\u001b[0m\u001b[0msum\u001b[0m\u001b[0;34m(\u001b[0m\u001b[0;34m)\u001b[0m \u001b[0;34m==\u001b[0m \u001b[0;36m1\u001b[0m\u001b[0;34m,\u001b[0m \u001b[0;34m\"Invalid instructions\"\u001b[0m\u001b[0;34m\u001b[0m\u001b[0;34m\u001b[0m\u001b[0m\n\u001b[0m\u001b[1;32m     12\u001b[0m \u001b[0;34m\u001b[0m\u001b[0m\n\u001b[1;32m     13\u001b[0m     \u001b[0mfeatures\u001b[0m \u001b[0;34m=\u001b[0m \u001b[0;34m[\u001b[0m\u001b[0;34m'Write_instruction'\u001b[0m\u001b[0;34m,\u001b[0m \u001b[0;34m'Move_instruction'\u001b[0m\u001b[0;34m,\u001b[0m \u001b[0;34m'New_State'\u001b[0m\u001b[0;34m]\u001b[0m\u001b[0;34m\u001b[0m\u001b[0;34m\u001b[0m\u001b[0m\n",
            "\u001b[0;31mAssertionError\u001b[0m: Invalid instructions"
          ]
        }
      ]
    },
    {
      "cell_type": "markdown",
      "metadata": {
        "deletable": false,
        "editable": false,
        "run_control": {
          "frozen": true
        },
        "id": "2-Bn2ejsTh3L"
      },
      "source": [
        "### Define um Programa que some ```1``` a um número presente numa tape  \n",
        "\n",
        "Exemplo, se a tape possuir o seguinte \n",
        "```python\n",
        "['blank', '1', '1', '1', 'blank', 'blank', 'blank', 'blank', 'blank', 'blank', 'blank']\n",
        "```\n",
        "  \n",
        "deve retornar\n",
        "```python\n",
        "['blank', '1', '1', '2', 'blank', 'blank', 'blank', 'blank', 'blank', 'blank', 'blank']\n",
        "```"
      ]
    },
    {
      "cell_type": "code",
      "metadata": {
        "ExecuteTime": {
          "end_time": "2021-03-07T20:10:37.402007Z",
          "start_time": "2021-03-07T20:10:37.325469Z"
        },
        "id": "dpCHFidHTh3L"
      },
      "source": [
        "program =\\\n",
        "pd.DataFrame(\n",
        "[\n",
        "    # your code here\n",
        "]\n",
        ")\n",
        "\n",
        "program"
      ],
      "execution_count": null,
      "outputs": []
    },
    {
      "cell_type": "code",
      "metadata": {
        "ExecuteTime": {
          "end_time": "2021-03-07T20:11:02.747284Z",
          "start_time": "2021-03-07T20:11:02.703932Z"
        },
        "id": "A809DvlhTh3L",
        "outputId": "22aa5d69-a6ee-4e13-8251-40789f4487b9"
      },
      "source": [
        "tape = ['blank', '1', '1', '9', 'blank', 'blank', 'blank', 'blank', 'blank', 'blank', 'blank']\n",
        "run_machine(program, tape)"
      ],
      "execution_count": null,
      "outputs": [
        {
          "output_type": "stream",
          "text": [
            "## Iteration : 1\n",
            "        # Tape  : ['blank', '1', '1', '9', 'blank', 'blank', 'blank', 'blank', 'blank', 'blank', 'blank']\n",
            "        # Head is at position : 0\n",
            "## Iteration : 2\n",
            "        # Tape  : ['blank', '1', '1', '9', 'blank', 'blank', 'blank', 'blank', 'blank', 'blank', 'blank']\n",
            "        # Head is at position : 1\n",
            "## Iteration : 3\n",
            "        # Tape  : ['blank', '1', '1', '9', 'blank', 'blank', 'blank', 'blank', 'blank', 'blank', 'blank']\n",
            "        # Head is at position : 2\n",
            "## Iteration : 4\n",
            "        # Tape  : ['blank', '1', '1', '9', 'blank', 'blank', 'blank', 'blank', 'blank', 'blank', 'blank']\n",
            "        # Head is at position : 3\n",
            "## Iteration : 5\n",
            "        # Tape  : ['blank', '1', '1', '9', 'blank', 'blank', 'blank', 'blank', 'blank', 'blank', 'blank']\n",
            "        # Head is at position : 4\n",
            "## Iteration : 6\n",
            "        # Tape  : ['blank', '1', '1', '9', 'blank', 'blank', 'blank', 'blank', 'blank', 'blank', 'blank']\n",
            "        # Head is at position : 3\n",
            "## Iteration : 7\n",
            "        # Tape  : ['blank', '1', '1', '0', 'blank', 'blank', 'blank', 'blank', 'blank', 'blank', 'blank']\n",
            "        # Head is at position : 2\n",
            "## Iteration : 8\n",
            "        # Tape  : ['blank', '1', '2', '0', 'blank', 'blank', 'blank', 'blank', 'blank', 'blank', 'blank']\n",
            "        # Head is at position : 1\n",
            "## Iteration : 9\n",
            "        # Tape  : ['blank', '1', '2', '0', 'blank', 'blank', 'blank', 'blank', 'blank', 'blank', 'blank']\n",
            "        # Head is at position : 0\n",
            "## Program Finished\n"
          ],
          "name": "stdout"
        },
        {
          "output_type": "execute_result",
          "data": {
            "text/plain": [
              "['blank',\n",
              " '1',\n",
              " '2',\n",
              " '0',\n",
              " 'blank',\n",
              " 'blank',\n",
              " 'blank',\n",
              " 'blank',\n",
              " 'blank',\n",
              " 'blank',\n",
              " 'blank']"
            ]
          },
          "metadata": {
            "tags": []
          },
          "execution_count": 46
        }
      ]
    }
  ]
}