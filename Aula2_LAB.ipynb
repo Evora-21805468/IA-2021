{
  "nbformat": 4,
  "nbformat_minor": 0,
  "metadata": {
    "colab": {
      "name": "Aula2_LAB.ipynb",
      "provenance": [],
      "collapsed_sections": [],
      "toc_visible": true,
      "include_colab_link": true
    },
    "kernelspec": {
      "display_name": "Python 3",
      "language": "python",
      "name": "python3"
    },
    "language_info": {
      "codemirror_mode": {
        "name": "ipython",
        "version": 3
      },
      "file_extension": ".py",
      "mimetype": "text/x-python",
      "name": "python",
      "nbconvert_exporter": "python",
      "pygments_lexer": "ipython3",
      "version": "3.7.6"
    },
    "toc": {
      "base_numbering": 1,
      "nav_menu": {},
      "number_sections": false,
      "sideBar": true,
      "skip_h1_title": false,
      "title_cell": "Table of Contents",
      "title_sidebar": "Contents",
      "toc_cell": false,
      "toc_position": {},
      "toc_section_display": true,
      "toc_window_display": false
    },
    "varInspector": {
      "cols": {
        "lenName": 16,
        "lenType": 16,
        "lenVar": 40
      },
      "kernels_config": {
        "python": {
          "delete_cmd_postfix": "",
          "delete_cmd_prefix": "del ",
          "library": "var_list.py",
          "varRefreshCmd": "print(var_dic_list())"
        },
        "r": {
          "delete_cmd_postfix": ") ",
          "delete_cmd_prefix": "rm(",
          "library": "var_list.r",
          "varRefreshCmd": "cat(var_dic_list()) "
        }
      },
      "types_to_exclude": [
        "module",
        "function",
        "builtin_function_or_method",
        "instance",
        "_Feature"
      ],
      "window_display": false
    }
  },
  "cells": [
    {
      "cell_type": "markdown",
      "metadata": {
        "id": "view-in-github",
        "colab_type": "text"
      },
      "source": [
        "<a href=\"https://colab.research.google.com/github/Evora-21805468/IA-2021/blob/main/Aula2_LAB.ipynb\" target=\"_parent\"><img src=\"https://colab.research.google.com/assets/colab-badge.svg\" alt=\"Open In Colab\"/></a>"
      ]
    },
    {
      "cell_type": "markdown",
      "metadata": {
        "id": "NJJjGuVcO8_u"
      },
      "source": [
        "# Tutorial 2"
      ]
    },
    {
      "cell_type": "markdown",
      "metadata": {
        "id": "0zyhm8UIO8_y"
      },
      "source": [
        "## Numpy"
      ]
    },
    {
      "cell_type": "markdown",
      "metadata": {
        "id": "n4pqUMNEO8_z"
      },
      "source": [
        "The fundamental package for scientific computing with Python\n",
        "\n",
        "<img src=\"https://numpy.org/images/logos/numpy.svg\" width=\"100\" height=\"100\">\n",
        "\n",
        "[NumPy](https://numpy.org/)"
      ]
    },
    {
      "cell_type": "code",
      "metadata": {
        "ExecuteTime": {
          "end_time": "2021-02-26T13:33:33.304561Z",
          "start_time": "2021-02-26T13:33:33.300188Z"
        },
        "deletable": false,
        "editable": false,
        "id": "HpUE2CrVk-sU"
      },
      "source": [
        "import numpy as np"
      ],
      "execution_count": 1,
      "outputs": []
    },
    {
      "cell_type": "markdown",
      "metadata": {
        "id": "JvIR-ZYgO8_0"
      },
      "source": [
        "### Exercicio 1 "
      ]
    },
    {
      "cell_type": "markdown",
      "metadata": {
        "id": "dnWCgMx2O8_0"
      },
      "source": [
        "1. Use a função arange de numpy para criar um vetor chamado my_array com a sequencia de números desde zero até 24."
      ]
    },
    {
      "cell_type": "code",
      "metadata": {
        "colab": {
          "base_uri": "https://localhost:8080/"
        },
        "id": "h5YoBHDcPM0V",
        "outputId": "bdc77316-021c-4dc4-fffa-58e6c2f0757d"
      },
      "source": [
        "my_array = np.arange(24)\r\n",
        "my_array"
      ],
      "execution_count": 36,
      "outputs": [
        {
          "output_type": "execute_result",
          "data": {
            "text/plain": [
              "array([ 0,  1,  2,  3,  4,  5,  6,  7,  8,  9, 10, 11, 12, 13, 14, 15, 16,\n",
              "       17, 18, 19, 20, 21, 22, 23])"
            ]
          },
          "metadata": {
            "tags": []
          },
          "execution_count": 36
        }
      ]
    },
    {
      "cell_type": "markdown",
      "metadata": {
        "id": "BnXRwmrbO8_2"
      },
      "source": [
        "**Reminder**   \n",
        "The built-in type ```range```\n",
        "\n",
        "*The range type represents an immutable sequence of numbers and is commonly used for looping a specific number of times in for loops.*[[source]](https://docs.python.org/3.3/library/stdtypes.html?highlight=range#ranges)\n",
        "\n",
        "\n",
        "```python\n",
        "range(stop) -> range object\n",
        "range(start, stop[, step]) -> range object\n",
        "```"
      ]
    },
    {
      "cell_type": "code",
      "metadata": {
        "id": "HtHjZ5hlO8_2"
      },
      "source": [
        "# Ex 1.1"
      ],
      "execution_count": null,
      "outputs": []
    },
    {
      "cell_type": "markdown",
      "metadata": {
        "id": "RP5-6O4PO8_2"
      },
      "source": [
        "2. Use a função reshape para redimensionar o vetor de tal forma que fique com seis filas e quatro colunas. Que acontece? Qual é a relação entre número de elementos e a dimensão duma matrix bi-dimensional?"
      ]
    },
    {
      "cell_type": "code",
      "metadata": {
        "colab": {
          "base_uri": "https://localhost:8080/"
        },
        "id": "_3fiB5SHP4ZG",
        "outputId": "2f2d9aca-1301-44de-ebc4-029f62fa3d35"
      },
      "source": [
        "my_array.reshape(6,4)\r\n"
      ],
      "execution_count": 44,
      "outputs": [
        {
          "output_type": "execute_result",
          "data": {
            "text/plain": [
              "array([[ 0,  1,  2,  3],\n",
              "       [ 4,  5,  6,  7],\n",
              "       [ 8,  9, 10, 11],\n",
              "       [12, 13, 14, 15],\n",
              "       [16, 17, 18, 19],\n",
              "       [20, 21, 22, 23]])"
            ]
          },
          "metadata": {
            "tags": []
          },
          "execution_count": 44
        }
      ]
    },
    {
      "cell_type": "code",
      "metadata": {
        "id": "ChVkuWZGO8_3"
      },
      "source": [
        "# Ex 1.2"
      ],
      "execution_count": null,
      "outputs": []
    },
    {
      "cell_type": "markdown",
      "metadata": {
        "id": "edZmJQRmO8_3"
      },
      "source": [
        "3. Sendo que temos 24 elementos, identifique duas combinações de dimensões que permitam redimensionar este vector em forma de matriz."
      ]
    },
    {
      "cell_type": "code",
      "metadata": {
        "colab": {
          "base_uri": "https://localhost:8080/"
        },
        "id": "_76X9TjgQKxR",
        "outputId": "c52e2f66-08c5-43d3-bbb2-a7332af86601"
      },
      "source": [
        "my_array.reshape(3,8)"
      ],
      "execution_count": 45,
      "outputs": [
        {
          "output_type": "execute_result",
          "data": {
            "text/plain": [
              "array([[ 0,  1,  2,  3,  4,  5,  6,  7],\n",
              "       [ 8,  9, 10, 11, 12, 13, 14, 15],\n",
              "       [16, 17, 18, 19, 20, 21, 22, 23]])"
            ]
          },
          "metadata": {
            "tags": []
          },
          "execution_count": 45
        }
      ]
    },
    {
      "cell_type": "code",
      "metadata": {
        "id": "EwCwcNjdO8_5"
      },
      "source": [
        "# Ex 1.2"
      ],
      "execution_count": null,
      "outputs": []
    },
    {
      "cell_type": "markdown",
      "metadata": {
        "id": "iYtwy5uQ555a"
      },
      "source": [
        "## Pergunta 2\n",
        "\n",
        "Considere a função da similaridade de coseno com a qual trabalhamos no último laboratório:\n",
        "\n",
        "$$\n",
        "  cos(v1, v2) = \\frac{v1 . v2}{\\lVert v1 \\rVert \\times \\lVert v2 \\rVert}\n",
        "$$  \n",
        "\n",
        "Investigar o uso das funções `linalg.norm` e `dot` dentro de Numpy para re-escrever a função sem usar qualquer `for` loop."
      ]
    },
    {
      "cell_type": "code",
      "metadata": {
        "ExecuteTime": {
          "end_time": "2021-03-01T06:49:27.062133Z",
          "start_time": "2021-03-01T06:49:27.057175Z"
        },
        "id": "VLFT3F816Z1l"
      },
      "source": [
        "v1 = [1,2,3,4]\n",
        "v2 = [3,2,5,4]\n",
        "\n",
        "# Ex 2"
      ],
      "execution_count": 20,
      "outputs": []
    },
    {
      "cell_type": "code",
      "metadata": {
        "colab": {
          "base_uri": "https://localhost:8080/"
        },
        "id": "QiSaZ0FsT_Jm",
        "outputId": "ddc46700-9452-4c4f-affc-e2c023b645ab"
      },
      "source": [
        "a = (np.dot(v1,v2) / (np.linalg.norm(v1) * np.linalg.norm(v2)))\r\n",
        "a"
      ],
      "execution_count": 21,
      "outputs": [
        {
          "output_type": "execute_result",
          "data": {
            "text/plain": [
              "0.9441175904999112"
            ]
          },
          "metadata": {
            "tags": []
          },
          "execution_count": 21
        }
      ]
    },
    {
      "cell_type": "code",
      "metadata": {
        "ExecuteTime": {
          "end_time": "2021-03-01T06:49:57.364342Z",
          "start_time": "2021-03-01T06:49:57.330483Z"
        },
        "deletable": false,
        "editable": false,
        "run_control": {
          "frozen": true
        },
        "id": "hlilEJAqO8_5",
        "outputId": "fccee02b-3a84-4c35-9fa7-499b2ce1e725"
      },
      "source": [
        "# Result"
      ],
      "execution_count": null,
      "outputs": [
        {
          "output_type": "execute_result",
          "data": {
            "text/plain": [
              "0.9441175904999112"
            ]
          },
          "metadata": {
            "tags": []
          },
          "execution_count": 3
        }
      ]
    },
    {
      "cell_type": "markdown",
      "metadata": {
        "id": "IJU9afY2-Kui"
      },
      "source": [
        "## Pergunta 3\n",
        "\n",
        "$$\\begin{bmatrix} \n",
        "1 & 2 & 1 & 7 \\\\ \n",
        "3 & 0 & 1 & 8 \\\\ \n",
        "0 & 2 & 4 & 9 \\\\ \n",
        "2 & 2 & 5 & 5\n",
        "\\end{bmatrix}$$\n",
        "\n",
        "1. Criar esta matriz em numpy\n",
        "2. Slice a primeira coluna inteira\n",
        "3. Slice a primeira coluna mas apenas as filas 2 e 3\n",
        "4. Slice os quatro elementos no centro da matriz\n",
        "5. Slice a sub-matriz dos quatro elementos no canto inferior direito, sem usar o tamanho da matriz\n",
        "6. Slice a sub-matriz dos quatro elementos no canto superior direito, sem usar o tamanho da matriz\n"
      ]
    },
    {
      "cell_type": "code",
      "metadata": {
        "colab": {
          "base_uri": "https://localhost:8080/"
        },
        "id": "ozzjIkdHO8_8",
        "outputId": "3a871c7e-62c7-4b77-b035-381067817e49"
      },
      "source": [
        "# Pergunta 3.1: criação da matriz como objeto de numpy\n",
        "my_array2 = np.array([\n",
        "  [1,2,1,7],\n",
        "  [3,0,1,8],\n",
        "  [0,2,4,9],\n",
        "  [2,2,5,5]\n",
        "])\n",
        "\n",
        "# Pergunta 3.2: primeira coluna, \n",
        "# não há necessidade de saber as dimensões da matriz\n",
        "\n",
        "my_array2[:,0]\n",
        "\n",
        "# Pergunta 3.3: slice primeira coluna mas so as filas 2 e 3\n",
        "# não há necessidade de saber as dimensões da matriz\n",
        "\n",
        "my_array2[1:3,0]\n",
        "\n",
        "# Pergunta 3.4: slice os quatro elementos no centro da matriz\n",
        "# este slice usa o conhecimento do tamanho da matriz\n",
        "# no caso geral será necessário escrever uma função que determine\n",
        "# o slice\n",
        "\n",
        "my_array2[1:3,1:3]\n",
        "\n",
        "# Pergunta 3.5.1: slice a sub-matriz dos quatro elementos no canto inferior \n",
        "# direito, sem usar o tamanho da matriz.\n",
        "# esta versão não cumpre o requerimento, porque conta desde o início da matriz\n",
        "# e portanto está a usar informação do tamanho da mesma para atingir o\n",
        "# objetivo\n",
        "\n",
        "my_array2[2:,2:]\n",
        "\n",
        "# Pergunta 3.5.2: slice a sub-matriz dos quatro elementos no canto inferior \n",
        "# direito, sem usar o tamanho da matriz.\n",
        "# esta versão sim cumpre o requerimento, porque define o slice desde o fim\n",
        "# da matriz\n",
        "\n",
        "my_array2[-2:,-2:]\n",
        "\n",
        "# Pergunta 3.6: slice a sub-matriz dos quatro elementos no canto inferior \n",
        "# direito, sem usar o tamanho da matriz.\n",
        "\n",
        "my_array2[0:FIM, 0:FIM]\n"
      ],
      "execution_count": 50,
      "outputs": [
        {
          "output_type": "execute_result",
          "data": {
            "text/plain": [
              "array([[4, 9],\n",
              "       [5, 5]])"
            ]
          },
          "metadata": {
            "tags": []
          },
          "execution_count": 50
        }
      ]
    },
    {
      "cell_type": "code",
      "metadata": {
        "colab": {
          "base_uri": "https://localhost:8080/"
        },
        "deletable": false,
        "editable": false,
        "id": "qx4i5gtPAbX_",
        "run_control": {
          "frozen": true
        },
        "outputId": "deb6ca22-9e84-4cc9-d301-432dd8ad5a73"
      },
      "source": [
        "# Result"
      ],
      "execution_count": null,
      "outputs": [
        {
          "output_type": "stream",
          "text": [
            "first column: \n",
            " [1 3 0 2] \n",
            "\n",
            "first column, rows 2 and 3: \n",
            " [3 0] \n",
            "\n",
            "centre: \n",
            " [[0 1]\n",
            " [2 4]] \n",
            "\n",
            "bottom right: \n",
            " [[4 9]\n",
            " [5 5]] \n",
            "\n",
            "top right: \n",
            " [[1 7]\n",
            " [1 8]] \n",
            "\n",
            "top right: \n",
            " [[1 7]\n",
            " [1 8]] \n",
            "\n",
            "bottom right: \n",
            " [[4 9]\n",
            " [5 5]] \n",
            "\n",
            "top right: \n",
            " [[1 7]\n",
            " [1 8]] \n",
            "\n"
          ],
          "name": "stdout"
        }
      ]
    },
    {
      "cell_type": "markdown",
      "metadata": {
        "id": "qLZeruRiAbrN"
      },
      "source": [
        "## Pergunta 4\n",
        "\n",
        "Dado o ficheiro json de teste, carregue o mesmo num Pandas dataframe"
      ]
    },
    {
      "cell_type": "code",
      "metadata": {
        "ExecuteTime": {
          "end_time": "2021-03-01T07:00:24.975654Z",
          "start_time": "2021-03-01T07:00:24.768206Z"
        },
        "id": "rWoixHn3O8_8"
      },
      "source": [
        "import pandas as pd"
      ],
      "execution_count": 51,
      "outputs": []
    },
    {
      "cell_type": "markdown",
      "metadata": {
        "id": "HQLQUEPVO8_9"
      },
      "source": [
        "### 4.1 Reading the data locally"
      ]
    },
    {
      "cell_type": "code",
      "metadata": {
        "ExecuteTime": {
          "end_time": "2021-03-01T07:00:25.862304Z",
          "start_time": "2021-03-01T07:00:25.799905Z"
        },
        "scrolled": false,
        "id": "COtgE7lyO9AD"
      },
      "source": [
        "path = '../data/A2_user_details.json'\n",
        "\n",
        "# Ler o ficheiro json e fazer output do resultado"
      ],
      "execution_count": 53,
      "outputs": []
    },
    {
      "cell_type": "markdown",
      "metadata": {
        "id": "1m7udaEDO9AE"
      },
      "source": [
        "### 4.2 Reading the data on Google Drive within Google Colab"
      ]
    },
    {
      "cell_type": "code",
      "metadata": {
        "ExecuteTime": {
          "end_time": "2021-03-01T07:13:06.996746Z",
          "start_time": "2021-03-01T07:13:06.968576Z"
        },
        "colab": {
          "base_uri": "https://localhost:8080/",
          "height": 477
        },
        "id": "wz7N8dexO9AE",
        "outputId": "dd3edbc7-4ffe-4312-e41a-914916962ca5"
      },
      "source": [
        "from google.colab import drive\n",
        "drive.mount('/content/drive')\n",
        "\n",
        "# o vosso path para o ficheiro poderá ser diferente \n",
        "path = '/content/drive/MyDrive/data/A2_user_details.json'\n",
        "\n",
        "# Ler o ficheiro json e fazer output do resultado\n",
        "df = pd.read_json(path)\n",
        "df\n"
      ],
      "execution_count": 61,
      "outputs": [
        {
          "output_type": "stream",
          "text": [
            "Drive already mounted at /content/drive; to attempt to forcibly remount, call drive.mount(\"/content/drive\", force_remount=True).\n"
          ],
          "name": "stdout"
        },
        {
          "output_type": "execute_result",
          "data": {
            "text/html": [
              "<div>\n",
              "<style scoped>\n",
              "    .dataframe tbody tr th:only-of-type {\n",
              "        vertical-align: middle;\n",
              "    }\n",
              "\n",
              "    .dataframe tbody tr th {\n",
              "        vertical-align: top;\n",
              "    }\n",
              "\n",
              "    .dataframe thead th {\n",
              "        text-align: right;\n",
              "    }\n",
              "</style>\n",
              "<table border=\"1\" class=\"dataframe\">\n",
              "  <thead>\n",
              "    <tr style=\"text-align: right;\">\n",
              "      <th></th>\n",
              "      <th>id</th>\n",
              "      <th>user_id</th>\n",
              "      <th>institution_id</th>\n",
              "      <th>age</th>\n",
              "      <th>gender</th>\n",
              "      <th>dad_job</th>\n",
              "      <th>mom_job</th>\n",
              "      <th>nr_of_people_in_family</th>\n",
              "      <th>created_by</th>\n",
              "      <th>created_date</th>\n",
              "      <th>last_modified_by</th>\n",
              "      <th>last_modified_date</th>\n",
              "    </tr>\n",
              "  </thead>\n",
              "  <tbody>\n",
              "    <tr>\n",
              "      <th>0</th>\n",
              "      <td>1136</td>\n",
              "      <td>1128</td>\n",
              "      <td>9</td>\n",
              "      <td>18</td>\n",
              "      <td>MALE</td>\n",
              "      <td>Dono de um Alojamento local</td>\n",
              "      <td>Professora</td>\n",
              "      <td>4</td>\n",
              "      <td>anonymousUser</td>\n",
              "      <td>2019-05-08T12:48:28Z</td>\n",
              "      <td>anonymousUser</td>\n",
              "      <td>2019-05-08T12:48:28Z</td>\n",
              "    </tr>\n",
              "    <tr>\n",
              "      <th>1</th>\n",
              "      <td>1074</td>\n",
              "      <td>1050</td>\n",
              "      <td>7</td>\n",
              "      <td>16</td>\n",
              "      <td>FEMALE</td>\n",
              "      <td>Empregado</td>\n",
              "      <td>Empregado</td>\n",
              "      <td>5</td>\n",
              "      <td>anonymousUser</td>\n",
              "      <td>2019-05-08T12:42:48Z</td>\n",
              "      <td>anonymousUser</td>\n",
              "      <td>2019-05-08T12:42:48Z</td>\n",
              "    </tr>\n",
              "    <tr>\n",
              "      <th>2</th>\n",
              "      <td>987</td>\n",
              "      <td>986</td>\n",
              "      <td>1</td>\n",
              "      <td>17</td>\n",
              "      <td>FEMALE</td>\n",
              "      <td>Na</td>\n",
              "      <td>Agente imobiliária</td>\n",
              "      <td>3</td>\n",
              "      <td>anonymousUser</td>\n",
              "      <td>2019-05-08T12:26:18Z</td>\n",
              "      <td>anonymousUser</td>\n",
              "      <td>2019-05-08T12:26:18Z</td>\n",
              "    </tr>\n",
              "    <tr>\n",
              "      <th>3</th>\n",
              "      <td>988</td>\n",
              "      <td>987</td>\n",
              "      <td>1</td>\n",
              "      <td>16</td>\n",
              "      <td>FEMALE</td>\n",
              "      <td>Técnico de Tráfego</td>\n",
              "      <td>Enfermeira</td>\n",
              "      <td>3</td>\n",
              "      <td>anonymousUser</td>\n",
              "      <td>2019-05-08T12:29:30Z</td>\n",
              "      <td>anonymousUser</td>\n",
              "      <td>2019-05-08T12:29:30Z</td>\n",
              "    </tr>\n",
              "    <tr>\n",
              "      <th>4</th>\n",
              "      <td>989</td>\n",
              "      <td>988</td>\n",
              "      <td>1</td>\n",
              "      <td>16</td>\n",
              "      <td>FEMALE</td>\n",
              "      <td>Operador Químico</td>\n",
              "      <td>Farmacêutica</td>\n",
              "      <td>2</td>\n",
              "      <td>anonymousUser</td>\n",
              "      <td>2019-05-08T12:30:02Z</td>\n",
              "      <td>anonymousUser</td>\n",
              "      <td>2019-05-08T12:30:02Z</td>\n",
              "    </tr>\n",
              "    <tr>\n",
              "      <th>...</th>\n",
              "      <td>...</td>\n",
              "      <td>...</td>\n",
              "      <td>...</td>\n",
              "      <td>...</td>\n",
              "      <td>...</td>\n",
              "      <td>...</td>\n",
              "      <td>...</td>\n",
              "      <td>...</td>\n",
              "      <td>...</td>\n",
              "      <td>...</td>\n",
              "      <td>...</td>\n",
              "      <td>...</td>\n",
              "    </tr>\n",
              "    <tr>\n",
              "      <th>93</th>\n",
              "      <td>1842</td>\n",
              "      <td>1841</td>\n",
              "      <td>2</td>\n",
              "      <td>17</td>\n",
              "      <td>FEMALE</td>\n",
              "      <td>chefe de equipamentos</td>\n",
              "      <td>domestica</td>\n",
              "      <td>4</td>\n",
              "      <td>anonymousUser</td>\n",
              "      <td>2019-05-09T12:14:21Z</td>\n",
              "      <td>anonymousUser</td>\n",
              "      <td>2019-05-09T12:14:21Z</td>\n",
              "    </tr>\n",
              "    <tr>\n",
              "      <th>94</th>\n",
              "      <td>1844</td>\n",
              "      <td>1855</td>\n",
              "      <td>2</td>\n",
              "      <td>17</td>\n",
              "      <td>FEMALE</td>\n",
              "      <td>médico</td>\n",
              "      <td>professora</td>\n",
              "      <td>3</td>\n",
              "      <td>anonymousUser</td>\n",
              "      <td>2019-05-09T12:14:59Z</td>\n",
              "      <td>anonymousUser</td>\n",
              "      <td>2019-05-09T12:14:59Z</td>\n",
              "    </tr>\n",
              "    <tr>\n",
              "      <th>95</th>\n",
              "      <td>1127</td>\n",
              "      <td>1096</td>\n",
              "      <td>7</td>\n",
              "      <td>20</td>\n",
              "      <td>MALE</td>\n",
              "      <td>Audiovisuais</td>\n",
              "      <td>Bankinter</td>\n",
              "      <td>5</td>\n",
              "      <td>anonymousUser</td>\n",
              "      <td>2019-05-08T12:46:26Z</td>\n",
              "      <td>anonymousUser</td>\n",
              "      <td>2019-05-08T12:46:26Z</td>\n",
              "    </tr>\n",
              "    <tr>\n",
              "      <th>96</th>\n",
              "      <td>1864</td>\n",
              "      <td>1878</td>\n",
              "      <td>2</td>\n",
              "      <td>17</td>\n",
              "      <td>MALE</td>\n",
              "      <td>comerciante</td>\n",
              "      <td>engenheira</td>\n",
              "      <td>4</td>\n",
              "      <td>anonymousUser</td>\n",
              "      <td>2019-05-09T12:23:35Z</td>\n",
              "      <td>anonymousUser</td>\n",
              "      <td>2019-05-09T12:23:35Z</td>\n",
              "    </tr>\n",
              "    <tr>\n",
              "      <th>97</th>\n",
              "      <td>1880</td>\n",
              "      <td>2875</td>\n",
              "      <td>4</td>\n",
              "      <td>16</td>\n",
              "      <td>FEMALE</td>\n",
              "      <td>diretor de recursos humanos</td>\n",
              "      <td>educadora de infância</td>\n",
              "      <td>2</td>\n",
              "      <td>anonymousUser</td>\n",
              "      <td>2019-05-09T13:28:00Z</td>\n",
              "      <td>anonymousUser</td>\n",
              "      <td>2019-05-09T13:28:00Z</td>\n",
              "    </tr>\n",
              "  </tbody>\n",
              "</table>\n",
              "<p>98 rows × 12 columns</p>\n",
              "</div>"
            ],
            "text/plain": [
              "      id  user_id  ...  last_modified_by    last_modified_date\n",
              "0   1136     1128  ...     anonymousUser  2019-05-08T12:48:28Z\n",
              "1   1074     1050  ...     anonymousUser  2019-05-08T12:42:48Z\n",
              "2    987      986  ...     anonymousUser  2019-05-08T12:26:18Z\n",
              "3    988      987  ...     anonymousUser  2019-05-08T12:29:30Z\n",
              "4    989      988  ...     anonymousUser  2019-05-08T12:30:02Z\n",
              "..   ...      ...  ...               ...                   ...\n",
              "93  1842     1841  ...     anonymousUser  2019-05-09T12:14:21Z\n",
              "94  1844     1855  ...     anonymousUser  2019-05-09T12:14:59Z\n",
              "95  1127     1096  ...     anonymousUser  2019-05-08T12:46:26Z\n",
              "96  1864     1878  ...     anonymousUser  2019-05-09T12:23:35Z\n",
              "97  1880     2875  ...     anonymousUser  2019-05-09T13:28:00Z\n",
              "\n",
              "[98 rows x 12 columns]"
            ]
          },
          "metadata": {
            "tags": []
          },
          "execution_count": 61
        }
      ]
    },
    {
      "cell_type": "markdown",
      "metadata": {
        "id": "HZjMkzLgO9AF"
      },
      "source": [
        "### 4.2 Mantenha unicamente as seguintes colunas:\n",
        "\n",
        "1. user_id\n",
        "2. institution_id\n",
        "3. age\n",
        "4. gender"
      ]
    },
    {
      "cell_type": "code",
      "metadata": {
        "colab": {
          "base_uri": "https://localhost:8080/",
          "height": 424
        },
        "id": "O0aEacWzO9AF",
        "outputId": "3f8b7ba3-a629-4b64-958c-b2633f6261f2"
      },
      "source": [
        "# P4.2\r\n",
        "\r\n",
        "dfx = df[['user_id','institution_id','age','gender']]\r\n",
        "dfx\r\n"
      ],
      "execution_count": 64,
      "outputs": [
        {
          "output_type": "execute_result",
          "data": {
            "text/html": [
              "<div>\n",
              "<style scoped>\n",
              "    .dataframe tbody tr th:only-of-type {\n",
              "        vertical-align: middle;\n",
              "    }\n",
              "\n",
              "    .dataframe tbody tr th {\n",
              "        vertical-align: top;\n",
              "    }\n",
              "\n",
              "    .dataframe thead th {\n",
              "        text-align: right;\n",
              "    }\n",
              "</style>\n",
              "<table border=\"1\" class=\"dataframe\">\n",
              "  <thead>\n",
              "    <tr style=\"text-align: right;\">\n",
              "      <th></th>\n",
              "      <th>user_id</th>\n",
              "      <th>institution_id</th>\n",
              "      <th>age</th>\n",
              "      <th>gender</th>\n",
              "    </tr>\n",
              "  </thead>\n",
              "  <tbody>\n",
              "    <tr>\n",
              "      <th>0</th>\n",
              "      <td>1128</td>\n",
              "      <td>9</td>\n",
              "      <td>18</td>\n",
              "      <td>MALE</td>\n",
              "    </tr>\n",
              "    <tr>\n",
              "      <th>1</th>\n",
              "      <td>1050</td>\n",
              "      <td>7</td>\n",
              "      <td>16</td>\n",
              "      <td>FEMALE</td>\n",
              "    </tr>\n",
              "    <tr>\n",
              "      <th>2</th>\n",
              "      <td>986</td>\n",
              "      <td>1</td>\n",
              "      <td>17</td>\n",
              "      <td>FEMALE</td>\n",
              "    </tr>\n",
              "    <tr>\n",
              "      <th>3</th>\n",
              "      <td>987</td>\n",
              "      <td>1</td>\n",
              "      <td>16</td>\n",
              "      <td>FEMALE</td>\n",
              "    </tr>\n",
              "    <tr>\n",
              "      <th>4</th>\n",
              "      <td>988</td>\n",
              "      <td>1</td>\n",
              "      <td>16</td>\n",
              "      <td>FEMALE</td>\n",
              "    </tr>\n",
              "    <tr>\n",
              "      <th>...</th>\n",
              "      <td>...</td>\n",
              "      <td>...</td>\n",
              "      <td>...</td>\n",
              "      <td>...</td>\n",
              "    </tr>\n",
              "    <tr>\n",
              "      <th>93</th>\n",
              "      <td>1841</td>\n",
              "      <td>2</td>\n",
              "      <td>17</td>\n",
              "      <td>FEMALE</td>\n",
              "    </tr>\n",
              "    <tr>\n",
              "      <th>94</th>\n",
              "      <td>1855</td>\n",
              "      <td>2</td>\n",
              "      <td>17</td>\n",
              "      <td>FEMALE</td>\n",
              "    </tr>\n",
              "    <tr>\n",
              "      <th>95</th>\n",
              "      <td>1096</td>\n",
              "      <td>7</td>\n",
              "      <td>20</td>\n",
              "      <td>MALE</td>\n",
              "    </tr>\n",
              "    <tr>\n",
              "      <th>96</th>\n",
              "      <td>1878</td>\n",
              "      <td>2</td>\n",
              "      <td>17</td>\n",
              "      <td>MALE</td>\n",
              "    </tr>\n",
              "    <tr>\n",
              "      <th>97</th>\n",
              "      <td>2875</td>\n",
              "      <td>4</td>\n",
              "      <td>16</td>\n",
              "      <td>FEMALE</td>\n",
              "    </tr>\n",
              "  </tbody>\n",
              "</table>\n",
              "<p>98 rows × 4 columns</p>\n",
              "</div>"
            ],
            "text/plain": [
              "    user_id  institution_id  age  gender\n",
              "0      1128               9   18    MALE\n",
              "1      1050               7   16  FEMALE\n",
              "2       986               1   17  FEMALE\n",
              "3       987               1   16  FEMALE\n",
              "4       988               1   16  FEMALE\n",
              "..      ...             ...  ...     ...\n",
              "93     1841               2   17  FEMALE\n",
              "94     1855               2   17  FEMALE\n",
              "95     1096               7   20    MALE\n",
              "96     1878               2   17    MALE\n",
              "97     2875               4   16  FEMALE\n",
              "\n",
              "[98 rows x 4 columns]"
            ]
          },
          "metadata": {
            "tags": []
          },
          "execution_count": 64
        }
      ]
    },
    {
      "cell_type": "markdown",
      "metadata": {
        "id": "UiCY5VwuB5Xo"
      },
      "source": [
        "## Pergunta 5\n",
        "\n",
        "### 5.1\n",
        "Selecione os `user_id` das raparigas com idade 17 anos ou mais e guarde numa variáevel `fids`. Esta variável, é um `Series` ou um `DataFrame`"
      ]
    },
    {
      "cell_type": "code",
      "metadata": {
        "colab": {
          "base_uri": "https://localhost:8080/",
          "height": 739
        },
        "id": "jmr5-T78CM0J",
        "outputId": "71158da7-c4f3-465b-f196-db172b06102f"
      },
      "source": [
        "# P5.1\r\n",
        "\r\n",
        "mask_female = dfx['gender'] == 'FEMALE' \r\n",
        "mask_age = dfx['age'] >= 17\r\n",
        "maskfinal = mask_female & mask_age\r\n",
        "\r\n",
        "dfx[maskfinal]"
      ],
      "execution_count": 71,
      "outputs": [
        {
          "output_type": "execute_result",
          "data": {
            "text/html": [
              "<div>\n",
              "<style scoped>\n",
              "    .dataframe tbody tr th:only-of-type {\n",
              "        vertical-align: middle;\n",
              "    }\n",
              "\n",
              "    .dataframe tbody tr th {\n",
              "        vertical-align: top;\n",
              "    }\n",
              "\n",
              "    .dataframe thead th {\n",
              "        text-align: right;\n",
              "    }\n",
              "</style>\n",
              "<table border=\"1\" class=\"dataframe\">\n",
              "  <thead>\n",
              "    <tr style=\"text-align: right;\">\n",
              "      <th></th>\n",
              "      <th>user_id</th>\n",
              "      <th>institution_id</th>\n",
              "      <th>age</th>\n",
              "      <th>gender</th>\n",
              "    </tr>\n",
              "  </thead>\n",
              "  <tbody>\n",
              "    <tr>\n",
              "      <th>2</th>\n",
              "      <td>986</td>\n",
              "      <td>1</td>\n",
              "      <td>17</td>\n",
              "      <td>FEMALE</td>\n",
              "    </tr>\n",
              "    <tr>\n",
              "      <th>6</th>\n",
              "      <td>990</td>\n",
              "      <td>1</td>\n",
              "      <td>18</td>\n",
              "      <td>FEMALE</td>\n",
              "    </tr>\n",
              "    <tr>\n",
              "      <th>8</th>\n",
              "      <td>992</td>\n",
              "      <td>1</td>\n",
              "      <td>17</td>\n",
              "      <td>FEMALE</td>\n",
              "    </tr>\n",
              "    <tr>\n",
              "      <th>17</th>\n",
              "      <td>1005</td>\n",
              "      <td>7</td>\n",
              "      <td>17</td>\n",
              "      <td>FEMALE</td>\n",
              "    </tr>\n",
              "    <tr>\n",
              "      <th>19</th>\n",
              "      <td>1007</td>\n",
              "      <td>7</td>\n",
              "      <td>17</td>\n",
              "      <td>FEMALE</td>\n",
              "    </tr>\n",
              "    <tr>\n",
              "      <th>23</th>\n",
              "      <td>1112</td>\n",
              "      <td>7</td>\n",
              "      <td>17</td>\n",
              "      <td>FEMALE</td>\n",
              "    </tr>\n",
              "    <tr>\n",
              "      <th>26</th>\n",
              "      <td>1032</td>\n",
              "      <td>7</td>\n",
              "      <td>17</td>\n",
              "      <td>FEMALE</td>\n",
              "    </tr>\n",
              "    <tr>\n",
              "      <th>28</th>\n",
              "      <td>1151</td>\n",
              "      <td>9</td>\n",
              "      <td>18</td>\n",
              "      <td>FEMALE</td>\n",
              "    </tr>\n",
              "    <tr>\n",
              "      <th>29</th>\n",
              "      <td>1839</td>\n",
              "      <td>2</td>\n",
              "      <td>18</td>\n",
              "      <td>FEMALE</td>\n",
              "    </tr>\n",
              "    <tr>\n",
              "      <th>30</th>\n",
              "      <td>1035</td>\n",
              "      <td>7</td>\n",
              "      <td>17</td>\n",
              "      <td>FEMALE</td>\n",
              "    </tr>\n",
              "    <tr>\n",
              "      <th>36</th>\n",
              "      <td>3080</td>\n",
              "      <td>4</td>\n",
              "      <td>18</td>\n",
              "      <td>FEMALE</td>\n",
              "    </tr>\n",
              "    <tr>\n",
              "      <th>37</th>\n",
              "      <td>1047</td>\n",
              "      <td>7</td>\n",
              "      <td>17</td>\n",
              "      <td>FEMALE</td>\n",
              "    </tr>\n",
              "    <tr>\n",
              "      <th>38</th>\n",
              "      <td>1048</td>\n",
              "      <td>7</td>\n",
              "      <td>17</td>\n",
              "      <td>FEMALE</td>\n",
              "    </tr>\n",
              "    <tr>\n",
              "      <th>39</th>\n",
              "      <td>3107</td>\n",
              "      <td>4</td>\n",
              "      <td>17</td>\n",
              "      <td>FEMALE</td>\n",
              "    </tr>\n",
              "    <tr>\n",
              "      <th>44</th>\n",
              "      <td>3114</td>\n",
              "      <td>4</td>\n",
              "      <td>17</td>\n",
              "      <td>FEMALE</td>\n",
              "    </tr>\n",
              "    <tr>\n",
              "      <th>45</th>\n",
              "      <td>1077</td>\n",
              "      <td>7</td>\n",
              "      <td>17</td>\n",
              "      <td>FEMALE</td>\n",
              "    </tr>\n",
              "    <tr>\n",
              "      <th>52</th>\n",
              "      <td>1842</td>\n",
              "      <td>2</td>\n",
              "      <td>17</td>\n",
              "      <td>FEMALE</td>\n",
              "    </tr>\n",
              "    <tr>\n",
              "      <th>54</th>\n",
              "      <td>1861</td>\n",
              "      <td>2</td>\n",
              "      <td>17</td>\n",
              "      <td>FEMALE</td>\n",
              "    </tr>\n",
              "    <tr>\n",
              "      <th>75</th>\n",
              "      <td>1131</td>\n",
              "      <td>7</td>\n",
              "      <td>17</td>\n",
              "      <td>FEMALE</td>\n",
              "    </tr>\n",
              "    <tr>\n",
              "      <th>77</th>\n",
              "      <td>1115</td>\n",
              "      <td>7</td>\n",
              "      <td>17</td>\n",
              "      <td>FEMALE</td>\n",
              "    </tr>\n",
              "    <tr>\n",
              "      <th>93</th>\n",
              "      <td>1841</td>\n",
              "      <td>2</td>\n",
              "      <td>17</td>\n",
              "      <td>FEMALE</td>\n",
              "    </tr>\n",
              "    <tr>\n",
              "      <th>94</th>\n",
              "      <td>1855</td>\n",
              "      <td>2</td>\n",
              "      <td>17</td>\n",
              "      <td>FEMALE</td>\n",
              "    </tr>\n",
              "  </tbody>\n",
              "</table>\n",
              "</div>"
            ],
            "text/plain": [
              "    user_id  institution_id  age  gender\n",
              "2       986               1   17  FEMALE\n",
              "6       990               1   18  FEMALE\n",
              "8       992               1   17  FEMALE\n",
              "17     1005               7   17  FEMALE\n",
              "19     1007               7   17  FEMALE\n",
              "23     1112               7   17  FEMALE\n",
              "26     1032               7   17  FEMALE\n",
              "28     1151               9   18  FEMALE\n",
              "29     1839               2   18  FEMALE\n",
              "30     1035               7   17  FEMALE\n",
              "36     3080               4   18  FEMALE\n",
              "37     1047               7   17  FEMALE\n",
              "38     1048               7   17  FEMALE\n",
              "39     3107               4   17  FEMALE\n",
              "44     3114               4   17  FEMALE\n",
              "45     1077               7   17  FEMALE\n",
              "52     1842               2   17  FEMALE\n",
              "54     1861               2   17  FEMALE\n",
              "75     1131               7   17  FEMALE\n",
              "77     1115               7   17  FEMALE\n",
              "93     1841               2   17  FEMALE\n",
              "94     1855               2   17  FEMALE"
            ]
          },
          "metadata": {
            "tags": []
          },
          "execution_count": 71
        }
      ]
    },
    {
      "cell_type": "markdown",
      "metadata": {
        "id": "kEnsaU0VO9AG"
      },
      "source": [
        "### 5.2\n",
        "Selecione os `gender` dos estudantes das escolas 1 e 2 com maiores de 17 anos"
      ]
    },
    {
      "cell_type": "code",
      "metadata": {
        "colab": {
          "base_uri": "https://localhost:8080/"
        },
        "id": "ed-t2372Kfly",
        "outputId": "b9b0f1a4-b829-4deb-ffb5-99c7a1250452"
      },
      "source": [
        "# P5.2\r\n",
        "mask_institution = (dfx['institution_id'] == 1) | (dfx['institution_id'] == 2)\r\n",
        "mask_age = dfx['age'] >= 17\r\n",
        "maskfinal = mask_institution & mask_age\r\n",
        "\r\n",
        "dfx[maskfinal]['gender'].value_counts()"
      ],
      "execution_count": 76,
      "outputs": [
        {
          "output_type": "execute_result",
          "data": {
            "text/plain": [
              "FEMALE    8\n",
              "MALE      2\n",
              "Name: gender, dtype: int64"
            ]
          },
          "metadata": {
            "tags": []
          },
          "execution_count": 76
        }
      ]
    },
    {
      "cell_type": "markdown",
      "metadata": {
        "id": "9iGWmzoYO9AH"
      },
      "source": [
        "### 5.3\n",
        "Adicione uma columa \"scores\" com valores aleatórios entre 10 e 20 para todos os alunos no dataframe"
      ]
    },
    {
      "cell_type": "code",
      "metadata": {
        "ExecuteTime": {
          "end_time": "2021-03-01T07:04:27.245894Z",
          "start_time": "2021-03-01T07:04:27.218216Z"
        },
        "colab": {
          "base_uri": "https://localhost:8080/",
          "height": 541
        },
        "id": "LQqbUWe1ORTK",
        "outputId": "fccc4627-342c-4eda-badb-e0854a0d6622"
      },
      "source": [
        "#P5.3\r\n",
        "\r\n"
      ],
      "execution_count": null,
      "outputs": [
        {
          "output_type": "execute_result",
          "data": {
            "text/html": [
              "<div>\n",
              "<style scoped>\n",
              "    .dataframe tbody tr th:only-of-type {\n",
              "        vertical-align: middle;\n",
              "    }\n",
              "\n",
              "    .dataframe tbody tr th {\n",
              "        vertical-align: top;\n",
              "    }\n",
              "\n",
              "    .dataframe thead th {\n",
              "        text-align: right;\n",
              "    }\n",
              "</style>\n",
              "<table border=\"1\" class=\"dataframe\">\n",
              "  <thead>\n",
              "    <tr style=\"text-align: right;\">\n",
              "      <th></th>\n",
              "      <th>user_id</th>\n",
              "      <th>institution_id</th>\n",
              "      <th>age</th>\n",
              "      <th>gender</th>\n",
              "      <th>scores</th>\n",
              "    </tr>\n",
              "  </thead>\n",
              "  <tbody>\n",
              "    <tr>\n",
              "      <th>0</th>\n",
              "      <td>1128</td>\n",
              "      <td>9</td>\n",
              "      <td>18</td>\n",
              "      <td>MALE</td>\n",
              "      <td>12</td>\n",
              "    </tr>\n",
              "    <tr>\n",
              "      <th>1</th>\n",
              "      <td>1050</td>\n",
              "      <td>7</td>\n",
              "      <td>16</td>\n",
              "      <td>FEMALE</td>\n",
              "      <td>16</td>\n",
              "    </tr>\n",
              "    <tr>\n",
              "      <th>2</th>\n",
              "      <td>986</td>\n",
              "      <td>1</td>\n",
              "      <td>17</td>\n",
              "      <td>FEMALE</td>\n",
              "      <td>16</td>\n",
              "    </tr>\n",
              "    <tr>\n",
              "      <th>3</th>\n",
              "      <td>987</td>\n",
              "      <td>1</td>\n",
              "      <td>16</td>\n",
              "      <td>FEMALE</td>\n",
              "      <td>15</td>\n",
              "    </tr>\n",
              "    <tr>\n",
              "      <th>4</th>\n",
              "      <td>988</td>\n",
              "      <td>1</td>\n",
              "      <td>16</td>\n",
              "      <td>FEMALE</td>\n",
              "      <td>13</td>\n",
              "    </tr>\n",
              "    <tr>\n",
              "      <th>...</th>\n",
              "      <td>...</td>\n",
              "      <td>...</td>\n",
              "      <td>...</td>\n",
              "      <td>...</td>\n",
              "      <td>...</td>\n",
              "    </tr>\n",
              "    <tr>\n",
              "      <th>93</th>\n",
              "      <td>1841</td>\n",
              "      <td>2</td>\n",
              "      <td>17</td>\n",
              "      <td>FEMALE</td>\n",
              "      <td>11</td>\n",
              "    </tr>\n",
              "    <tr>\n",
              "      <th>94</th>\n",
              "      <td>1855</td>\n",
              "      <td>2</td>\n",
              "      <td>17</td>\n",
              "      <td>FEMALE</td>\n",
              "      <td>12</td>\n",
              "    </tr>\n",
              "    <tr>\n",
              "      <th>95</th>\n",
              "      <td>1096</td>\n",
              "      <td>7</td>\n",
              "      <td>20</td>\n",
              "      <td>MALE</td>\n",
              "      <td>16</td>\n",
              "    </tr>\n",
              "    <tr>\n",
              "      <th>96</th>\n",
              "      <td>1878</td>\n",
              "      <td>2</td>\n",
              "      <td>17</td>\n",
              "      <td>MALE</td>\n",
              "      <td>16</td>\n",
              "    </tr>\n",
              "    <tr>\n",
              "      <th>97</th>\n",
              "      <td>2875</td>\n",
              "      <td>4</td>\n",
              "      <td>16</td>\n",
              "      <td>FEMALE</td>\n",
              "      <td>11</td>\n",
              "    </tr>\n",
              "  </tbody>\n",
              "</table>\n",
              "<p>98 rows × 5 columns</p>\n",
              "</div>"
            ],
            "text/plain": [
              "    user_id  institution_id  age  gender  scores\n",
              "0      1128               9   18    MALE      12\n",
              "1      1050               7   16  FEMALE      16\n",
              "2       986               1   17  FEMALE      16\n",
              "3       987               1   16  FEMALE      15\n",
              "4       988               1   16  FEMALE      13\n",
              "..      ...             ...  ...     ...     ...\n",
              "93     1841               2   17  FEMALE      11\n",
              "94     1855               2   17  FEMALE      12\n",
              "95     1096               7   20    MALE      16\n",
              "96     1878               2   17    MALE      16\n",
              "97     2875               4   16  FEMALE      11\n",
              "\n",
              "[98 rows x 5 columns]"
            ]
          },
          "metadata": {
            "tags": []
          },
          "execution_count": 8
        }
      ]
    },
    {
      "cell_type": "markdown",
      "metadata": {
        "id": "KO9-KxBOC1Mc"
      },
      "source": [
        "## Pergunta 6\n",
        "\n",
        "Execute o comando\n",
        "\n",
        "```python\n",
        "dfx.describe()\n",
        "```\n",
        "e descreva o resultado e a sua utilidade, após investigar o que esta função do Pandas devolve."
      ]
    },
    {
      "cell_type": "code",
      "metadata": {
        "colab": {
          "base_uri": "https://localhost:8080/",
          "height": 297
        },
        "id": "2jnFzv8BC4FY",
        "outputId": "5e9ebf04-9e6b-4472-8ca2-def34fa195ea"
      },
      "source": [
        "dfx.describe()"
      ],
      "execution_count": null,
      "outputs": [
        {
          "output_type": "execute_result",
          "data": {
            "text/html": [
              "<div>\n",
              "<style scoped>\n",
              "    .dataframe tbody tr th:only-of-type {\n",
              "        vertical-align: middle;\n",
              "    }\n",
              "\n",
              "    .dataframe tbody tr th {\n",
              "        vertical-align: top;\n",
              "    }\n",
              "\n",
              "    .dataframe thead th {\n",
              "        text-align: right;\n",
              "    }\n",
              "</style>\n",
              "<table border=\"1\" class=\"dataframe\">\n",
              "  <thead>\n",
              "    <tr style=\"text-align: right;\">\n",
              "      <th></th>\n",
              "      <th>user_id</th>\n",
              "      <th>institution_id</th>\n",
              "      <th>age</th>\n",
              "    </tr>\n",
              "  </thead>\n",
              "  <tbody>\n",
              "    <tr>\n",
              "      <th>count</th>\n",
              "      <td>98.000000</td>\n",
              "      <td>98.000000</td>\n",
              "      <td>98.000000</td>\n",
              "    </tr>\n",
              "    <tr>\n",
              "      <th>mean</th>\n",
              "      <td>1830.428571</td>\n",
              "      <td>5.193878</td>\n",
              "      <td>16.132653</td>\n",
              "    </tr>\n",
              "    <tr>\n",
              "      <th>std</th>\n",
              "      <td>836.381443</td>\n",
              "      <td>2.775661</td>\n",
              "      <td>3.862689</td>\n",
              "    </tr>\n",
              "    <tr>\n",
              "      <th>min</th>\n",
              "      <td>986.000000</td>\n",
              "      <td>1.000000</td>\n",
              "      <td>3.000000</td>\n",
              "    </tr>\n",
              "    <tr>\n",
              "      <th>25%</th>\n",
              "      <td>1077.500000</td>\n",
              "      <td>2.000000</td>\n",
              "      <td>16.000000</td>\n",
              "    </tr>\n",
              "    <tr>\n",
              "      <th>50%</th>\n",
              "      <td>1838.500000</td>\n",
              "      <td>4.000000</td>\n",
              "      <td>16.000000</td>\n",
              "    </tr>\n",
              "    <tr>\n",
              "      <th>75%</th>\n",
              "      <td>2855.750000</td>\n",
              "      <td>7.750000</td>\n",
              "      <td>17.000000</td>\n",
              "    </tr>\n",
              "    <tr>\n",
              "      <th>max</th>\n",
              "      <td>3127.000000</td>\n",
              "      <td>9.000000</td>\n",
              "      <td>30.000000</td>\n",
              "    </tr>\n",
              "  </tbody>\n",
              "</table>\n",
              "</div>"
            ],
            "text/plain": [
              "           user_id  institution_id        age\n",
              "count    98.000000       98.000000  98.000000\n",
              "mean   1830.428571        5.193878  16.132653\n",
              "std     836.381443        2.775661   3.862689\n",
              "min     986.000000        1.000000   3.000000\n",
              "25%    1077.500000        2.000000  16.000000\n",
              "50%    1838.500000        4.000000  16.000000\n",
              "75%    2855.750000        7.750000  17.000000\n",
              "max    3127.000000        9.000000  30.000000"
            ]
          },
          "metadata": {
            "tags": []
          },
          "execution_count": 26
        }
      ]
    }
  ]
}