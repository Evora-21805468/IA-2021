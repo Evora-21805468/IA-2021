{
  "nbformat": 4,
  "nbformat_minor": 0,
  "metadata": {
    "kernelspec": {
      "display_name": "Python 3",
      "language": "python",
      "name": "python3"
    },
    "language_info": {
      "codemirror_mode": {
        "name": "ipython",
        "version": 3
      },
      "file_extension": ".py",
      "mimetype": "text/x-python",
      "name": "python",
      "nbconvert_exporter": "python",
      "pygments_lexer": "ipython3",
      "version": "3.7.6"
    },
    "colab": {
      "name": "Lab08_03_05_2021.ipynb",
      "provenance": [],
      "include_colab_link": true
    }
  },
  "cells": [
    {
      "cell_type": "markdown",
      "metadata": {
        "id": "view-in-github",
        "colab_type": "text"
      },
      "source": [
        "<a href=\"https://colab.research.google.com/github/Evora-21805468/IA-2021/blob/main/Lab08_03_05_2021.ipynb\" target=\"_parent\"><img src=\"https://colab.research.google.com/assets/colab-badge.svg\" alt=\"Open In Colab\"/></a>"
      ]
    },
    {
      "cell_type": "code",
      "metadata": {
        "colab": {
          "base_uri": "https://localhost:8080/"
        },
        "id": "qsy-jecBicwr",
        "outputId": "019edd46-6d4a-4715-9bc2-22f0faf419cf"
      },
      "source": [
        "grafo = { \n",
        "    'A' : [ 'C' , 'B', 'D' ] ,\n",
        "    'B' : [ 'E' , 'A' ],\n",
        "    'C' : [ 'A', 'E', 'F'] ,\n",
        "    'D' : [ 'F' , 'A'] ,\n",
        "    'E' : [ 'B', 'G' , 'C'] ,\n",
        "    'F' : [ 'D', 'G' , 'C'] ,\n",
        "    'G' : [ 'H', 'E', 'F' ],\n",
        "    'H' : [ 'G' ]\n",
        "    }\n",
        "\n",
        "  # definition of function\n",
        "def generate_edges(graph):\n",
        "    edges = []\n",
        "\n",
        "    # for each node in graph\n",
        "    for node in graph:\n",
        "\n",
        "        # for each neighbour node of a single node\n",
        "        for neighbour in graph[node]:\n",
        "            # if edge exists then append\n",
        "            edges.append((node, neighbour))\n",
        "    return edges\n",
        "\n",
        "edges = generate_edges(grafo)\n",
        "edges"
      ],
      "execution_count": 25,
      "outputs": [
        {
          "output_type": "execute_result",
          "data": {
            "text/plain": [
              "[('A', 'C'),\n",
              " ('A', 'B'),\n",
              " ('A', 'D'),\n",
              " ('B', 'E'),\n",
              " ('B', 'A'),\n",
              " ('C', 'A'),\n",
              " ('C', 'E'),\n",
              " ('C', 'F'),\n",
              " ('D', 'F'),\n",
              " ('D', 'A'),\n",
              " ('E', 'B'),\n",
              " ('E', 'G'),\n",
              " ('E', 'C'),\n",
              " ('F', 'D'),\n",
              " ('F', 'G'),\n",
              " ('F', 'C'),\n",
              " ('G', 'H'),\n",
              " ('G', 'E'),\n",
              " ('G', 'F'),\n",
              " ('H', 'G')]"
            ]
          },
          "metadata": {
            "tags": []
          },
          "execution_count": 25
        }
      ]
    },
    {
      "cell_type": "code",
      "metadata": {
        "colab": {
          "base_uri": "https://localhost:8080/",
          "height": 248
        },
        "id": "83BQwzQ2jhSA",
        "outputId": "9a58b241-3507-4d46-af93-83ed43d5cce9"
      },
      "source": [
        "import networkx as nx\n",
        "import pandas as pd\n",
        "import numpy as np\n",
        "G = pd.DataFrame(edges, columns=['In', 'Out'])\n",
        "G['Weight'] = 1\n",
        "options = {\n",
        "    'width': 2,\n",
        "    'arrowstyle': '->',\n",
        "    'arrowsize': 30,\n",
        "    'withlabels': True\n",
        "}\n",
        "nG = nx.from_pandas_edgelist(G, source='In', target='Out', edge_attr='Weight', create_using=nx.DiGraph)\n",
        "nx.draw_networkx(nG)"
      ],
      "execution_count": 24,
      "outputs": [
        {
          "output_type": "display_data",
          "data": {
            "image/png": "[encoded data removed]",
            "text/plain": [
              "<Figure size 432x288 with 1 Axes>"
            ]
          },
          "metadata": {
            "tags": []
          }
        }
      ]
    },
    {
      "cell_type": "code",
      "metadata": {
        "id": "K_lwmKU0icwz"
      },
      "source": [
        "def uninformed_search_basic(graph: dict, init: str, goal: str):\n",
        "    \"\"\"\n",
        "    \n",
        "    \"\"\"\n",
        "    \n",
        "    # keep path from the start\n",
        "    queue = [init]\n",
        "    \n",
        "    \n",
        "    # auxiliar - iteration counter\n",
        "    i=0 \n",
        "    \n",
        "    while queue:\n",
        "        \n",
        "        # add iteration\n",
        "        i+=1\n",
        "    \n",
        "        head = queue[0]\n",
        "        remainder = queue[1:]\n",
        "\n",
        "        # Show the queue\n",
        "        print('Iteration {}'.format(i))\n",
        "        print('Current Head: {}\\nQueue :{}\\nSize: {}'.format(head, \n",
        "                                                             queue, \n",
        "                                                             len(queue)))\n",
        "        \n",
        "        if head == goal: \n",
        "            print('Found {}'.format(goal)) \n",
        "            break\n",
        "            \n",
        "        else:\n",
        "            if head not in graph:\n",
        "                queue = remainder\n",
        "            else:\n",
        "                possible_paths = graph[head]\n",
        "                queue = remainder + possible_paths \n",
        "         \n",
        "        print('- - - - ')"
      ],
      "execution_count": 20,
      "outputs": []
    },
    {
      "cell_type": "code",
      "metadata": {
        "id": "ACuaCLIUn5dc"
      },
      "source": [
        ""
      ],
      "execution_count": null,
      "outputs": []
    },
    {
      "cell_type": "markdown",
      "metadata": {
        "id": "ulCxjL-dptum"
      },
      "source": [
        "**Gonçalo Évora 21805468**\n"
      ]
    }
  ]
}