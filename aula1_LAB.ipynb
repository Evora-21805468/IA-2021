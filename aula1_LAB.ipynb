{
  "nbformat": 4,
  "nbformat_minor": 0,
  "metadata": {
    "colab": {
      "name": "aula1_LAB.ipynb",
      "provenance": [],
      "collapsed_sections": [],
      "toc_visible": true,
      "include_colab_link": true
    },
    "kernelspec": {
      "display_name": "Python 3",
      "language": "python",
      "name": "python3"
    },
    "language_info": {
      "codemirror_mode": {
        "name": "ipython",
        "version": 3
      },
      "file_extension": ".py",
      "mimetype": "text/x-python",
      "name": "python",
      "nbconvert_exporter": "python",
      "pygments_lexer": "ipython3",
      "version": "3.7.6"
    },
    "toc": {
      "base_numbering": 1,
      "nav_menu": {},
      "number_sections": false,
      "sideBar": true,
      "skip_h1_title": false,
      "title_cell": "Table of Contents",
      "title_sidebar": "Contents",
      "toc_cell": false,
      "toc_position": {},
      "toc_section_display": true,
      "toc_window_display": false
    },
    "varInspector": {
      "cols": {
        "lenName": 16,
        "lenType": 16,
        "lenVar": 40
      },
      "kernels_config": {
        "python": {
          "delete_cmd_postfix": "",
          "delete_cmd_prefix": "del ",
          "library": "var_list.py",
          "varRefreshCmd": "print(var_dic_list())"
        },
        "r": {
          "delete_cmd_postfix": ") ",
          "delete_cmd_prefix": "rm(",
          "library": "var_list.r",
          "varRefreshCmd": "cat(var_dic_list()) "
        }
      },
      "types_to_exclude": [
        "module",
        "function",
        "builtin_function_or_method",
        "instance",
        "_Feature"
      ],
      "window_display": false
    }
  },
  "cells": [
    {
      "cell_type": "markdown",
      "metadata": {
        "id": "view-in-github",
        "colab_type": "text"
      },
      "source": [
        "<a href=\"https://colab.research.google.com/github/Evora-21805468/IA-2021/blob/main/aula1_LAB.ipynb\" target=\"_parent\"><img src=\"https://colab.research.google.com/assets/colab-badge.svg\" alt=\"Open In Colab\"/></a>"
      ]
    },
    {
      "cell_type": "markdown",
      "metadata": {
        "id": "BEc360dpXD80"
      },
      "source": [
        "# Primeira parte"
      ]
    },
    {
      "cell_type": "markdown",
      "metadata": {
        "id": "8N7Gzg2R3T7_"
      },
      "source": [
        "## Pergunta 1\n",
        "\n",
        "A norma L2 dum vector (o que é uma medida da sua magnitude) esta definida como\n",
        "\n",
        "$$ \\lVert x \\rVert = \\sqrt{\\sum_{i=1}^n x_i^2}$$"
      ]
    },
    {
      "cell_type": "markdown",
      "metadata": {
        "id": "KON978WUXD89"
      },
      "source": [
        "\n",
        "Escreva um for loop para calcular esta medida, dado um vetor.  \n",
        "\n",
        "**Nota**\n",
        "- Para calcular a potência de um número em python podemos utilizar o operador ```**```\n",
        "- Elevar um escalar a $0.5$ ou $(1/2)$ é o mesmo que aplicar a raiz quadrada"
      ]
    },
    {
      "cell_type": "code",
      "metadata": {
        "ExecuteTime": {
          "end_time": "2021-02-22T00:21:02.257463Z",
          "start_time": "2021-02-22T00:21:02.250981Z"
        },
        "id": "RO6dnjdfXD8-",
        "outputId": "02be075d-8871-46a9-852d-62ffa6fffc2f"
      },
      "source": [
        "4**(1/2)"
      ],
      "execution_count": null,
      "outputs": [
        {
          "output_type": "execute_result",
          "data": {
            "text/plain": [
              "2.0"
            ]
          },
          "metadata": {
            "tags": []
          },
          "execution_count": 37
        }
      ]
    },
    {
      "cell_type": "code",
      "metadata": {
        "ExecuteTime": {
          "end_time": "2021-02-22T00:28:07.157051Z",
          "start_time": "2021-02-22T00:28:07.150495Z"
        },
        "id": "lVoWgZTe0CGm",
        "colab": {
          "base_uri": "https://localhost:8080/"
        },
        "outputId": "cd3309d4-1570-40ec-ad06-7883bc1e7ab9"
      },
      "source": [
        "import math\n",
        "\n",
        "v1 = [2,2]\n",
        "\n",
        "# inserir codigo aqui\n",
        "norm = None\n",
        "soma = 0\n",
        "for i in v1:\n",
        "  soma += i**2\n",
        "  norm = math.sqrt(soma)\n",
        "  print(norm)\n",
        "\n"
      ],
      "execution_count": 7,
      "outputs": [
        {
          "output_type": "stream",
          "text": [
            "2.0\n",
            "2.8284271247461903\n"
          ],
          "name": "stdout"
        }
      ]
    },
    {
      "cell_type": "markdown",
      "metadata": {
        "id": "rC-2j2O6w8o8"
      },
      "source": [
        "\n",
        "## Pergunta 2\n",
        "\n",
        "O produto escalar (dot product) entre dois vetores $v1$ e $v2$ de tamanho $n$ é definido por \n",
        "\n",
        "$\\sum_{i=1}^n v1_i . v2_i $\n",
        "\n",
        "defina o `for` loop necessário para calcular o produto ponto de quaisquer vetores $v1$ e $v2$.\n",
        "\n"
      ]
    },
    {
      "cell_type": "code",
      "metadata": {
        "ExecuteTime": {
          "end_time": "2021-02-22T00:03:58.965799Z",
          "start_time": "2021-02-22T00:03:58.962082Z"
        },
        "id": "71CalRrKw-TJ",
        "colab": {
          "base_uri": "https://localhost:8080/"
        },
        "outputId": "e9f6dc19-a666-4af1-a952-dda75cbb305c"
      },
      "source": [
        "# pergunta 1\n",
        "\n",
        "v1 = [1,2]\n",
        "v2 = [-3,2]\n",
        "\n",
        "# inserir codigo aqui  \n",
        "pe = 0\n",
        "max_len = len(v1)\n",
        "\n",
        "for i in range(max_len):\n",
        "  pe += v1[i]*v2[i]\n",
        "\n",
        "pe"
      ],
      "execution_count": 34,
      "outputs": [
        {
          "output_type": "execute_result",
          "data": {
            "text/plain": [
              "1"
            ]
          },
          "metadata": {
            "tags": []
          },
          "execution_count": 34
        }
      ]
    },
    {
      "cell_type": "markdown",
      "metadata": {
        "id": "l40MIkKu0N2v"
      },
      "source": [
        "## Pergunta 3\n",
        "\n",
        "Experimente usar a função `zip` pasando como parâmetros os vetores v1 e v2. Descreva o que a função produz como resultado.\n",
        "\n",
        "**Nota.** O `zip` vai produzir um objeto da classe zip, mas nos podemos converter esse resultado numa lista através de chamar `list` no resultado do zip"
      ]
    },
    {
      "cell_type": "code",
      "metadata": {
        "id": "pSufwTO8ygIJ"
      },
      "source": [
        "# pergunta 2\n",
        "\n",
        "v1 = [1,2,3,4]\n",
        "v2 = [3,2,5,4]\n",
        "\n",
        "# defina uma variável x e instancie com a aplicação da função zip(v1,v2)\n",
        "\n",
        "x = None # substituir o None com a chamada à função zip\n",
        "\n",
        "# aplique a função list à variável x para ver o conteúdo do resultado\n"
      ],
      "execution_count": null,
      "outputs": []
    },
    {
      "cell_type": "code",
      "metadata": {
        "colab": {
          "base_uri": "https://localhost:8080/"
        },
        "id": "b8qoPPwLXD9D",
        "outputId": "576f5aba-033c-4e33-cffb-7fd5072c28b6"
      },
      "source": [
        "# Insera o codigo For para aplicar à variavel x para calcular o \r\n",
        "v1 = [1,2,3,4]\r\n",
        "v2 = [3,2,5,4]\r\n",
        "\r\n",
        "x = zip(v1,v2)\r\n",
        "list(x)"
      ],
      "execution_count": 30,
      "outputs": [
        {
          "output_type": "execute_result",
          "data": {
            "text/plain": [
              "[(1, 3), (2, 2), (3, 5), (4, 4)]"
            ]
          },
          "metadata": {
            "tags": []
          },
          "execution_count": 30
        }
      ]
    },
    {
      "cell_type": "markdown",
      "metadata": {
        "id": "Nom_ECw7XD9D"
      },
      "source": [
        "\n",
        "## Pergunta 4\n",
        "\n",
        "Como poderiamos escrever o código para calcular o produto ponto de uma forma super Pythonica?\n",
        "\n",
        "**Dica 1.** usar o `zip`   \n",
        "**Dica 2:** quando temos uma lista de número `l` e queremos obter a soma dos seus valores basta com fazer:\n",
        "\n",
        "`sum(l)`"
      ]
    },
    {
      "cell_type": "code",
      "metadata": {
        "id": "kouVzfwHz2GQ",
        "colab": {
          "base_uri": "https://localhost:8080/"
        },
        "outputId": "3fea9387-c61c-44af-cc20-43285f6da4a8"
      },
      "source": [
        "v1 = [1,2,3,4]\n",
        "v2 = [3,2,5,4]\n",
        "\n",
        "pe = 0\n",
        "\n",
        "# inserir o codigo aqui\n",
        "#for mais \"pythonico\" possivel\n",
        "res = sum([value_v1 * value_v2 for value_v1, value_v2 in zip(v1,v2)])\n",
        "res"
      ],
      "execution_count": 40,
      "outputs": [
        {
          "output_type": "execute_result",
          "data": {
            "text/plain": [
              "38"
            ]
          },
          "metadata": {
            "tags": []
          },
          "execution_count": 40
        }
      ]
    },
    {
      "cell_type": "markdown",
      "metadata": {
        "id": "Vb12GvWP-g-A"
      },
      "source": [
        "## Pergunta 5\n",
        "\n",
        "Um dos temas que ainda não abordamos é como definir **funções** em Python. A forma mais basica duma função em Python é muito simples:\n",
        "\n",
        "```python\n",
        "def name_of_the_function(arguments):\n",
        "   \"\"\"\n",
        "   \"\"\"\n",
        "    do something\n",
        "    ...\n",
        "    return the_result\n",
        "```\n",
        "\n",
        "1. Defina a função para calcular o produto ponto de dois vetores $v1$ e $v2$\n",
        "\n",
        "2. Defina a função para calcular a norma L2 dum vetor $v$\n"
      ]
    },
    {
      "cell_type": "code",
      "metadata": {
        "id": "tHIzPKN14uU9"
      },
      "source": [
        "# produto ponto\n",
        "\n",
        "def dot_product(v1, v2):\n",
        "  pe = 0\n",
        "  for i1,i2 in zip(v1,v2):\n",
        "      pe += i1 * i2\n",
        "  return pe\n"
      ],
      "execution_count": 51,
      "outputs": []
    },
    {
      "cell_type": "code",
      "metadata": {
        "colab": {
          "base_uri": "https://localhost:8080/"
        },
        "id": "03QHmeORXD9G",
        "outputId": "7de68aed-dd70-41eb-911e-1c2bb5cc6988"
      },
      "source": [
        "# norma L2\n",
        "import math\n",
        "\n",
        "def norm_l2(v):\n",
        "  norm = None\n",
        "  soma = 0\n",
        "  for i in v:\n",
        "    soma += i**2\n",
        "    norm = math.sqrt(soma)\n",
        "  return norm\n",
        "\n",
        "lol = norm_l2([2,2])\n",
        "lol"
      ],
      "execution_count": 54,
      "outputs": [
        {
          "output_type": "execute_result",
          "data": {
            "text/plain": [
              "2.8284271247461903"
            ]
          },
          "metadata": {
            "tags": []
          },
          "execution_count": 54
        }
      ]
    },
    {
      "cell_type": "markdown",
      "metadata": {
        "id": "B5ZKUFsG_kzI"
      },
      "source": [
        "## Pergunta 6\n",
        "\n",
        "Existe uma medida de similaridade entre vetores muito utilizada na ciência dos dados chamada _similaridade coseno_. Dados dois vetores $v1$ e $v2$ esta medida de similaridade é definida pela formula seguinte:\n",
        "\n",
        "\n",
        "$$\n",
        "  cos(v1, v2) = \\frac{v1 . v2}{\\lVert v1 \\rVert \\times \\lVert v2 \\rVert}\n",
        "$$  \n",
        "\n",
        "Utilizando as funções anteriores, defina esta função de similaridade.\n"
      ]
    },
    {
      "cell_type": "code",
      "metadata": {
        "ExecuteTime": {
          "end_time": "2021-02-22T00:36:27.602210Z",
          "start_time": "2021-02-22T00:36:27.598791Z"
        },
        "id": "iJmEsbJ5AeyG"
      },
      "source": [
        "# Similaridade coseno\n",
        "\n",
        "def sim_cos(v1, v2):\n",
        "   return dot_product(v1, v2) / (norm_l2(v1) * norm_l2(v2))\n"
      ],
      "execution_count": 57,
      "outputs": []
    },
    {
      "cell_type": "code",
      "metadata": {
        "id": "0F0eJlv27poF",
        "colab": {
          "base_uri": "https://localhost:8080/"
        },
        "outputId": "680f5e98-9c2b-46b2-eaec-c71331c07d31"
      },
      "source": [
        "v1 = [1,2,3,4]\n",
        "v2 = [3,2,5,4]\n",
        "\n",
        "sim_cos(v1,v2)"
      ],
      "execution_count": 58,
      "outputs": [
        {
          "output_type": "execute_result",
          "data": {
            "text/plain": [
              "0.9441175904999112"
            ]
          },
          "metadata": {
            "tags": []
          },
          "execution_count": 58
        }
      ]
    },
    {
      "cell_type": "markdown",
      "metadata": {
        "id": "MYflrEdIA4Cr"
      },
      "source": [
        "# Segunda Parte\n",
        "\n",
        "Considere os dados seguintes, os quais correspondem a notas de alunos no ensino secundário.\n",
        "\n",
        "|            | Maria    | Filipe    | Martin    | Raquel   | Ana      |\n",
        "|------------|----------|-----------|-----------|----------|----------|\n",
        "| genero     | feminino | masculino | masculino | feminino | feminino |\n",
        "| matematica | 14       | 15        | 14        | 16       | 18       |\n",
        "| biologia   | 17       | 14        | 17        | 16       | 15       |\n",
        "| fisica     | 12       | 18        | 17        | 18       | 17       |\n",
        "\n",
        "1. Defina uma estrutura de tipo dicionario que guarde esta informação.\n"
      ]
    },
    {
      "cell_type": "code",
      "metadata": {
        "ExecuteTime": {
          "end_time": "2021-02-22T00:38:22.611769Z",
          "start_time": "2021-02-22T00:38:22.605267Z"
        },
        "id": "IS_stM5KDA2p"
      },
      "source": [
        "my_dict = {\n",
        "    'maria':  {'gender' : 'female', 'math': 14, 'bio' : 17, 'physics' : 12},\n",
        "    'filipe': {'gender' : 'male',   'math': 15, 'bio' : 14, 'physics' : 18},\n",
        "    'martin': {'gender' : 'male',   'math': 14, 'bio' : 17, 'physics' : 17},\n",
        "    'raquel': {'gender' : 'female', 'math': 16, 'bio' : 16, 'physics' : 18},\n",
        "    'ana':    {'gender' : 'female', 'math': 18, 'bio' : 15, 'physics' : 17}\n",
        "}"
      ],
      "execution_count": 59,
      "outputs": []
    },
    {
      "cell_type": "markdown",
      "metadata": {
        "id": "FPPzyOoUXD9H"
      },
      "source": [
        "\n",
        "2. Defina uma função `group_mean` para calcular a media do grupo para uma cadeira específica (enviada como argumento)"
      ]
    },
    {
      "cell_type": "code",
      "metadata": {
        "colab": {
          "base_uri": "https://localhost:8080/"
        },
        "id": "vZ922ITZXD9I",
        "outputId": "f770a139-7927-474f-e43b-bd40ac0ed904"
      },
      "source": [
        "# Aqui estou a dar um ponto de partida para facilitar.\n",
        "\n",
        "def group_mean(data, subject):\n",
        "  accum = 0\n",
        "  num_students = len(data)\n",
        "\n",
        "  for student in data.keys():\n",
        "    accum += data[student][subject]\n",
        "    \n",
        "  return accum / num_students\n",
        "\n",
        "  \n",
        "lol = group_mean(my_dict,'math')\n",
        "lol\n",
        "  \n",
        "        "
      ],
      "execution_count": 68,
      "outputs": [
        {
          "output_type": "execute_result",
          "data": {
            "text/plain": [
              "15.4"
            ]
          },
          "metadata": {
            "tags": []
          },
          "execution_count": 68
        }
      ]
    },
    {
      "cell_type": "markdown",
      "metadata": {
        "id": "UEDKmjjXXD9J"
      },
      "source": [
        "\n",
        "3. Altere uma cópia da definição da sua função e chame a esta cópia `gender_mean` para calcular a media de grupo para uma cadeira, mas identificando o género (também passado como argumento)"
      ]
    },
    {
      "cell_type": "markdown",
      "metadata": {
        "id": "qPbU_zKjGZOH"
      },
      "source": [
        "# Pergunta Bónus\n",
        "\n",
        "Escreva uma list comprehension que filtre, de uma lista pre-existente de palavras, aquelas que tenham mais do que quatro lettras, e nas quais aparecam pelo menos duas vogais diferentes.\n",
        "\n"
      ]
    },
    {
      "cell_type": "code",
      "metadata": {
        "ExecuteTime": {
          "end_time": "2021-02-22T00:40:35.410380Z",
          "start_time": "2021-02-22T00:40:35.403514Z"
        },
        "id": "dMMOlETnEHuj",
        "colab": {
          "base_uri": "https://localhost:8080/",
          "height": 338
        },
        "outputId": "2b5fdd82-b052-4e96-98ae-04ade1eea656"
      },
      "source": [
        "from collections import Counter\n",
        "\n",
        "my_words = ['pyramid', 'car', 'quiet']\n",
        "\n",
        "def count_vowels(word):\n",
        "    vowels = ['a','e','i','o', 'u']\n",
        "    cnt = tally_count[word,vowels] # update the code here\n",
        "    return cnt # update the code here\n",
        "\n",
        "count_vowels(my_words)"
      ],
      "execution_count": 70,
      "outputs": [
        {
          "output_type": "error",
          "ename": "NameError",
          "evalue": "ignored",
          "traceback": [
            "\u001b[0;31m---------------------------------------------------------------------------\u001b[0m",
            "\u001b[0;31mNameError\u001b[0m                                 Traceback (most recent call last)",
            "\u001b[0;32m<ipython-input-70-f2e218e5cdd1>\u001b[0m in \u001b[0;36m<module>\u001b[0;34m()\u001b[0m\n\u001b[1;32m      8\u001b[0m     \u001b[0;32mreturn\u001b[0m \u001b[0mcnt\u001b[0m \u001b[0;31m# update the code here\u001b[0m\u001b[0;34m\u001b[0m\u001b[0;34m\u001b[0m\u001b[0m\n\u001b[1;32m      9\u001b[0m \u001b[0;34m\u001b[0m\u001b[0m\n\u001b[0;32m---> 10\u001b[0;31m \u001b[0mcount_vowels\u001b[0m\u001b[0;34m(\u001b[0m\u001b[0mmy_words\u001b[0m\u001b[0;34m)\u001b[0m\u001b[0;34m\u001b[0m\u001b[0;34m\u001b[0m\u001b[0m\n\u001b[0m",
            "\u001b[0;32m<ipython-input-70-f2e218e5cdd1>\u001b[0m in \u001b[0;36mcount_vowels\u001b[0;34m(word)\u001b[0m\n\u001b[1;32m      5\u001b[0m \u001b[0;32mdef\u001b[0m \u001b[0mcount_vowels\u001b[0m\u001b[0;34m(\u001b[0m\u001b[0mword\u001b[0m\u001b[0;34m)\u001b[0m\u001b[0;34m:\u001b[0m\u001b[0;34m\u001b[0m\u001b[0;34m\u001b[0m\u001b[0m\n\u001b[1;32m      6\u001b[0m     \u001b[0mvowels\u001b[0m \u001b[0;34m=\u001b[0m \u001b[0;34m[\u001b[0m\u001b[0;34m'a'\u001b[0m\u001b[0;34m,\u001b[0m\u001b[0;34m'e'\u001b[0m\u001b[0;34m,\u001b[0m\u001b[0;34m'i'\u001b[0m\u001b[0;34m,\u001b[0m\u001b[0;34m'o'\u001b[0m\u001b[0;34m,\u001b[0m \u001b[0;34m'u'\u001b[0m\u001b[0;34m]\u001b[0m\u001b[0;34m\u001b[0m\u001b[0;34m\u001b[0m\u001b[0m\n\u001b[0;32m----> 7\u001b[0;31m     \u001b[0mcnt\u001b[0m \u001b[0;34m=\u001b[0m \u001b[0mtally_count\u001b[0m\u001b[0;34m[\u001b[0m\u001b[0mword\u001b[0m\u001b[0;34m,\u001b[0m\u001b[0mvowels\u001b[0m\u001b[0;34m]\u001b[0m \u001b[0;31m# update the code here\u001b[0m\u001b[0;34m\u001b[0m\u001b[0;34m\u001b[0m\u001b[0m\n\u001b[0m\u001b[1;32m      8\u001b[0m     \u001b[0;32mreturn\u001b[0m \u001b[0mcnt\u001b[0m \u001b[0;31m# update the code here\u001b[0m\u001b[0;34m\u001b[0m\u001b[0;34m\u001b[0m\u001b[0m\n\u001b[1;32m      9\u001b[0m \u001b[0;34m\u001b[0m\u001b[0m\n",
            "\u001b[0;31mNameError\u001b[0m: name 'tally_count' is not defined"
          ]
        }
      ]
    },
    {
      "cell_type": "code",
      "metadata": {
        "ExecuteTime": {
          "end_time": "2021-02-22T00:40:58.458051Z",
          "start_time": "2021-02-22T00:40:58.454951Z"
        },
        "id": "mo2bsFgjXD9J"
      },
      "source": [
        "# crie aqui uma list comprehesion"
      ],
      "execution_count": null,
      "outputs": []
    }
  ]
}