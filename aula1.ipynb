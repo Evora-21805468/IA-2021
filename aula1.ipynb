{
  "nbformat": 4,
  "nbformat_minor": 0,
  "metadata": {
    "colab": {
      "name": "aula1",
      "provenance": [],
      "collapsed_sections": [],
      "authorship_tag": "ABX9TyM8Zr3CNO2OQ/C4SeNFyq8u",
      "include_colab_link": true
    },
    "kernelspec": {
      "name": "python3",
      "display_name": "Python 3"
    }
  },
  "cells": [
    {
      "cell_type": "markdown",
      "metadata": {
        "id": "view-in-github",
        "colab_type": "text"
      },
      "source": [
        "<a href=\"https://colab.research.google.com/github/Evora-21805468/IA-2021/blob/main/aula1.ipynb\" target=\"_parent\"><img src=\"https://colab.research.google.com/assets/colab-badge.svg\" alt=\"Open In Colab\"/></a>"
      ]
    },
    {
      "cell_type": "code",
      "metadata": {
        "colab": {
          "base_uri": "https://localhost:8080/"
        },
        "id": "8pmG55WJ3Fe5",
        "outputId": "33d700ca-16cc-41ed-ccbe-c103740ca868"
      },
      "source": [
        "# a simple for loop\r\n",
        "for i in [1,2,3,4,5]:\r\n",
        "  print(i + 2)"
      ],
      "execution_count": null,
      "outputs": [
        {
          "output_type": "stream",
          "text": [
            "3\n",
            "4\n",
            "5\n",
            "6\n",
            "7\n"
          ],
          "name": "stdout"
        }
      ]
    },
    {
      "cell_type": "code",
      "metadata": {
        "colab": {
          "base_uri": "https://localhost:8080/"
        },
        "id": "9IL233zb4NbS",
        "outputId": "899883b6-8f83-4540-a7ce-488d5b9494f1"
      },
      "source": [
        "# a simple if else statement showing how Python uses identation\r\n",
        "x = 5\r\n",
        "if x < 5:\r\n",
        "  print('less than five')\r\n",
        "else:\r\n",
        "  print('x is five or bigger')"
      ],
      "execution_count": null,
      "outputs": [
        {
          "output_type": "stream",
          "text": [
            "x is five or bigger\n"
          ],
          "name": "stdout"
        }
      ]
    },
    {
      "cell_type": "code",
      "metadata": {
        "colab": {
          "base_uri": "https://localhost:8080/"
        },
        "id": "6t3FreLk4qp7",
        "outputId": "d4443ccb-c726-4a8a-ee0e-badc425db158"
      },
      "source": [
        "# I can represent a list of lists like\r\n",
        "m1 = [[1,2,3], [2,1,2], [3,3,1]]\r\n",
        "# or write them in a more readable way\r\n",
        "m2 = [\r\n",
        "      [1,2,3],\r\n",
        "      [2,1,2],\r\n",
        "      [3,3,1]\r\n",
        "      ]\r\n",
        "\r\n",
        "print(m1)\r\n",
        "print(m2)"
      ],
      "execution_count": null,
      "outputs": [
        {
          "output_type": "stream",
          "text": [
            "[[1, 2, 3], [2, 1, 2], [3, 3, 1]]\n",
            "[[1, 2, 3], [2, 1, 2], [3, 3, 1]]\n"
          ],
          "name": "stdout"
        }
      ]
    },
    {
      "cell_type": "code",
      "metadata": {
        "colab": {
          "base_uri": "https://localhost:8080/"
        },
        "id": "edza1Qkr5C_H",
        "outputId": "d9a26144-1805-4614-bd91-28bc95a7e970"
      },
      "source": [
        "# lets import the library for regular expressions\r\n",
        "import re\r\n",
        "\r\n",
        "# now we want to use regular expressions to find out if a word contains a pattern definde by the letter 'e' followed by any characters followed by 'e'\r\n",
        "word = input(\"Enter a string: \")\r\n",
        "found = re.search(r'e.*e', word)\r\n",
        "if found:\r\n",
        "  print(word, 'countains the pattern')\r\n",
        "else:\r\n",
        "  print(word, \"does not contain the pattern\")"
      ],
      "execution_count": null,
      "outputs": [
        {
          "output_type": "stream",
          "text": [
            "Enter a string: halloween\n",
            "halloween does not contain the pattern\n"
          ],
          "name": "stdout"
        }
      ]
    },
    {
      "cell_type": "code",
      "metadata": {
        "id": "g9fjpdG559nN"
      },
      "source": [
        "import re as maria # we can import modules with aliasses f.e. maria cuz why not LOLOLOLOLOLOLOLOLOLOLOLOL\r\n",
        "\r\n",
        "word = input(\"Enter a string: \")\r\n",
        "found = maria.search(r'e.*e', word)\r\n",
        "if found:\r\n",
        "  print(word, 'countains the pattern')\r\n",
        "else:\r\n",
        "  print(word, \"does not contain the pattern\")\r\n"
      ],
      "execution_count": null,
      "outputs": []
    },
    {
      "cell_type": "code",
      "metadata": {
        "colab": {
          "base_uri": "https://localhost:8080/"
        },
        "id": "yBpLmaqG7TyT",
        "outputId": "7dcb7d30-6744-4416-9d7f-769dc7f4076a"
      },
      "source": [
        "# lets use the submodule Counter from the collection module to tally the number of instances of the different elements in a list (basically count)\r\n",
        "\r\n",
        "from collections import Counter\r\n",
        "\r\n",
        "my_list =  ['hello', 'i', 'am', 'hello', 'lucy', 'mean', 'lucy', 'bell', 'hello']\r\n",
        "\r\n",
        "tally_count = Counter(my_list)\r\n",
        "print(tally_count)\r\n",
        "\r\n",
        "# now we can ask tally_count how many instances of a given word are in my list\r\n",
        "tally_count['hello']"
      ],
      "execution_count": null,
      "outputs": [
        {
          "output_type": "stream",
          "text": [
            "Counter({'hello': 3, 'lucy': 2, 'i': 1, 'am': 1, 'mean': 1, 'bell': 1})\n"
          ],
          "name": "stdout"
        },
        {
          "output_type": "execute_result",
          "data": {
            "text/plain": [
              "3"
            ]
          },
          "metadata": {
            "tags": []
          },
          "execution_count": 8
        }
      ]
    },
    {
      "cell_type": "code",
      "metadata": {
        "id": "ehU1q1YD7pdh"
      },
      "source": [
        ""
      ],
      "execution_count": null,
      "outputs": []
    }
  ]
}