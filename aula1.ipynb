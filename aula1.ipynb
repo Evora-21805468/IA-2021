{
  "nbformat": 4,
  "nbformat_minor": 0,
  "metadata": {
    "colab": {
      "name": "aula1",
      "provenance": [],
      "collapsed_sections": [],
      "authorship_tag": "ABX9TyNRilmjJOESt5iyPdIy0bEe",
      "include_colab_link": true
    },
    "kernelspec": {
      "name": "python3",
      "display_name": "Python 3"
    }
  },
  "cells": [
    {
      "cell_type": "markdown",
      "metadata": {
        "id": "view-in-github",
        "colab_type": "text"
      },
      "source": [
        "<a href=\"https://colab.research.google.com/github/Evora-21805468/IA-2021/blob/main/aula1.ipynb\" target=\"_parent\"><img src=\"https://colab.research.google.com/assets/colab-badge.svg\" alt=\"Open In Colab\"/></a>"
      ]
    },
    {
      "cell_type": "code",
      "metadata": {
        "colab": {
          "base_uri": "https://localhost:8080/"
        },
        "id": "8pmG55WJ3Fe5",
        "outputId": "33d700ca-16cc-41ed-ccbe-c103740ca868"
      },
      "source": [
        "# a simple for loop\r\n",
        "for i in [1,2,3,4,5]:\r\n",
        "  print(i + 2)"
      ],
      "execution_count": null,
      "outputs": [
        {
          "output_type": "stream",
          "text": [
            "3\n",
            "4\n",
            "5\n",
            "6\n",
            "7\n"
          ],
          "name": "stdout"
        }
      ]
    },
    {
      "cell_type": "code",
      "metadata": {
        "colab": {
          "base_uri": "https://localhost:8080/"
        },
        "id": "9IL233zb4NbS",
        "outputId": "899883b6-8f83-4540-a7ce-488d5b9494f1"
      },
      "source": [
        "# a simple if else statement showing how Python uses identation\r\n",
        "x = 5\r\n",
        "if x < 5:\r\n",
        "  print('less than five')\r\n",
        "else:\r\n",
        "  print('x is five or bigger')"
      ],
      "execution_count": null,
      "outputs": [
        {
          "output_type": "stream",
          "text": [
            "x is five or bigger\n"
          ],
          "name": "stdout"
        }
      ]
    },
    {
      "cell_type": "code",
      "metadata": {
        "colab": {
          "base_uri": "https://localhost:8080/"
        },
        "id": "6t3FreLk4qp7",
        "outputId": "d4443ccb-c726-4a8a-ee0e-badc425db158"
      },
      "source": [
        "# I can represent a list of lists like\r\n",
        "m1 = [[1,2,3], [2,1,2], [3,3,1]]\r\n",
        "# or write them in a more readable way\r\n",
        "m2 = [\r\n",
        "      [1,2,3],\r\n",
        "      [2,1,2],\r\n",
        "      [3,3,1]\r\n",
        "      ]\r\n",
        "\r\n",
        "print(m1)\r\n",
        "print(m2)"
      ],
      "execution_count": null,
      "outputs": [
        {
          "output_type": "stream",
          "text": [
            "[[1, 2, 3], [2, 1, 2], [3, 3, 1]]\n",
            "[[1, 2, 3], [2, 1, 2], [3, 3, 1]]\n"
          ],
          "name": "stdout"
        }
      ]
    },
    {
      "cell_type": "code",
      "metadata": {
        "colab": {
          "base_uri": "https://localhost:8080/"
        },
        "id": "edza1Qkr5C_H",
        "outputId": "d9a26144-1805-4614-bd91-28bc95a7e970"
      },
      "source": [
        "# lets import the library for regular expressions\r\n",
        "import re\r\n",
        "\r\n",
        "# now we want to use regular expressions to find out if a word contains a pattern definde by the letter 'e' followed by any characters followed by 'e'\r\n",
        "word = input(\"Enter a string: \")\r\n",
        "found = re.search(r'e.*e', word)\r\n",
        "if found:\r\n",
        "  print(word, 'countains the pattern')\r\n",
        "else:\r\n",
        "  print(word, \"does not contain the pattern\")"
      ],
      "execution_count": null,
      "outputs": [
        {
          "output_type": "stream",
          "text": [
            "Enter a string: halloween\n",
            "halloween does not contain the pattern\n"
          ],
          "name": "stdout"
        }
      ]
    },
    {
      "cell_type": "code",
      "metadata": {
        "id": "g9fjpdG559nN"
      },
      "source": [
        "import re as maria # we can import modules with aliasses f.e. maria cuz why not LOLOLOLOLOLOLOLOLOLOLOLOL\r\n",
        "\r\n",
        "word = input(\"Enter a string: \")\r\n",
        "found = maria.search(r'e.*e', word)\r\n",
        "if found:\r\n",
        "  print(word, 'countains the pattern')\r\n",
        "else:\r\n",
        "  print(word, \"does not contain the pattern\")\r\n"
      ],
      "execution_count": null,
      "outputs": []
    },
    {
      "cell_type": "code",
      "metadata": {
        "colab": {
          "base_uri": "https://localhost:8080/"
        },
        "id": "yBpLmaqG7TyT",
        "outputId": "7dcb7d30-6744-4416-9d7f-769dc7f4076a"
      },
      "source": [
        "# lets use the submodule Counter from the collection module to tally the number of instances of the different elements in a list (basically count)\r\n",
        "\r\n",
        "from collections import Counter\r\n",
        "\r\n",
        "my_list =  ['hello', 'i', 'am', 'hello', 'lucy', 'mean', 'lucy', 'bell', 'hello']\r\n",
        "\r\n",
        "tally_count = Counter(my_list)\r\n",
        "print(tally_count)\r\n",
        "\r\n",
        "# now we can ask tally_count how many instances of a given word are in my list\r\n",
        "tally_count['hello']"
      ],
      "execution_count": null,
      "outputs": [
        {
          "output_type": "stream",
          "text": [
            "Counter({'hello': 3, 'lucy': 2, 'i': 1, 'am': 1, 'mean': 1, 'bell': 1})\n"
          ],
          "name": "stdout"
        },
        {
          "output_type": "execute_result",
          "data": {
            "text/plain": [
              "3"
            ]
          },
          "metadata": {
            "tags": []
          },
          "execution_count": 8
        }
      ]
    },
    {
      "cell_type": "code",
      "metadata": {
        "id": "ehU1q1YD7pdh",
        "colab": {
          "base_uri": "https://localhost:8080/"
        },
        "outputId": "8dfac263-250b-42bc-c60e-4ec36ffe626d"
      },
      "source": [
        "i = 3\r\n",
        "j = 0.6\r\n",
        "\r\n",
        "k1 = j + i \r\n",
        "print(k1)\r\n",
        "\r\n",
        "k2 = i**2 # quadrado de i\r\n",
        "print(k2)\r\n",
        "\r\n",
        "k3 = 18//5 # integer part of the division\r\n",
        "print(k3)\r\n",
        "\r\n",
        "import math\r\n",
        "k4 = math.sqrt(i) # raiz quadrada\r\n",
        "print(k4)\r\n",
        "\r\n",
        "k5 = math.log2(18) #logaritmo base 2 de 18\r\n",
        "print(k5)\r\n"
      ],
      "execution_count": 9,
      "outputs": [
        {
          "output_type": "stream",
          "text": [
            "3.6\n",
            "9\n",
            "3\n",
            "1.7320508075688772\n",
            "4.169925001442312\n"
          ],
          "name": "stdout"
        }
      ]
    },
    {
      "cell_type": "code",
      "metadata": {
        "colab": {
          "base_uri": "https://localhost:8080/"
        },
        "id": "QZnTFxXBA74T",
        "outputId": "5b163075-77d9-420b-e41b-4c561822fc11"
      },
      "source": [
        "s = 'this is a string'\r\n",
        "print('the first element of s is', s[0]) # basico né\r\n",
        "print('the first four chars in s are: ', s[0:4]) # escolho o intervalo\r\n",
        "print('if I split s by white char I get: ', s.split()) # vai fazer split (separação) (neste caso vai fazer por intervalos em branco mas posso meter um argumento dentro da função split)\r\n",
        "phrase = \"hello \" + \"how are you\" # concatenação de strings\r\n",
        "print(phrase)"
      ],
      "execution_count": 10,
      "outputs": [
        {
          "output_type": "stream",
          "text": [
            "the first element of s is t\n",
            "the first four chars in s are:  this\n",
            "if I split s by white char I get:  ['this', 'is', 'a', 'string']\n",
            "hello how are you\n"
          ],
          "name": "stdout"
        }
      ]
    },
    {
      "cell_type": "code",
      "metadata": {
        "colab": {
          "base_uri": "https://localhost:8080/"
        },
        "id": "b-8t7WyLBiaI",
        "outputId": "51996fde-a565-46ca-f2cb-704958ec6570"
      },
      "source": [
        "print('testing 3 == 3 yields', 3 == 3) # True\r\n",
        "print('testing 3 != 4 yields', 3 != 4) # True\r\n",
        "print('testing 3 == 4 yields', 3 == 4) # False\r\n",
        "\r\n",
        "p = True\r\n",
        "q = False\r\n",
        "\r\n",
        "print(' the and test for p and q yields: ', p and q)\r\n",
        "print(' the and test for p or q yields: ', p or q)\r\n",
        "print(' the and not test for p and q yields: ', p and not q)"
      ],
      "execution_count": 13,
      "outputs": [
        {
          "output_type": "stream",
          "text": [
            "testing 3 == 3 yields True\n",
            "testing 3 != 4 yields True\n",
            "testing 3 == 4 yields False\n",
            " the and test for p and q yields:  False\n",
            " the and test for p or q yields:  True\n",
            " the and not test for p and q yields:  True\n"
          ],
          "name": "stdout"
        }
      ]
    },
    {
      "cell_type": "code",
      "metadata": {
        "colab": {
          "base_uri": "https://localhost:8080/"
        },
        "id": "ByhiuDkmB4Dx",
        "outputId": "0b374f90-1d34-4aa2-aaaa-b55470128ea4"
      },
      "source": [
        "l = ['a','b','c','a','d']\r\n",
        "\r\n",
        "l.append('e') # juntar 'e' à lista\r\n",
        "print('after appending element \"e\" our list becomes: ', l)\r\n",
        "\r\n",
        "pos = l.index('a') # encontramos a primeira ocorrência do elemento\r\n",
        "print('the element \"a\" is first located in position ', pos, 'counting from the start')\r\n",
        "pos = l.index('a',2) # encontramos a ocorrência do elemento na lista pela posição dada como argumento\r\n",
        "print('the element \"a\" is first located in position ', pos, 'counting from the 3rd position')\r\n",
        "\r\n",
        "l = l + ['f','g','h'] # concatena elementos à lista\r\n",
        "\r\n",
        "t = (\"test\",8)\r\n",
        "print('the variable t is the tuple', t) # tuple (tuplo) é uma sequência de n elementos\r\n",
        "\r\n"
      ],
      "execution_count": 14,
      "outputs": [
        {
          "output_type": "stream",
          "text": [
            "after appending element \"e\" our list becomes:  ['a', 'b', 'c', 'a', 'd', 'e']\n",
            "the element \"a\" is first located in position  0 counting from the start\n",
            "the element \"a\" is first located in position  3 counting from the 3rd position\n",
            "the variable t is the tuple ('test', 8)\n"
          ],
          "name": "stdout"
        }
      ]
    },
    {
      "cell_type": "code",
      "metadata": {
        "colab": {
          "base_uri": "https://localhost:8080/"
        },
        "id": "92mibMGYDyiF",
        "outputId": "0985d58b-b769-4676-a588-9f4007e2a12b"
      },
      "source": [
        "my_dict = {\r\n",
        "    'helen' : 16,\r\n",
        "    'lucy' : 15,\r\n",
        "    'matt' : 16,\r\n",
        "    'lucas' : 14,\r\n",
        "    'mary' : 15\r\n",
        "}\r\n",
        "\r\n",
        "# qual é a nota do lucas?\r\n",
        "print(\"Lucas' score is\", my_dict['lucas'])\r\n",
        "\r\n",
        "# quais são as chaves do meu dicionário\r\n",
        "print('my dictionary has the following keys', my_dict.keys())\r\n",
        "\r\n",
        "# quais são os valores do meu dicionário\r\n",
        "print('my dictionary has the following keys', my_dict.values())\r\n",
        "\r\n",
        "# dicionaries can be neste\r\n",
        "my_dict2 ={\r\n",
        "    'helen': {'math': 16, 'biology': 13},\r\n",
        "    'lucy' : {'math': 15, 'biology': 17},\r\n",
        "    'mary' : {'math': 14, 'biology': 18}\r\n",
        "}\r\n",
        "\r\n",
        "print(\"Mary's score in math is given by: \", my_dict2['mary']['math'])"
      ],
      "execution_count": 15,
      "outputs": [
        {
          "output_type": "stream",
          "text": [
            "Lucas' score is 14\n",
            "my dictionary has the following keys dict_keys(['helen', 'lucy', 'matt', 'lucas', 'mary'])\n",
            "my dictionary has the following keys dict_values([16, 15, 16, 14, 15])\n",
            "mary's score in math is given by:  14\n"
          ],
          "name": "stdout"
        }
      ]
    },
    {
      "cell_type": "code",
      "metadata": {
        "colab": {
          "base_uri": "https://localhost:8080/"
        },
        "id": "Qj2VA4cLE3bn",
        "outputId": "e63d0de7-3cba-437c-a508-c7112e87f85d"
      },
      "source": [
        "my_list =['this', 'is', 'a', 'list', 'of', 'strings']\r\n",
        "\r\n",
        "res = []\r\n",
        "# for para descobrir as palavras com tamanho maior que 2\r\n",
        "for item in my_list: # item pode ser a,b,i,count,etc.\r\n",
        "  if len(item) > 2:\r\n",
        "    res.append(item)\r\n",
        "res\r\n",
        "\r\n",
        "# for tradicional\r\n",
        "for i in range(0, len(my_list)):\r\n",
        "  if len(my_list[i])>2:\r\n",
        "    res.append(my_list[i])\r\n",
        "res\r\n",
        "\r\n",
        "#for mais \"pythonico\" possivel\r\n",
        "res = [item for item in my_list if len(item) > 2] # list comprehension\r\n",
        "res"
      ],
      "execution_count": 19,
      "outputs": [
        {
          "output_type": "execute_result",
          "data": {
            "text/plain": [
              "['this', 'list', 'strings']"
            ]
          },
          "metadata": {
            "tags": []
          },
          "execution_count": 19
        }
      ]
    },
    {
      "cell_type": "code",
      "metadata": {
        "colab": {
          "base_uri": "https://localhost:8080/"
        },
        "id": "5cz9-b15E1Qd",
        "outputId": "91223309-0fe8-483b-d735-8a6f5d4f5329"
      },
      "source": [
        "my_range = range (0,5)\r\n",
        "my_range"
      ],
      "execution_count": 20,
      "outputs": [
        {
          "output_type": "execute_result",
          "data": {
            "text/plain": [
              "range(0, 5)"
            ]
          },
          "metadata": {
            "tags": []
          },
          "execution_count": 20
        }
      ]
    },
    {
      "cell_type": "code",
      "metadata": {
        "colab": {
          "base_uri": "https://localhost:8080/"
        },
        "id": "GB1hm6nXGcU-",
        "outputId": "564d0a83-f095-4387-c46f-c62a608041cf"
      },
      "source": [
        "list(my_range)"
      ],
      "execution_count": 22,
      "outputs": [
        {
          "output_type": "execute_result",
          "data": {
            "text/plain": [
              "[0, 1, 2, 3, 4]"
            ]
          },
          "metadata": {
            "tags": []
          },
          "execution_count": 22
        }
      ]
    },
    {
      "cell_type": "code",
      "metadata": {
        "colab": {
          "base_uri": "https://localhost:8080/"
        },
        "id": "uzfl1WD6Ge3Q",
        "outputId": "aed9aafe-fad9-4d5a-c263-e1c4bf2bdba0"
      },
      "source": [
        "word = 'pyramidal'\r\n",
        "\r\n",
        "if 'x' in word:\r\n",
        "  print('word has an x')\r\n",
        "elif 'y' in word:\r\n",
        "  print('word has a y')\r\n",
        "elif 'z' in word:\r\n",
        "  print('word has a z')\r\n",
        "else:\r\n",
        "  print('word does not have any of the last three letters of the alphabet')"
      ],
      "execution_count": 23,
      "outputs": [
        {
          "output_type": "stream",
          "text": [
            "word has a y\n"
          ],
          "name": "stdout"
        }
      ]
    },
    {
      "cell_type": "code",
      "metadata": {
        "id": "d6lFd2URG5hG"
      },
      "source": [
        "word = 'pyramidal'\r\n",
        "\r\n",
        "if 'x' in word:\r\n",
        "  print('word has an x')\r\n",
        "else:\r\n",
        "  print('no x in the word')\r\n",
        "if 'y' in word:\r\n",
        "  print('word has a y')\r\n",
        "else:\r\n",
        "  print('no y in the word')\r\n",
        "if 'z' in word:\r\n",
        "  print('word has a z')\r\n",
        "else:\r\n",
        "  print('no z in word')"
      ],
      "execution_count": null,
      "outputs": []
    },
    {
      "cell_type": "code",
      "metadata": {
        "colab": {
          "base_uri": "https://localhost:8080/"
        },
        "id": "s9BXOyGjHTW3",
        "outputId": "8e63b406-642b-4aad-ebae-6df91bd9ff01"
      },
      "source": [
        "i = 10\r\n",
        "while i>0:\r\n",
        "  print(\"repeating\", i)\r\n",
        "  i -= 1"
      ],
      "execution_count": 24,
      "outputs": [
        {
          "output_type": "stream",
          "text": [
            "repeating 10\n",
            "repeating 9\n",
            "repeating 8\n",
            "repeating 7\n",
            "repeating 6\n",
            "repeating 5\n",
            "repeating 4\n",
            "repeating 3\n",
            "repeating 2\n",
            "repeating 1\n"
          ],
          "name": "stdout"
        }
      ]
    },
    {
      "cell_type": "code",
      "metadata": {
        "id": "AEDnurHrHbPz"
      },
      "source": [
        ""
      ],
      "execution_count": null,
      "outputs": []
    }
  ]
}