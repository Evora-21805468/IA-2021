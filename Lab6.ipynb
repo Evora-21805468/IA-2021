{
  "nbformat": 4,
  "nbformat_minor": 0,
  "metadata": {
    "kernelspec": {
      "display_name": "Python 3",
      "language": "python",
      "name": "python3"
    },
    "language_info": {
      "codemirror_mode": {
        "name": "ipython",
        "version": 3
      },
      "file_extension": ".py",
      "mimetype": "text/x-python",
      "name": "python",
      "nbconvert_exporter": "python",
      "pygments_lexer": "ipython3",
      "version": "3.7.6"
    },
    "toc": {
      "base_numbering": 1,
      "nav_menu": {},
      "number_sections": false,
      "sideBar": true,
      "skip_h1_title": false,
      "title_cell": "Table of Contents",
      "title_sidebar": "Contents",
      "toc_cell": false,
      "toc_position": {
        "height": "calc(100% - 180px)",
        "left": "10px",
        "top": "150px",
        "width": "348px"
      },
      "toc_section_display": true,
      "toc_window_display": true
    },
    "varInspector": {
      "cols": {
        "lenName": 16,
        "lenType": 16,
        "lenVar": 40
      },
      "kernels_config": {
        "python": {
          "delete_cmd_postfix": "",
          "delete_cmd_prefix": "del ",
          "library": "var_list.py",
          "varRefreshCmd": "print(var_dic_list())"
        },
        "r": {
          "delete_cmd_postfix": ") ",
          "delete_cmd_prefix": "rm(",
          "library": "var_list.r",
          "varRefreshCmd": "cat(var_dic_list()) "
        }
      },
      "types_to_exclude": [
        "module",
        "function",
        "builtin_function_or_method",
        "instance",
        "_Feature"
      ],
      "window_display": false
    },
    "colab": {
      "name": "Lab6.ipynb",
      "provenance": [],
      "include_colab_link": true
    }
  },
  "cells": [
    {
      "cell_type": "markdown",
      "metadata": {
        "id": "view-in-github",
        "colab_type": "text"
      },
      "source": [
        "<a href=\"https://colab.research.google.com/github/Evora-21805468/IA-2021/blob/main/Lab6.ipynb\" target=\"_parent\"><img src=\"https://colab.research.google.com/assets/colab-badge.svg\" alt=\"Open In Colab\"/></a>"
      ]
    },
    {
      "cell_type": "markdown",
      "metadata": {
        "deletable": false,
        "editable": false,
        "id": "aO-LlH4EVL6b"
      },
      "source": [
        "# Lab 6\n",
        "> Search Algorithms"
      ]
    },
    {
      "cell_type": "markdown",
      "metadata": {
        "id": "Wy2uwTPtVOI8"
      },
      "source": [
        ""
      ]
    },
    {
      "cell_type": "markdown",
      "metadata": {
        "deletable": false,
        "editable": false,
        "id": "Mum6ev5MVL6p"
      },
      "source": [
        "## Purpose\n",
        "Study the British Museum Procedure, Uninformed Search Algorithms."
      ]
    },
    {
      "cell_type": "markdown",
      "metadata": {
        "deletable": false,
        "editable": false,
        "id": "1AfH3q6sVL6q"
      },
      "source": [
        "## Methodology\n",
        "Implementation of Depth and Breadth First Search."
      ]
    },
    {
      "cell_type": "markdown",
      "metadata": {
        "deletable": false,
        "editable": false,
        "id": "bumkO0ZDVL6r"
      },
      "source": [
        "## Setup\n",
        "\n",
        "### Library import"
      ]
    },
    {
      "cell_type": "code",
      "metadata": {
        "ExecuteTime": {
          "end_time": "2021-04-11T17:24:28.769190Z",
          "start_time": "2021-04-11T17:24:28.534378Z"
        },
        "deletable": false,
        "editable": false,
        "id": "UwajVQdvVL6s"
      },
      "source": [
        "# Data manipulation\n",
        "import pandas as pd\n",
        "import numpy as np"
      ],
      "execution_count": 8,
      "outputs": []
    },
    {
      "cell_type": "markdown",
      "metadata": {
        "deletable": false,
        "editable": false,
        "id": "AuLmNY0hVL6s"
      },
      "source": [
        "## Data import\n",
        "We retrieve all the required data for the analysis."
      ]
    },
    {
      "cell_type": "code",
      "metadata": {
        "ExecuteTime": {
          "end_time": "2021-04-11T18:09:16.735627Z",
          "start_time": "2021-04-11T18:09:16.724630Z"
        },
        "deletable": false,
        "editable": false,
        "id": "UVHR9qwpVL6t"
      },
      "source": [
        "edges = [('A', 'B'),\n",
        "     ('B', 'C'),\n",
        "     ('B', 'E'),\n",
        "     ('B', 'F'),\n",
        "     ('C', 'A'),\n",
        "     ('C', 'D'),\n",
        "     ('C', 'F'),\n",
        "     ('D', 'F'),\n",
        "     ('D', 'G'),\n",
        "     ('G', 'H')\n",
        "    ]"
      ],
      "execution_count": 9,
      "outputs": []
    },
    {
      "cell_type": "markdown",
      "metadata": {
        "deletable": false,
        "editable": false,
        "id": "Z139IjpYVL6u"
      },
      "source": [
        "## Data processing\n",
        "Put here the core of the notebook. Feel free di further split this section into subsections."
      ]
    },
    {
      "cell_type": "code",
      "metadata": {
        "ExecuteTime": {
          "end_time": "2021-04-11T18:10:35.321472Z",
          "start_time": "2021-04-11T18:10:35.299031Z"
        },
        "deletable": false,
        "editable": false,
        "colab": {
          "base_uri": "https://localhost:8080/",
          "height": 363
        },
        "id": "g6zjrArMVL6u",
        "outputId": "4b11446d-ec0a-4c48-eaf4-4696c4240c20"
      },
      "source": [
        "G = pd.DataFrame(edges, columns=['In', 'Out'])\n",
        "G['Weight'] = 1\n",
        "G"
      ],
      "execution_count": 10,
      "outputs": [
        {
          "output_type": "execute_result",
          "data": {
            "text/html": [
              "<div>\n",
              "<style scoped>\n",
              "    .dataframe tbody tr th:only-of-type {\n",
              "        vertical-align: middle;\n",
              "    }\n",
              "\n",
              "    .dataframe tbody tr th {\n",
              "        vertical-align: top;\n",
              "    }\n",
              "\n",
              "    .dataframe thead th {\n",
              "        text-align: right;\n",
              "    }\n",
              "</style>\n",
              "<table border=\"1\" class=\"dataframe\">\n",
              "  <thead>\n",
              "    <tr style=\"text-align: right;\">\n",
              "      <th></th>\n",
              "      <th>In</th>\n",
              "      <th>Out</th>\n",
              "      <th>Weight</th>\n",
              "    </tr>\n",
              "  </thead>\n",
              "  <tbody>\n",
              "    <tr>\n",
              "      <th>0</th>\n",
              "      <td>A</td>\n",
              "      <td>B</td>\n",
              "      <td>1</td>\n",
              "    </tr>\n",
              "    <tr>\n",
              "      <th>1</th>\n",
              "      <td>B</td>\n",
              "      <td>C</td>\n",
              "      <td>1</td>\n",
              "    </tr>\n",
              "    <tr>\n",
              "      <th>2</th>\n",
              "      <td>B</td>\n",
              "      <td>E</td>\n",
              "      <td>1</td>\n",
              "    </tr>\n",
              "    <tr>\n",
              "      <th>3</th>\n",
              "      <td>B</td>\n",
              "      <td>F</td>\n",
              "      <td>1</td>\n",
              "    </tr>\n",
              "    <tr>\n",
              "      <th>4</th>\n",
              "      <td>C</td>\n",
              "      <td>A</td>\n",
              "      <td>1</td>\n",
              "    </tr>\n",
              "    <tr>\n",
              "      <th>5</th>\n",
              "      <td>C</td>\n",
              "      <td>D</td>\n",
              "      <td>1</td>\n",
              "    </tr>\n",
              "    <tr>\n",
              "      <th>6</th>\n",
              "      <td>C</td>\n",
              "      <td>F</td>\n",
              "      <td>1</td>\n",
              "    </tr>\n",
              "    <tr>\n",
              "      <th>7</th>\n",
              "      <td>D</td>\n",
              "      <td>F</td>\n",
              "      <td>1</td>\n",
              "    </tr>\n",
              "    <tr>\n",
              "      <th>8</th>\n",
              "      <td>D</td>\n",
              "      <td>G</td>\n",
              "      <td>1</td>\n",
              "    </tr>\n",
              "    <tr>\n",
              "      <th>9</th>\n",
              "      <td>G</td>\n",
              "      <td>H</td>\n",
              "      <td>1</td>\n",
              "    </tr>\n",
              "  </tbody>\n",
              "</table>\n",
              "</div>"
            ],
            "text/plain": [
              "  In Out  Weight\n",
              "0  A   B       1\n",
              "1  B   C       1\n",
              "2  B   E       1\n",
              "3  B   F       1\n",
              "4  C   A       1\n",
              "5  C   D       1\n",
              "6  C   F       1\n",
              "7  D   F       1\n",
              "8  D   G       1\n",
              "9  G   H       1"
            ]
          },
          "metadata": {
            "tags": []
          },
          "execution_count": 10
        }
      ]
    },
    {
      "cell_type": "code",
      "metadata": {
        "ExecuteTime": {
          "end_time": "2021-04-11T18:11:10.437262Z",
          "start_time": "2021-04-11T18:11:10.119892Z"
        },
        "deletable": false,
        "editable": false,
        "colab": {
          "base_uri": "https://localhost:8080/",
          "height": 248
        },
        "id": "RJ8PKN8aVL6w",
        "outputId": "9fad0bf4-9563-4569-abf3-525674eef936"
      },
      "source": [
        "import networkx as nx\n",
        "\n",
        "nG = nx.from_pandas_edgelist(G, source='In', target='Out', edge_attr='Weight', create_using=nx.DiGraph)\n",
        "nx.draw_networkx(nG)"
      ],
      "execution_count": 11,
      "outputs": [
        {
          "output_type": "display_data",
          "data": {
            "image/png": "[encoded data removed]",
            "text/plain": [
              "<Figure size 432x288 with 1 Axes>"
            ]
          },
          "metadata": {
            "tags": []
          }
        }
      ]
    },
    {
      "cell_type": "code",
      "metadata": {
        "ExecuteTime": {
          "end_time": "2021-04-11T18:12:18.161220Z",
          "start_time": "2021-04-11T18:12:17.859379Z"
        },
        "deletable": false,
        "editable": false,
        "colab": {
          "base_uri": "https://localhost:8080/",
          "height": 248
        },
        "id": "AkfhR0n2VL6x",
        "outputId": "c641f0e8-a540-4682-dae4-84481321b4a4"
      },
      "source": [
        "options = {\n",
        "    'width': 2,\n",
        "    'arrowstyle': '->',\n",
        "    'arrowsize': 30,\n",
        "}\n",
        "pos = nx.circular_layout(nG)   \n",
        "nx.draw_networkx(nG, pos, with_labels = True, \n",
        "                 edge_color = 'black', arrows=True, **options)"
      ],
      "execution_count": 12,
      "outputs": [
        {
          "output_type": "display_data",
          "data": {
            "image/png": "[encoded data removed]",
            "text/plain": [
              "<Figure size 432x288 with 1 Axes>"
            ]
          },
          "metadata": {
            "tags": []
          }
        }
      ]
    },
    {
      "cell_type": "markdown",
      "metadata": {
        "deletable": false,
        "editable": false,
        "id": "NMu9fnsnVL6y"
      },
      "source": [
        "If you want to look at more networks' visualization libraries in Python you can start at [link](https://towardsdatascience.com/visualizing-networks-in-python-d70f4cbeb259)"
      ]
    },
    {
      "cell_type": "code",
      "metadata": {
        "ExecuteTime": {
          "end_time": "2021-04-11T17:31:15.959822Z",
          "start_time": "2021-04-11T17:31:15.931930Z"
        },
        "deletable": false,
        "editable": false,
        "colab": {
          "base_uri": "https://localhost:8080/"
        },
        "id": "PY8qYVUAVL6z",
        "outputId": "12a71fd5-c013-4c1d-b852-87496907b01e"
      },
      "source": [
        "G.groupby('In').apply(lambda x: list(x['Out']))"
      ],
      "execution_count": 13,
      "outputs": [
        {
          "output_type": "execute_result",
          "data": {
            "text/plain": [
              "In\n",
              "A          [B]\n",
              "B    [C, E, F]\n",
              "C    [A, D, F]\n",
              "D       [F, G]\n",
              "G          [H]\n",
              "dtype: object"
            ]
          },
          "metadata": {
            "tags": []
          },
          "execution_count": 13
        }
      ]
    },
    {
      "cell_type": "code",
      "metadata": {
        "ExecuteTime": {
          "end_time": "2021-04-11T17:31:33.476606Z",
          "start_time": "2021-04-11T17:31:33.440220Z"
        },
        "deletable": false,
        "editable": false,
        "scrolled": true,
        "colab": {
          "base_uri": "https://localhost:8080/"
        },
        "id": "HecwVikXVL6z",
        "outputId": "323e571d-1ef9-42d9-b43a-88c6694acc24"
      },
      "source": [
        "graph = G.groupby('In').apply(lambda x: list(x['Out'])).to_dict()\n",
        "graph"
      ],
      "execution_count": 14,
      "outputs": [
        {
          "output_type": "execute_result",
          "data": {
            "text/plain": [
              "{'A': ['B'],\n",
              " 'B': ['C', 'E', 'F'],\n",
              " 'C': ['A', 'D', 'F'],\n",
              " 'D': ['F', 'G'],\n",
              " 'G': ['H']}"
            ]
          },
          "metadata": {
            "tags": []
          },
          "execution_count": 14
        }
      ]
    },
    {
      "cell_type": "markdown",
      "metadata": {
        "deletable": false,
        "editable": false,
        "id": "j_jTDkbQVL6z"
      },
      "source": [
        "## Uninformed Search"
      ]
    },
    {
      "cell_type": "markdown",
      "metadata": {
        "deletable": false,
        "editable": false,
        "id": "TXBH71ERVL60"
      },
      "source": [
        "### Basic"
      ]
    },
    {
      "cell_type": "code",
      "metadata": {
        "ExecuteTime": {
          "end_time": "2021-04-11T19:38:54.264261Z",
          "start_time": "2021-04-11T19:38:54.252413Z"
        },
        "code_folding": [],
        "id": "5CZTHKx0VL60"
      },
      "source": [
        "def uninformed_search_basic(graph: dict, init: str, goal: str):\n",
        "    \"\"\"\n",
        "    \n",
        "    \"\"\"\n",
        "    \n",
        "    # keep path from the start\n",
        "    queue = [init]\n",
        "    \n",
        "    \n",
        "    # auxiliar - iteration counter\n",
        "    i=0 \n",
        "    \n",
        "    while queue:\n",
        "        \n",
        "        # add iteration\n",
        "        i+=1\n",
        "    \n",
        "        head = queue[0]\n",
        "        remainder = queue[1:]\n",
        "\n",
        "        # Show the queue\n",
        "        print('Iteration {}'.format(i))\n",
        "        print('Current Head: {}\\nQueue :{}\\nSize: {}'.format(head, \n",
        "                                                             queue, \n",
        "                                                             len(queue)))\n",
        "        \n",
        "        if head == goal: \n",
        "            print('Found {}'.format(goal)) \n",
        "            break\n",
        "            \n",
        "        else:\n",
        "            if head not in graph:\n",
        "                queue = remainder\n",
        "            else:\n",
        "                possible_paths = graph[head]\n",
        "                queue = remainder + possible_paths \n",
        "         \n",
        "        print('- - - - ')"
      ],
      "execution_count": 33,
      "outputs": []
    },
    {
      "cell_type": "code",
      "metadata": {
        "ExecuteTime": {
          "end_time": "2021-04-11T19:39:02.555901Z",
          "start_time": "2021-04-11T19:39:02.530337Z"
        },
        "deletable": false,
        "editable": false,
        "id": "S_hXmbWuVL60",
        "colab": {
          "base_uri": "https://localhost:8080/"
        },
        "outputId": "92741331-add8-413e-a8aa-db8dcb0fca1b"
      },
      "source": [
        "uninformed_search_basic(graph, 'A', 'H')"
      ],
      "execution_count": 34,
      "outputs": [
        {
          "output_type": "stream",
          "text": [
            "Iteration 1\n",
            "Current Head: A\n",
            "Queue :['A']\n",
            "Size: 1\n",
            "- - - - \n",
            "Iteration 2\n",
            "Current Head: B\n",
            "Queue :['B']\n",
            "Size: 1\n",
            "- - - - \n",
            "Iteration 3\n",
            "Current Head: C\n",
            "Queue :['C', 'E', 'F']\n",
            "Size: 3\n",
            "- - - - \n",
            "Iteration 4\n",
            "Current Head: E\n",
            "Queue :['E', 'F', 'A', 'D', 'F']\n",
            "Size: 5\n",
            "- - - - \n",
            "Iteration 5\n",
            "Current Head: F\n",
            "Queue :['F', 'A', 'D', 'F']\n",
            "Size: 4\n",
            "- - - - \n",
            "Iteration 6\n",
            "Current Head: A\n",
            "Queue :['A', 'D', 'F']\n",
            "Size: 3\n",
            "- - - - \n",
            "Iteration 7\n",
            "Current Head: D\n",
            "Queue :['D', 'F', 'B']\n",
            "Size: 3\n",
            "- - - - \n",
            "Iteration 8\n",
            "Current Head: F\n",
            "Queue :['F', 'B', 'F', 'G']\n",
            "Size: 4\n",
            "- - - - \n",
            "Iteration 9\n",
            "Current Head: B\n",
            "Queue :['B', 'F', 'G']\n",
            "Size: 3\n",
            "- - - - \n",
            "Iteration 10\n",
            "Current Head: F\n",
            "Queue :['F', 'G', 'C', 'E', 'F']\n",
            "Size: 5\n",
            "- - - - \n",
            "Iteration 11\n",
            "Current Head: G\n",
            "Queue :['G', 'C', 'E', 'F']\n",
            "Size: 4\n",
            "- - - - \n",
            "Iteration 12\n",
            "Current Head: C\n",
            "Queue :['C', 'E', 'F', 'H']\n",
            "Size: 4\n",
            "- - - - \n",
            "Iteration 13\n",
            "Current Head: E\n",
            "Queue :['E', 'F', 'H', 'A', 'D', 'F']\n",
            "Size: 6\n",
            "- - - - \n",
            "Iteration 14\n",
            "Current Head: F\n",
            "Queue :['F', 'H', 'A', 'D', 'F']\n",
            "Size: 5\n",
            "- - - - \n",
            "Iteration 15\n",
            "Current Head: H\n",
            "Queue :['H', 'A', 'D', 'F']\n",
            "Size: 4\n",
            "Found H\n"
          ],
          "name": "stdout"
        }
      ]
    },
    {
      "cell_type": "markdown",
      "metadata": {
        "deletable": false,
        "editable": false,
        "id": "SrQ3XPrEVL61"
      },
      "source": [
        "### Visitors"
      ]
    },
    {
      "cell_type": "code",
      "metadata": {
        "ExecuteTime": {
          "end_time": "2021-04-11T19:39:44.440466Z",
          "start_time": "2021-04-11T19:39:44.425811Z"
        },
        "id": "eonD03KYVL61"
      },
      "source": [
        "def uninformed_search_visitors(graph: dict, init: str, goal: str):\n",
        "    \"\"\"\n",
        "    \n",
        "    \"\"\"\n",
        "    \n",
        "    # keep path from the start\n",
        "    queue = [init]\n",
        "    \n",
        "    # Keep visited nodes\n",
        "    visited = []\n",
        "    \n",
        "    # auxiliar - iteration counter\n",
        "    i=0 \n",
        "    \n",
        "    while queue:\n",
        "        \n",
        "        # add iteration\n",
        "        i+=1\n",
        "    \n",
        "        \n",
        "        head = queue[0]\n",
        "        remainder = queue[1:]\n",
        "\n",
        "        # Show the queue\n",
        "        print('Iteration {}'.format(i))\n",
        "        print('Current Head: {}\\nQueue :{}\\nSize: {}'.format(head, \n",
        "                                                             queue, \n",
        "                                                             len(queue)))\n",
        "        \n",
        "        if head == goal: \n",
        "            print('Found {}'.format(goal)) \n",
        "            break\n",
        "            \n",
        "        else:\n",
        "            \n",
        "            visited = visited.append(head) \n",
        "            # Add visited nodes here\n",
        "            # Your code here\n",
        "            \n",
        "            if head not in graph:\n",
        "                queue = remainder\n",
        "            else:\n",
        "                possible_paths = graph[head] #TODO todos que não estejam no visited\n",
        "                queue = remainder + possible_paths \n",
        "            \n",
        "        print('- - - - ')"
      ],
      "execution_count": null,
      "outputs": []
    },
    {
      "cell_type": "code",
      "metadata": {
        "ExecuteTime": {
          "end_time": "2021-04-11T19:39:49.564146Z",
          "start_time": "2021-04-11T19:39:49.544713Z"
        },
        "deletable": false,
        "editable": false,
        "scrolled": false,
        "id": "_FO9wSZrVL62",
        "outputId": "bf6a80b7-91c2-401a-d036-2c07d9ffb745"
      },
      "source": [
        "uninformed_search_visitors(graph, 'A', 'H')"
      ],
      "execution_count": null,
      "outputs": [
        {
          "output_type": "stream",
          "text": [
            "Iteration 1\n",
            "Current Head: A\n",
            "Queue :['A']\n",
            "Size: 1\n",
            "- - - - \n",
            "Iteration 2\n",
            "Current Head: B\n",
            "Queue :['B']\n",
            "Size: 1\n",
            "- - - - \n",
            "Iteration 3\n",
            "Current Head: C\n",
            "Queue :['C', 'E', 'F']\n",
            "Size: 3\n",
            "- - - - \n",
            "Iteration 4\n",
            "Current Head: E\n",
            "Queue :['E', 'F', 'D', 'F']\n",
            "Size: 4\n",
            "- - - - \n",
            "Iteration 5\n",
            "Current Head: F\n",
            "Queue :['F', 'D', 'F']\n",
            "Size: 3\n",
            "- - - - \n",
            "Iteration 6\n",
            "Current Head: D\n",
            "Queue :['D', 'F']\n",
            "Size: 2\n",
            "- - - - \n",
            "Iteration 7\n",
            "Current Head: F\n",
            "Queue :['F', 'G']\n",
            "Size: 2\n",
            "- - - - \n",
            "Iteration 8\n",
            "Current Head: G\n",
            "Queue :['G']\n",
            "Size: 1\n",
            "- - - - \n",
            "Iteration 9\n",
            "Current Head: H\n",
            "Queue :['H']\n",
            "Size: 1\n",
            "Found H\n"
          ],
          "name": "stdout"
        }
      ]
    },
    {
      "cell_type": "markdown",
      "metadata": {
        "deletable": false,
        "editable": false,
        "id": "hBojK4wuVL62"
      },
      "source": [
        "### Path"
      ]
    },
    {
      "cell_type": "markdown",
      "metadata": {
        "id": "6uqwLD4zVL62"
      },
      "source": [
        "This first version that keeps the path **doesn't** verify visited nodes."
      ]
    },
    {
      "cell_type": "code",
      "metadata": {
        "ExecuteTime": {
          "end_time": "2021-04-11T19:40:40.421667Z",
          "start_time": "2021-04-11T19:40:40.408327Z"
        },
        "code_folding": [],
        "id": "dK56BUZoVL62"
      },
      "source": [
        "def uninformed_search_path(graph: dict, init: str, goal: str):\n",
        "    \"\"\"\n",
        "\n",
        "    \"\"\"\n",
        "\n",
        "    # keep path from the start\n",
        "    path = ()\n",
        "    out = init\n",
        "    queue = [(out, path)]\n",
        "\n",
        "    # auxiliar - iteration counter\n",
        "    i = 0\n",
        "\n",
        "    while queue:\n",
        "\n",
        "        # add iteration\n",
        "        i += 1\n",
        "\n",
        "        head = # Your code here\n",
        "        remainder = # Your code here\n",
        "        \n",
        "        current_node = head[0]\n",
        "        path = head[1]\n",
        "\n",
        "        # Show the queue\n",
        "        print('Iteration {}'.format(i))\n",
        "        print('Current Node: {}\\nHead :{}\\nQueue :{}\\nSize: {}'.format(current_node,\n",
        "                                                                       head,\n",
        "                                                                       queue,\n",
        "                                                                       len(queue)))\n",
        "\n",
        "        if current_node == goal:\n",
        "            print('Found {}\\nPath: {}'.format(goal, path))\n",
        "            break\n",
        "\n",
        "        else:\n",
        "            if current_node not in graph:\n",
        "                queue = # Your code here\n",
        "            else:\n",
        "                new_path = # Your code here\n",
        "\n",
        "                possible_paths = # Your code here\n",
        "                \n",
        "                queue = remainder + possible_paths\n",
        "\n",
        "        print('- - - - ')"
      ],
      "execution_count": null,
      "outputs": []
    },
    {
      "cell_type": "code",
      "metadata": {
        "ExecuteTime": {
          "end_time": "2021-04-11T19:40:46.471397Z",
          "start_time": "2021-04-11T19:40:46.462644Z"
        },
        "deletable": false,
        "editable": false,
        "scrolled": false,
        "id": "o1fIaYELVL63",
        "outputId": "e5c18a31-4af3-4a68-9db5-151282bd71fc"
      },
      "source": [
        "uninformed_search_path(graph, 'A', 'H')"
      ],
      "execution_count": null,
      "outputs": [
        {
          "output_type": "stream",
          "text": [
            "Iteration 1\n",
            "Current Node: A\n",
            "Head :('A', ())\n",
            "Queue :[('A', ())]\n",
            "Size: 1\n",
            "- - - - \n",
            "Iteration 2\n",
            "Current Node: B\n",
            "Head :('B', ('A',))\n",
            "Queue :[('B', ('A',))]\n",
            "Size: 1\n",
            "- - - - \n",
            "Iteration 3\n",
            "Current Node: C\n",
            "Head :('C', ('A', 'B'))\n",
            "Queue :[('C', ('A', 'B')), ('E', ('A', 'B')), ('F', ('A', 'B'))]\n",
            "Size: 3\n",
            "- - - - \n",
            "Iteration 4\n",
            "Current Node: E\n",
            "Head :('E', ('A', 'B'))\n",
            "Queue :[('E', ('A', 'B')), ('F', ('A', 'B')), ('A', ('A', 'B', 'C')), ('D', ('A', 'B', 'C')), ('F', ('A', 'B', 'C'))]\n",
            "Size: 5\n",
            "- - - - \n",
            "Iteration 5\n",
            "Current Node: F\n",
            "Head :('F', ('A', 'B'))\n",
            "Queue :[('F', ('A', 'B')), ('A', ('A', 'B', 'C')), ('D', ('A', 'B', 'C')), ('F', ('A', 'B', 'C'))]\n",
            "Size: 4\n",
            "- - - - \n",
            "Iteration 6\n",
            "Current Node: A\n",
            "Head :('A', ('A', 'B', 'C'))\n",
            "Queue :[('A', ('A', 'B', 'C')), ('D', ('A', 'B', 'C')), ('F', ('A', 'B', 'C'))]\n",
            "Size: 3\n",
            "- - - - \n",
            "Iteration 7\n",
            "Current Node: D\n",
            "Head :('D', ('A', 'B', 'C'))\n",
            "Queue :[('D', ('A', 'B', 'C')), ('F', ('A', 'B', 'C')), ('B', ('A', 'B', 'C', 'A'))]\n",
            "Size: 3\n",
            "- - - - \n",
            "Iteration 8\n",
            "Current Node: F\n",
            "Head :('F', ('A', 'B', 'C'))\n",
            "Queue :[('F', ('A', 'B', 'C')), ('B', ('A', 'B', 'C', 'A')), ('F', ('A', 'B', 'C', 'D')), ('G', ('A', 'B', 'C', 'D'))]\n",
            "Size: 4\n",
            "- - - - \n",
            "Iteration 9\n",
            "Current Node: B\n",
            "Head :('B', ('A', 'B', 'C', 'A'))\n",
            "Queue :[('B', ('A', 'B', 'C', 'A')), ('F', ('A', 'B', 'C', 'D')), ('G', ('A', 'B', 'C', 'D'))]\n",
            "Size: 3\n",
            "- - - - \n",
            "Iteration 10\n",
            "Current Node: F\n",
            "Head :('F', ('A', 'B', 'C', 'D'))\n",
            "Queue :[('F', ('A', 'B', 'C', 'D')), ('G', ('A', 'B', 'C', 'D')), ('C', ('A', 'B', 'C', 'A', 'B')), ('E', ('A', 'B', 'C', 'A', 'B')), ('F', ('A', 'B', 'C', 'A', 'B'))]\n",
            "Size: 5\n",
            "- - - - \n",
            "Iteration 11\n",
            "Current Node: G\n",
            "Head :('G', ('A', 'B', 'C', 'D'))\n",
            "Queue :[('G', ('A', 'B', 'C', 'D')), ('C', ('A', 'B', 'C', 'A', 'B')), ('E', ('A', 'B', 'C', 'A', 'B')), ('F', ('A', 'B', 'C', 'A', 'B'))]\n",
            "Size: 4\n",
            "- - - - \n",
            "Iteration 12\n",
            "Current Node: C\n",
            "Head :('C', ('A', 'B', 'C', 'A', 'B'))\n",
            "Queue :[('C', ('A', 'B', 'C', 'A', 'B')), ('E', ('A', 'B', 'C', 'A', 'B')), ('F', ('A', 'B', 'C', 'A', 'B')), ('H', ('A', 'B', 'C', 'D', 'G'))]\n",
            "Size: 4\n",
            "- - - - \n",
            "Iteration 13\n",
            "Current Node: E\n",
            "Head :('E', ('A', 'B', 'C', 'A', 'B'))\n",
            "Queue :[('E', ('A', 'B', 'C', 'A', 'B')), ('F', ('A', 'B', 'C', 'A', 'B')), ('H', ('A', 'B', 'C', 'D', 'G')), ('A', ('A', 'B', 'C', 'A', 'B', 'C')), ('D', ('A', 'B', 'C', 'A', 'B', 'C')), ('F', ('A', 'B', 'C', 'A', 'B', 'C'))]\n",
            "Size: 6\n",
            "- - - - \n",
            "Iteration 14\n",
            "Current Node: F\n",
            "Head :('F', ('A', 'B', 'C', 'A', 'B'))\n",
            "Queue :[('F', ('A', 'B', 'C', 'A', 'B')), ('H', ('A', 'B', 'C', 'D', 'G')), ('A', ('A', 'B', 'C', 'A', 'B', 'C')), ('D', ('A', 'B', 'C', 'A', 'B', 'C')), ('F', ('A', 'B', 'C', 'A', 'B', 'C'))]\n",
            "Size: 5\n",
            "- - - - \n",
            "Iteration 15\n",
            "Current Node: H\n",
            "Head :('H', ('A', 'B', 'C', 'D', 'G'))\n",
            "Queue :[('H', ('A', 'B', 'C', 'D', 'G')), ('A', ('A', 'B', 'C', 'A', 'B', 'C')), ('D', ('A', 'B', 'C', 'A', 'B', 'C')), ('F', ('A', 'B', 'C', 'A', 'B', 'C'))]\n",
            "Size: 4\n",
            "Found H\n",
            "Path: ('A', 'B', 'C', 'D', 'G')\n"
          ],
          "name": "stdout"
        }
      ]
    },
    {
      "cell_type": "markdown",
      "metadata": {
        "id": "e3A8jZkpVL63"
      },
      "source": [
        "This second version that keeps the path **verifies** for visited nodes."
      ]
    },
    {
      "cell_type": "code",
      "metadata": {
        "ExecuteTime": {
          "end_time": "2021-04-11T19:41:23.325878Z",
          "start_time": "2021-04-11T19:41:23.312977Z"
        },
        "code_folding": [],
        "id": "XZnguxUbVL63"
      },
      "source": [
        "def uninformed_search_path_visitors(graph: dict, init: str, goal: str):\n",
        "    \"\"\"\n",
        "\n",
        "    \"\"\"\n",
        "\n",
        "    # keep path from the start\n",
        "    path = ()\n",
        "    out = init\n",
        "    queue = [(out, path)]\n",
        "\n",
        "    # auxiliar - iteration counter\n",
        "    i = 0\n",
        "\n",
        "    while queue:\n",
        "\n",
        "        # add iteration\n",
        "        i += 1\n",
        "\n",
        "        head = # Your code here\n",
        "        remainder = # Your code here\n",
        "        \n",
        "        current_node = head[0]\n",
        "        path = head[1]\n",
        "\n",
        "        # Show the queue\n",
        "        print('Iteration {}'.format(i))\n",
        "        print('Current Node: {}\\nHead :{}\\nQueue :{}\\nSize: {}'.format(current_node,\n",
        "                                                                       head,\n",
        "                                                                       queue,\n",
        "                                                                       len(queue)))\n",
        "\n",
        "        if current_node == goal:\n",
        "            print('Found {}\\nPath: {}'.format(goal, path))\n",
        "            break\n",
        "\n",
        "        else:\n",
        "            if current_node not in graph:\n",
        "                queue = # Your code here\n",
        "            else:\n",
        "                new_path = # Your code here\n",
        "\n",
        "                possible_paths = # Your code here\n",
        "\n",
        "                queue = remainder + possible_paths\n",
        "\n",
        "        print('- - - - ')"
      ],
      "execution_count": null,
      "outputs": []
    },
    {
      "cell_type": "code",
      "metadata": {
        "ExecuteTime": {
          "end_time": "2021-04-11T19:41:23.788278Z",
          "start_time": "2021-04-11T19:41:23.780178Z"
        },
        "deletable": false,
        "editable": false,
        "id": "dfScfDrVVL63",
        "outputId": "b544d054-bdbe-4661-86b1-82d65b267ac6"
      },
      "source": [
        "uninformed_search_path_visitors(graph, 'A', 'H')"
      ],
      "execution_count": null,
      "outputs": [
        {
          "output_type": "stream",
          "text": [
            "Iteration 1\n",
            "Current Node: A\n",
            "Head :('A', ())\n",
            "Queue :[('A', ())]\n",
            "Size: 1\n",
            "- - - - \n",
            "Iteration 2\n",
            "Current Node: B\n",
            "Head :('B', ('A',))\n",
            "Queue :[('B', ('A',))]\n",
            "Size: 1\n",
            "- - - - \n",
            "Iteration 3\n",
            "Current Node: C\n",
            "Head :('C', ('A', 'B'))\n",
            "Queue :[('C', ('A', 'B')), ('E', ('A', 'B')), ('F', ('A', 'B'))]\n",
            "Size: 3\n",
            "- - - - \n",
            "Iteration 4\n",
            "Current Node: E\n",
            "Head :('E', ('A', 'B'))\n",
            "Queue :[('E', ('A', 'B')), ('F', ('A', 'B')), ('D', ('A', 'B', 'C')), ('F', ('A', 'B', 'C'))]\n",
            "Size: 4\n",
            "- - - - \n",
            "Iteration 5\n",
            "Current Node: F\n",
            "Head :('F', ('A', 'B'))\n",
            "Queue :[('F', ('A', 'B')), ('D', ('A', 'B', 'C')), ('F', ('A', 'B', 'C'))]\n",
            "Size: 3\n",
            "- - - - \n",
            "Iteration 6\n",
            "Current Node: D\n",
            "Head :('D', ('A', 'B', 'C'))\n",
            "Queue :[('D', ('A', 'B', 'C')), ('F', ('A', 'B', 'C'))]\n",
            "Size: 2\n",
            "- - - - \n",
            "Iteration 7\n",
            "Current Node: F\n",
            "Head :('F', ('A', 'B', 'C'))\n",
            "Queue :[('F', ('A', 'B', 'C')), ('F', ('A', 'B', 'C', 'D')), ('G', ('A', 'B', 'C', 'D'))]\n",
            "Size: 3\n",
            "- - - - \n",
            "Iteration 8\n",
            "Current Node: F\n",
            "Head :('F', ('A', 'B', 'C', 'D'))\n",
            "Queue :[('F', ('A', 'B', 'C', 'D')), ('G', ('A', 'B', 'C', 'D'))]\n",
            "Size: 2\n",
            "- - - - \n",
            "Iteration 9\n",
            "Current Node: G\n",
            "Head :('G', ('A', 'B', 'C', 'D'))\n",
            "Queue :[('G', ('A', 'B', 'C', 'D'))]\n",
            "Size: 1\n",
            "- - - - \n",
            "Iteration 10\n",
            "Current Node: H\n",
            "Head :('H', ('A', 'B', 'C', 'D', 'G'))\n",
            "Queue :[('H', ('A', 'B', 'C', 'D', 'G'))]\n",
            "Size: 1\n",
            "Found H\n",
            "Path: ('A', 'B', 'C', 'D', 'G')\n"
          ],
          "name": "stdout"
        }
      ]
    },
    {
      "cell_type": "markdown",
      "metadata": {
        "deletable": false,
        "editable": false,
        "id": "iwXPgnY_VL64"
      },
      "source": [
        "### The British Museum Procedure"
      ]
    },
    {
      "cell_type": "markdown",
      "metadata": {
        "deletable": false,
        "editable": false,
        "id": "MFji5hRfVL64"
      },
      "source": [
        "One procedure for finding the shortest path through a net is to find all possible paths and to select the best\n",
        "one from them. This plodding procedure is known as the British Museum Procedure.\n",
        "\n",
        "So far we've been selecting the first path that reaches its destiny. Let us now iterate over all possibilities. To do this let's look at a small change on our graph, let's add an edge from B to G."
      ]
    },
    {
      "cell_type": "code",
      "metadata": {
        "ExecuteTime": {
          "end_time": "2021-04-11T19:48:49.199509Z",
          "start_time": "2021-04-11T19:48:48.824005Z"
        },
        "deletable": false,
        "editable": false,
        "id": "H8sFjtqhVL64",
        "outputId": "ec94b1a6-6ec1-4a93-f656-58214dd10061"
      },
      "source": [
        "edges = [('A', 'B'),\n",
        "     ('B', 'C'),\n",
        "     ('B', 'E'),\n",
        "     ('B', 'F'),\n",
        "     ('B', 'G'),\n",
        "     ('C', 'A'),\n",
        "     ('C', 'D'),\n",
        "     ('C', 'F'),\n",
        "     ('D', 'F'),\n",
        "     ('D', 'G'),\n",
        "     ('G', 'H')\n",
        "    ]\n",
        "\n",
        "G = pd.DataFrame(edges, columns=['In', 'Out'])\n",
        "G['Weight'] = 1\n",
        "\n",
        "nG = nx.from_pandas_edgelist(G, source='In', target='Out', edge_attr='Weight', create_using=nx.DiGraph)\n",
        "options = {\n",
        "    'width': 2,\n",
        "    'arrowstyle': '->',\n",
        "    'arrowsize': 30,\n",
        "}\n",
        "pos = nx.circular_layout(nG)   \n",
        "nx.draw_networkx(nG, pos, with_labels = True, \n",
        "                 edge_color = 'black', arrows=True, **options)\n",
        "\n",
        "new_graph = G.groupby('In').apply(lambda x: list(x['Out'])).to_dict()\n",
        "new_graph"
      ],
      "execution_count": null,
      "outputs": [
        {
          "output_type": "execute_result",
          "data": {
            "text/plain": [
              "{'A': ['B'],\n",
              " 'B': ['C', 'E', 'F', 'G'],\n",
              " 'C': ['A', 'D', 'F'],\n",
              " 'D': ['F', 'G'],\n",
              " 'G': ['H']}"
            ]
          },
          "metadata": {
            "tags": []
          },
          "execution_count": 180
        },
        {
          "output_type": "display_data",
          "data": {
            "image/png": "[encoded data removed]",
            "text/plain": [
              "<Figure size 432x288 with 1 Axes>"
            ]
          },
          "metadata": {
            "tags": []
          }
        }
      ]
    },
    {
      "cell_type": "markdown",
      "metadata": {
        "deletable": false,
        "editable": false,
        "id": "nrKuzjaoVL64"
      },
      "source": [
        "#### Python Programming - Iterables and Generators"
      ]
    },
    {
      "cell_type": "markdown",
      "metadata": {
        "deletable": false,
        "editable": false,
        "id": "tECkozvXVL65"
      },
      "source": [
        "Recall iterables"
      ]
    },
    {
      "cell_type": "code",
      "metadata": {
        "ExecuteTime": {
          "end_time": "2021-04-11T20:11:30.145634Z",
          "start_time": "2021-04-11T20:11:30.137170Z"
        },
        "deletable": false,
        "editable": false,
        "id": "Q5apxsUMVL65",
        "outputId": "5fc2017c-eaf5-4675-90e5-af4c5e88edef"
      },
      "source": [
        "example = [0,1,2,3]\n",
        "\n",
        "for e in example:\n",
        "    print(e)"
      ],
      "execution_count": null,
      "outputs": [
        {
          "output_type": "stream",
          "text": [
            "0\n",
            "1\n",
            "2\n",
            "3\n"
          ],
          "name": "stdout"
        }
      ]
    },
    {
      "cell_type": "code",
      "metadata": {
        "ExecuteTime": {
          "end_time": "2021-04-11T20:11:30.785214Z",
          "start_time": "2021-04-11T20:11:30.774719Z"
        },
        "deletable": false,
        "editable": false,
        "id": "7k-uTPsiVL65",
        "outputId": "dd6ec119-1298-47c0-e062-178bae50db0d"
      },
      "source": [
        "while example:\n",
        "    print(example.pop())"
      ],
      "execution_count": null,
      "outputs": [
        {
          "output_type": "stream",
          "text": [
            "3\n",
            "2\n",
            "1\n",
            "0\n"
          ],
          "name": "stdout"
        }
      ]
    },
    {
      "cell_type": "markdown",
      "metadata": {
        "deletable": false,
        "editable": false,
        "id": "Niat_EaKVL66"
      },
      "source": [
        "We can create an iterable and define the corresponding methods."
      ]
    },
    {
      "cell_type": "code",
      "metadata": {
        "ExecuteTime": {
          "end_time": "2021-04-11T20:29:06.114262Z",
          "start_time": "2021-04-11T20:29:06.102545Z"
        },
        "deletable": false,
        "editable": false,
        "id": "_WnELJHxVL66"
      },
      "source": [
        "class anIterable():\n",
        "    \n",
        "    def __init__(self, limit):\n",
        "        self.collection = list(range(limit))\n",
        "        self.pointer = 0\n",
        "        \n",
        "    def __iter__(self):\n",
        "        return self\n",
        "        \n",
        "    def __next__(self):\n",
        "        if self.pointer < len(self.collection):\n",
        "            self.pointer += 1\n",
        "            return self.collection[self.pointer-1]\n",
        "        else:\n",
        "            raise StopIteration\n",
        "    \n",
        "    def __len__(self):\n",
        "        return len(self.collection)\n",
        "    \n",
        "    def pop(self):\n",
        "        return self.collection.pop()\n",
        "            \n",
        "    def __str__(self):\n",
        "        return str(self.collection)"
      ],
      "execution_count": null,
      "outputs": []
    },
    {
      "cell_type": "code",
      "metadata": {
        "ExecuteTime": {
          "end_time": "2021-04-11T20:23:41.446234Z",
          "start_time": "2021-04-11T20:23:41.436375Z"
        },
        "deletable": false,
        "editable": false,
        "id": "9CMwoQSxVL66",
        "outputId": "27463236-7509-4925-d89b-1c38b417858e"
      },
      "source": [
        "example = anIterable(4)\n",
        "print(example)"
      ],
      "execution_count": null,
      "outputs": [
        {
          "output_type": "stream",
          "text": [
            "[0, 1, 2, 3]\n"
          ],
          "name": "stdout"
        }
      ]
    },
    {
      "cell_type": "code",
      "metadata": {
        "ExecuteTime": {
          "end_time": "2021-04-11T20:23:42.117498Z",
          "start_time": "2021-04-11T20:23:42.111568Z"
        },
        "deletable": false,
        "editable": false,
        "id": "BCFonjHBVL67",
        "outputId": "e25302d1-7fca-44ab-839f-e059ee2a92c7"
      },
      "source": [
        "for e in example:\n",
        "    print(e)"
      ],
      "execution_count": null,
      "outputs": [
        {
          "output_type": "stream",
          "text": [
            "0\n",
            "1\n",
            "2\n",
            "3\n"
          ],
          "name": "stdout"
        }
      ]
    },
    {
      "cell_type": "code",
      "metadata": {
        "ExecuteTime": {
          "end_time": "2021-04-11T20:23:48.307604Z",
          "start_time": "2021-04-11T20:23:48.299130Z"
        },
        "deletable": false,
        "editable": false,
        "id": "Kp3dccKmVL67",
        "outputId": "d8c0174b-773d-4331-faac-e3c71ca387c3"
      },
      "source": [
        "while example:\n",
        "    print(example.pop())"
      ],
      "execution_count": null,
      "outputs": [
        {
          "output_type": "stream",
          "text": [
            "3\n",
            "2\n",
            "1\n",
            "0\n"
          ],
          "name": "stdout"
        }
      ]
    },
    {
      "cell_type": "markdown",
      "metadata": {
        "deletable": false,
        "editable": false,
        "id": "fmhFIE85VL67"
      },
      "source": [
        "In Python we can make use of the instruction ```yield``` to easily create an Iterable. The instruction itself returns a Generator."
      ]
    },
    {
      "cell_type": "code",
      "metadata": {
        "ExecuteTime": {
          "end_time": "2021-04-11T20:30:38.032824Z",
          "start_time": "2021-04-11T20:30:38.025490Z"
        },
        "deletable": false,
        "editable": false,
        "id": "dxIJMTm6VL67"
      },
      "source": [
        "class anotherIterable():\n",
        "    \n",
        "    def __init__(self, limit):\n",
        "        self.collection = list(range(limit))\n",
        "\n",
        "        \n",
        "    def __iter__(self):\n",
        "        yield self.collection\n"
      ],
      "execution_count": null,
      "outputs": []
    },
    {
      "cell_type": "code",
      "metadata": {
        "ExecuteTime": {
          "end_time": "2021-04-11T20:30:38.478320Z",
          "start_time": "2021-04-11T20:30:38.470175Z"
        },
        "deletable": false,
        "editable": false,
        "id": "M4G5yLuNVL67",
        "outputId": "df055ab2-698c-4558-b240-b21a44ab0733"
      },
      "source": [
        "example = anotherIterable(4)\n",
        "for value in example:\n",
        "    print(value)"
      ],
      "execution_count": null,
      "outputs": [
        {
          "output_type": "stream",
          "text": [
            "[0, 1, 2, 3]\n"
          ],
          "name": "stdout"
        }
      ]
    },
    {
      "cell_type": "code",
      "metadata": {
        "ExecuteTime": {
          "end_time": "2021-04-11T20:30:38.881377Z",
          "start_time": "2021-04-11T20:30:38.876180Z"
        },
        "deletable": false,
        "editable": false,
        "id": "hJdWmeSNVL68"
      },
      "source": [
        "def iterable(limit):\n",
        "    \n",
        "    collection = list(range(limit))\n",
        "    for value in collection:\n",
        "        yield value"
      ],
      "execution_count": null,
      "outputs": []
    },
    {
      "cell_type": "code",
      "metadata": {
        "ExecuteTime": {
          "end_time": "2021-04-11T20:30:40.017866Z",
          "start_time": "2021-04-11T20:30:40.012318Z"
        },
        "deletable": false,
        "editable": false,
        "id": "YKBgNb2mVL68"
      },
      "source": [
        "example = iterable(4)"
      ],
      "execution_count": null,
      "outputs": []
    },
    {
      "cell_type": "code",
      "metadata": {
        "ExecuteTime": {
          "end_time": "2021-04-11T20:30:40.291993Z",
          "start_time": "2021-04-11T20:30:40.282813Z"
        },
        "deletable": false,
        "editable": false,
        "id": "qxywRdn0VL68",
        "outputId": "dc322917-7454-4630-9696-4112255c57e2"
      },
      "source": [
        "for value in example:\n",
        "    print(value)"
      ],
      "execution_count": null,
      "outputs": [
        {
          "output_type": "stream",
          "text": [
            "0\n",
            "1\n",
            "2\n",
            "3\n"
          ],
          "name": "stdout"
        }
      ]
    },
    {
      "cell_type": "code",
      "metadata": {
        "ExecuteTime": {
          "end_time": "2021-04-11T20:30:40.675326Z",
          "start_time": "2021-04-11T20:30:40.637534Z"
        },
        "deletable": false,
        "editable": false,
        "id": "jWhaAB9fVL68",
        "outputId": "05395f22-a886-49bb-fea0-3d6aba24d771"
      },
      "source": [
        "example = iterable(4)\n",
        "print(next(example))\n",
        "print(next(example))\n",
        "print(next(example))\n",
        "print(next(example))\n",
        "print(next(example))"
      ],
      "execution_count": null,
      "outputs": [
        {
          "output_type": "stream",
          "text": [
            "0\n",
            "1\n",
            "2\n",
            "3\n"
          ],
          "name": "stdout"
        },
        {
          "output_type": "error",
          "ename": "StopIteration",
          "evalue": "",
          "traceback": [
            "\u001b[0;31m---------------------------------------------------------------------------\u001b[0m",
            "\u001b[0;31mStopIteration\u001b[0m                             Traceback (most recent call last)",
            "\u001b[0;32m<ipython-input-300-6d92bf082132>\u001b[0m in \u001b[0;36m<module>\u001b[0;34m\u001b[0m\n\u001b[1;32m      4\u001b[0m \u001b[0mprint\u001b[0m\u001b[0;34m(\u001b[0m\u001b[0mnext\u001b[0m\u001b[0;34m(\u001b[0m\u001b[0mexample\u001b[0m\u001b[0;34m)\u001b[0m\u001b[0;34m)\u001b[0m\u001b[0;34m\u001b[0m\u001b[0;34m\u001b[0m\u001b[0m\n\u001b[1;32m      5\u001b[0m \u001b[0mprint\u001b[0m\u001b[0;34m(\u001b[0m\u001b[0mnext\u001b[0m\u001b[0;34m(\u001b[0m\u001b[0mexample\u001b[0m\u001b[0;34m)\u001b[0m\u001b[0;34m)\u001b[0m\u001b[0;34m\u001b[0m\u001b[0;34m\u001b[0m\u001b[0m\n\u001b[0;32m----> 6\u001b[0;31m \u001b[0mprint\u001b[0m\u001b[0;34m(\u001b[0m\u001b[0mnext\u001b[0m\u001b[0;34m(\u001b[0m\u001b[0mexample\u001b[0m\u001b[0;34m)\u001b[0m\u001b[0;34m)\u001b[0m\u001b[0;34m\u001b[0m\u001b[0;34m\u001b[0m\u001b[0m\n\u001b[0m",
            "\u001b[0;31mStopIteration\u001b[0m: "
          ]
        }
      ]
    },
    {
      "cell_type": "markdown",
      "metadata": {
        "deletable": false,
        "editable": false,
        "id": "jzH4UJp6VL69"
      },
      "source": [
        "#### Back to our search algorithms"
      ]
    },
    {
      "cell_type": "code",
      "metadata": {
        "ExecuteTime": {
          "end_time": "2021-04-11T21:03:02.365049Z",
          "start_time": "2021-04-11T21:03:02.344401Z"
        },
        "code_folding": [],
        "id": "FeHZsB01VL69"
      },
      "source": [
        "def uninformed_search_path_visitors(graph: dict, init: str, goal: str):\n",
        "    \"\"\"\n",
        "\n",
        "    \"\"\"\n",
        "\n",
        "    # keep path from the start\n",
        "    path = ()\n",
        "    out = init\n",
        "    queue = [(out, path)]\n",
        "\n",
        "    # auxiliar - iteration counter\n",
        "    i = 0\n",
        "\n",
        "    while queue:\n",
        "\n",
        "        # add iteration\n",
        "        i += 1\n",
        "\n",
        "        head = # Your code here\n",
        "        remainder = # Your code here\n",
        "        \n",
        "        current_node = head[0]\n",
        "        path = head[1]\n",
        "        \n",
        "        # Show the queue\n",
        "#         print('Iteration {}'.format(i))\n",
        "#         print('Current Node: {}\\nHead :{}\\nQueue :{}\\nSize: {}'.format(current_node,\n",
        "#                                                                        head,\n",
        "#                                                                        queue,\n",
        "#                                                                        len(queue)))\n",
        "\n",
        "        if current_node == goal:\n",
        "            print('################### Found {}\\n#Path: {}'.format(goal, path))\n",
        "            \n",
        "            queue = remainder\n",
        "            \n",
        "            # Yield your results here \n",
        "            # Your code here\n",
        "\n",
        "        else:\n",
        "\n",
        "            if current_node not in graph:\n",
        "                queue = # Your code here\n",
        "            else:\n",
        "                new_path = # Your code here\n",
        "\n",
        "                possible_paths = # Your code here\n",
        "\n",
        "                queue = remainder + possible_paths"
      ],
      "execution_count": null,
      "outputs": []
    },
    {
      "cell_type": "code",
      "metadata": {
        "ExecuteTime": {
          "end_time": "2021-04-11T20:51:35.050409Z",
          "start_time": "2021-04-11T20:51:35.039827Z"
        },
        "scrolled": true,
        "id": "d638vfwsVL6-",
        "outputId": "c910f4c7-f399-4523-eab5-471fc67dbdca"
      },
      "source": [
        "for path in uninformed_search_path_visitors(new_graph, 'A', 'F'):\n",
        "    print(path)"
      ],
      "execution_count": null,
      "outputs": [
        {
          "output_type": "stream",
          "text": [
            "################### Found F\n",
            "Path: ('A', 'B')\n",
            "('A', 'B', 'F')\n",
            "################### Found F\n",
            "Path: ('A', 'B', 'C')\n",
            "('A', 'B', 'C', 'F')\n",
            "################### Found F\n",
            "Path: ('A', 'B', 'C', 'D')\n",
            "('A', 'B', 'C', 'D', 'F')\n"
          ],
          "name": "stdout"
        }
      ]
    },
    {
      "cell_type": "markdown",
      "metadata": {
        "id": "RYEPNgGWVL6_"
      },
      "source": [
        "### Depth First Search"
      ]
    },
    {
      "cell_type": "code",
      "metadata": {
        "ExecuteTime": {
          "end_time": "2021-04-11T20:51:56.151413Z",
          "start_time": "2021-04-11T20:51:55.812517Z"
        },
        "deletable": false,
        "editable": false,
        "id": "TnsayD5MVL6_",
        "outputId": "1ae98c3f-07b2-4100-a19f-967079a3a7c8"
      },
      "source": [
        "edges = [('A', 'B'),\n",
        "         ('A', 'E'),\n",
        "     ('B', 'C'),\n",
        "     ('B', 'D'),\n",
        "     ('E', 'F'),\n",
        "     ('E', 'G'),\n",
        "    ]\n",
        "\n",
        "G = pd.DataFrame(edges, columns=['In', 'Out'])\n",
        "G['Weight'] = 1\n",
        "\n",
        "nG = nx.from_pandas_edgelist(G, source='In', target='Out', edge_attr='Weight', create_using=nx.DiGraph)\n",
        "options = {\n",
        "    'width': 2,\n",
        "    'arrowstyle': '->',\n",
        "    'arrowsize': 30,\n",
        "}\n",
        "  \n",
        "nx.draw_networkx(nG, with_labels = True, \n",
        "                 edge_color = 'black', arrows=True, **options)\n",
        "\n",
        "a_graph = G.groupby('In').apply(lambda x: list(x['Out'])).to_dict()\n",
        "a_graph"
      ],
      "execution_count": null,
      "outputs": [
        {
          "output_type": "execute_result",
          "data": {
            "text/plain": [
              "{'A': ['B', 'E'], 'B': ['C', 'D'], 'E': ['F', 'G']}"
            ]
          },
          "metadata": {
            "tags": []
          },
          "execution_count": 347
        },
        {
          "output_type": "display_data",
          "data": {
            "image/png": "[encoded data removed]",
            "text/plain": [
              "<Figure size 432x288 with 1 Axes>"
            ]
          },
          "metadata": {
            "tags": []
          }
        }
      ]
    },
    {
      "cell_type": "code",
      "metadata": {
        "ExecuteTime": {
          "end_time": "2021-04-11T20:51:56.724972Z",
          "start_time": "2021-04-11T20:51:56.712596Z"
        },
        "deletable": false,
        "editable": false,
        "id": "SiuzG117VL6_"
      },
      "source": [
        "class Stack:\n",
        "\n",
        "    def __init__(self):\n",
        "        self.stack = []\n",
        "                    \n",
        "    def append(self, item):\n",
        "        self.stack.append(item)\n",
        "\n",
        "    def pop(self):\n",
        "        return self.stack.pop()\n",
        "    \n",
        "    def size(self):\n",
        "        return len(self.stack)\n",
        "    \n",
        "    def __str__(self):\n",
        "        return str(self.stack)"
      ],
      "execution_count": null,
      "outputs": []
    },
    {
      "cell_type": "code",
      "metadata": {
        "ExecuteTime": {
          "end_time": "2021-04-11T20:51:57.200897Z",
          "start_time": "2021-04-11T20:51:57.185622Z"
        },
        "id": "7KwZmk_MVL6_"
      },
      "source": [
        "def uninformed_search_path_visitors(graph: dict, struct, \n",
        "                                    init: str, goal: str, verbose:bool=False):\n",
        "    \"\"\"\n",
        "\n",
        "    \"\"\"\n",
        "\n",
        "    # keep path from the start\n",
        "    path = ()\n",
        "    out = init\n",
        "    \n",
        "    # Add values to your structure\n",
        "    # Your code here\n",
        "\n",
        "    # auxiliar - iteration counter\n",
        "    i = 0\n",
        "\n",
        "    while struct.size():\n",
        "\n",
        "        # add iteration\n",
        "        i += 1\n",
        "\n",
        "        # Get a valur from your structure\n",
        "        # Your code here\n",
        "        \n",
        "        current_node = head[0]\n",
        "        path = head[1]\n",
        "        \n",
        "        if verbose:\n",
        "            # Show the queue\n",
        "            print('Iteration {}'.format(i))\n",
        "            print('Current Node: {}\\nHead :{}\\nQueue :{}\\nSize: {}'.format(current_node,\n",
        "                                                                           head,\n",
        "                                                                           struct,\n",
        "                                                                           struct.size()))\n",
        "\n",
        "        if current_node == goal:\n",
        "            print('################### Found {}\\n# Path: {}'.format(goal, path))\n",
        "            \n",
        "            # Yield results\n",
        "            # Your code here\n",
        "\n",
        "        else:\n",
        "\n",
        "            if current_node not in graph:\n",
        "                continue\n",
        "            else:\n",
        "                new_path = # Your code here\n",
        "\n",
        "                possible_paths = # Your code here\n",
        "                \n",
        "                # Add paths to your structure\n",
        "                # Your code here"
      ],
      "execution_count": null,
      "outputs": []
    },
    {
      "cell_type": "code",
      "metadata": {
        "ExecuteTime": {
          "end_time": "2021-04-11T20:52:41.088117Z",
          "start_time": "2021-04-11T20:52:41.077863Z"
        },
        "id": "-GBwiT6wVL6_",
        "outputId": "c99114c6-576c-4c7b-f4b7-59fc4627a7ae"
      },
      "source": [
        "for path in uninformed_search_path_visitors(a_graph, Stack(), 'A', 'G', verbose=True):\n",
        "    print(path)"
      ],
      "execution_count": null,
      "outputs": [
        {
          "output_type": "stream",
          "text": [
            "Iteration 1\n",
            "Current Node: A\n",
            "Head :('A', ())\n",
            "Queue :[]\n",
            "Size: 0\n",
            "Iteration 2\n",
            "Current Node: E\n",
            "Head :('E', ('A',))\n",
            "Queue :[('B', ('A',))]\n",
            "Size: 1\n",
            "Iteration 3\n",
            "Current Node: G\n",
            "Head :('G', ('A', 'E'))\n",
            "Queue :[('B', ('A',)), ('F', ('A', 'E'))]\n",
            "Size: 2\n",
            "################### Found G\n",
            "# Path: ('A', 'E')\n",
            "('A', 'E', 'G')\n",
            "Iteration 4\n",
            "Current Node: F\n",
            "Head :('F', ('A', 'E'))\n",
            "Queue :[('B', ('A',))]\n",
            "Size: 1\n",
            "Iteration 5\n",
            "Current Node: B\n",
            "Head :('B', ('A',))\n",
            "Queue :[]\n",
            "Size: 0\n",
            "Iteration 6\n",
            "Current Node: D\n",
            "Head :('D', ('A', 'B'))\n",
            "Queue :[('C', ('A', 'B'))]\n",
            "Size: 1\n",
            "Iteration 7\n",
            "Current Node: C\n",
            "Head :('C', ('A', 'B'))\n",
            "Queue :[]\n",
            "Size: 0\n"
          ],
          "name": "stdout"
        }
      ]
    },
    {
      "cell_type": "markdown",
      "metadata": {
        "id": "49rehcnGVL6_"
      },
      "source": [
        "### Breath First Search"
      ]
    },
    {
      "cell_type": "code",
      "metadata": {
        "ExecuteTime": {
          "end_time": "2021-04-11T20:44:14.405632Z",
          "start_time": "2021-04-11T20:44:14.397033Z"
        },
        "deletable": false,
        "editable": false,
        "id": "2yjQJHATVL6_"
      },
      "source": [
        "from collections import deque\n",
        "\n",
        "class Queue:\n",
        "\n",
        "    def __init__(self):\n",
        "        self.queue = deque()\n",
        "\n",
        "    def append(self, item):\n",
        "        self.queue.append(item)\n",
        "\n",
        "    def pop(self):\n",
        "        return self.queue.popleft()\n",
        "    \n",
        "    def size(self):\n",
        "        return len(self.queue)\n",
        "    \n",
        "    def __str__(self):\n",
        "        return str(self.queue)"
      ],
      "execution_count": null,
      "outputs": []
    },
    {
      "cell_type": "code",
      "metadata": {
        "ExecuteTime": {
          "end_time": "2021-04-11T20:53:09.395696Z",
          "start_time": "2021-04-11T20:53:09.379041Z"
        },
        "scrolled": false,
        "id": "NHVTHAz9VL7A",
        "outputId": "c62b241c-9e49-4ff7-82ae-f70cccdf66fb"
      },
      "source": [
        "for path in uninformed_search_path_visitors(a_graph, Queue(), 'A', 'G', verbose=True):\n",
        "    print(path)"
      ],
      "execution_count": null,
      "outputs": [
        {
          "output_type": "stream",
          "text": [
            "Iteration 1\n",
            "Current Node: A\n",
            "Head :('A', ())\n",
            "Queue :deque([])\n",
            "Size: 0\n",
            "Iteration 2\n",
            "Current Node: B\n",
            "Head :('B', ('A',))\n",
            "Queue :deque([('E', ('A',))])\n",
            "Size: 1\n",
            "Iteration 3\n",
            "Current Node: E\n",
            "Head :('E', ('A',))\n",
            "Queue :deque([('C', ('A', 'B')), ('D', ('A', 'B'))])\n",
            "Size: 2\n",
            "Iteration 4\n",
            "Current Node: C\n",
            "Head :('C', ('A', 'B'))\n",
            "Queue :deque([('D', ('A', 'B')), ('F', ('A', 'E')), ('G', ('A', 'E'))])\n",
            "Size: 3\n",
            "Iteration 5\n",
            "Current Node: D\n",
            "Head :('D', ('A', 'B'))\n",
            "Queue :deque([('F', ('A', 'E')), ('G', ('A', 'E'))])\n",
            "Size: 2\n",
            "Iteration 6\n",
            "Current Node: F\n",
            "Head :('F', ('A', 'E'))\n",
            "Queue :deque([('G', ('A', 'E'))])\n",
            "Size: 1\n",
            "Iteration 7\n",
            "Current Node: G\n",
            "Head :('G', ('A', 'E'))\n",
            "Queue :deque([])\n",
            "Size: 0\n",
            "################### Found G\n",
            "# Path: ('A', 'E')\n",
            "('A', 'E', 'G')\n"
          ],
          "name": "stdout"
        }
      ]
    },
    {
      "cell_type": "markdown",
      "metadata": {
        "deletable": false,
        "editable": false,
        "id": "6OjaxNLXVL7A"
      },
      "source": [
        "### Exercise"
      ]
    },
    {
      "cell_type": "markdown",
      "metadata": {
        "deletable": false,
        "editable": false,
        "id": "hB26JQNiVL7A"
      },
      "source": [
        "Apply the both searches to the ```new_graph``` and interpret the resulting paths."
      ]
    }
  ]
}