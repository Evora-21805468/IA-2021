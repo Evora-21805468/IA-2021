{
  "nbformat": 4,
  "nbformat_minor": 0,
  "metadata": {
    "colab": {
      "name": "aula2.ipynb",
      "provenance": [],
      "collapsed_sections": [],
      "authorship_tag": "ABX9TyNvlr/IM06tQf2UWAnXeoXA",
      "include_colab_link": true
    },
    "kernelspec": {
      "name": "python3",
      "display_name": "Python 3"
    }
  },
  "cells": [
    {
      "cell_type": "markdown",
      "metadata": {
        "id": "view-in-github",
        "colab_type": "text"
      },
      "source": [
        "<a href=\"https://colab.research.google.com/github/Evora-21805468/IA-2021/blob/main/aula2.ipynb\" target=\"_parent\"><img src=\"https://colab.research.google.com/assets/colab-badge.svg\" alt=\"Open In Colab\"/></a>"
      ]
    },
    {
      "cell_type": "code",
      "metadata": {
        "colab": {
          "base_uri": "https://localhost:8080/"
        },
        "id": "yenavhI59kFi",
        "outputId": "d93549a7-a6e5-4a2f-cc6f-58de2b562316"
      },
      "source": [
        "# Criar arrays\r\n",
        "my_array = np.array([\r\n",
        "[1,2,3],\r\n",
        "[4,5,6],\r\n",
        "[7,8,9]\r\n",
        "])\r\n",
        "\r\n",
        "print('the dimension of my_array is:', my_array.shape)\r\n",
        "print('the type of my_array is:', my_array.dtype)\r\n",
        "\r\n",
        "my_array_zeros = np.zeros((3,4))\r\n",
        "print(my_array_zeros)\r\n",
        "\r\n",
        "my_array_ones = np.ones((3,4))\r\n",
        "print(my_array_ones)"
      ],
      "execution_count": 13,
      "outputs": [
        {
          "output_type": "stream",
          "text": [
            "the dimension of my_array is: (3, 3)\n",
            "the type of my_array is: int64\n",
            "[[0. 0. 0. 0.]\n",
            " [0. 0. 0. 0.]\n",
            " [0. 0. 0. 0.]]\n",
            "[[1. 1. 1. 1.]\n",
            " [1. 1. 1. 1.]\n",
            " [1. 1. 1. 1.]]\n"
          ],
          "name": "stdout"
        }
      ]
    },
    {
      "cell_type": "code",
      "metadata": {
        "colab": {
          "base_uri": "https://localhost:8080/"
        },
        "id": "DRcgfXl_-GyR",
        "outputId": "984112a7-8e9a-423c-890f-771e2b2c632d"
      },
      "source": [
        "# Vectorized operations between arrays and scalars\r\n",
        "# What happens if we represent a vector as a native list and want to add five to each element\r\n",
        "l = [1,2,3,4,5]\r\n",
        "try:\r\n",
        "  l + 5\r\n",
        "except TypeError:\r\n",
        "  print('Cannot do this, incompatible types.')"
      ],
      "execution_count": 15,
      "outputs": [
        {
          "output_type": "stream",
          "text": [
            "Cannot do this, incompatible types.\n"
          ],
          "name": "stdout"
        }
      ]
    },
    {
      "cell_type": "code",
      "metadata": {
        "colab": {
          "base_uri": "https://localhost:8080/"
        },
        "id": "x-U-DiEK-prU",
        "outputId": "c88bb4e4-54f0-4a69-d4d8-5bfcb5f8efc8"
      },
      "source": [
        "my_l = np.array([1,2,3,4,5])\r\n",
        "my_l + 5 # Agora sim já conseguimos somar 5 a cada elemento da lista, não foi preciso for pq foi logo direto"
      ],
      "execution_count": 17,
      "outputs": [
        {
          "output_type": "execute_result",
          "data": {
            "text/plain": [
              "array([ 6,  7,  8,  9, 10])"
            ]
          },
          "metadata": {
            "tags": []
          },
          "execution_count": 17
        }
      ]
    },
    {
      "cell_type": "code",
      "metadata": {
        "colab": {
          "base_uri": "https://localhost:8080/"
        },
        "id": "MfXvJ2Jj-5DP",
        "outputId": "cb7637eb-0dcf-438e-8a70-9ce5650c0f2e"
      },
      "source": [
        "# selecionar e cortar arrays de uma dimensão\r\n",
        "my_array = np.array([1,2,3,4,5,6,7])\r\n",
        "\r\n",
        "# ver o primeiro elemento\r\n",
        "print('the first element of my array is:', my_array[0])\r\n",
        "\r\n",
        "# ver os 3 primeiros\r\n",
        "print('the first 3 elements of my array are:', my_array[0:3]) # antes dos dois ponts (:) é inclusive, depois é exclusive ou seja vai de 0 a 2\r\n",
        "\r\n",
        "# ver desde o 2º ao 4º\r\n",
        "print('the 2nd to 4th elements of my array are:', my_array[1:4])\r\n",
        "\r\n",
        "# ver o ultimo elemento sem saber o tamanho do array\r\n",
        "print('the last element of my array is:', my_array[-1])\r\n",
        "\r\n",
        "# ver os 3 ultimos sem saber o tamanho do array \r\n",
        "print('the last 3 elements of my array are:', my_array[-3])\r\n",
        "\r\n",
        "# ver os 3 primeiros sem saber o tamanho\r\n",
        "print('the first 3 elements of my array are:', my_array[:3])"
      ],
      "execution_count": 19,
      "outputs": [
        {
          "output_type": "stream",
          "text": [
            "the first element of my array is: 1\n",
            "the first 3 elements of my array are: [1 2 3]\n",
            "the 2nd to 4th elements of my array are: [2 3 4]\n",
            "the last element of my array is: 7\n",
            "the last 3 elements of my array are: 5\n",
            "the first 3 elements of my array are: [1 2 3]\n"
          ],
          "name": "stdout"
        }
      ]
    },
    {
      "cell_type": "code",
      "metadata": {
        "colab": {
          "base_uri": "https://localhost:8080/"
        },
        "id": "C743OqBZBShN",
        "outputId": "18d53cba-575d-4b7e-823e-bef905faf22f"
      },
      "source": [
        "# Cortar array de duas dimensões\r\n",
        "my_array2 = np.array([\r\n",
        "[1,2,3,4],\r\n",
        "[5,6,7,8],\r\n",
        "[9,10,11,12],\r\n",
        "[13,14,15,16]\r\n",
        "])\r\n",
        "\r\n",
        "# cortar a primeira fila\r\n",
        "print('the first row is', my_array2[0])\r\n",
        "\r\n",
        "# cortar a primeira coluna\r\n",
        "print('the first column is', my_array2[:,0])\r\n",
        "\r\n",
        "# cortar as primeiras duas filas e as duas primeiras colunas\r\n",
        "print('the selection in the comment above', my_array2[:2,:2])\r\n",
        "\r\n",
        "# cortar a ultima coluna, 2ª e 3ª fila\r\n",
        "print('the selection in the comment above', my_array2[1:3,-1])"
      ],
      "execution_count": 27,
      "outputs": [
        {
          "output_type": "stream",
          "text": [
            "the first row is [1 2 3 4]\n",
            "the first column is [ 1  5  9 13]\n",
            "the selection in the comment above [[1 2]\n",
            " [5 6]]\n",
            "the selection in the comment above [ 8 12]\n"
          ],
          "name": "stdout"
        }
      ]
    },
    {
      "cell_type": "code",
      "metadata": {
        "colab": {
          "base_uri": "https://localhost:8080/"
        },
        "id": "N0atUWKeCPyC",
        "outputId": "3223726d-07e7-43f6-9345-f7485fc6d7ff"
      },
      "source": [
        "# vamos assumir que temos 7 sujeitos na nossa estrutura de dados retangular\r\n",
        "names = np.array(['helen','mary','lucy','matt','linsday','ben','luke'])\r\n",
        "genders = np.array(['f','f','f','m','f','m','m'])\r\n",
        "\r\n",
        "# vamos criar uma matriz teste de inteiros que tem sete filas e 5 colunas\r\n",
        "d = np.arange(35).reshape((7,5))\r\n",
        "print(d, '\\n')\r\n",
        "\r\n",
        "\r\n",
        "# agora vamos criar a versão booleana d géneros onde feminino é True (Verdade)\r\n",
        "sel_f = genders == 'f'\r\n",
        "print('the sub matrix of females:','\\n', d[sel_f], '\\n')\r\n",
        "\r\n",
        "# vamos corresponder o valor zero nas filas que correspondem ao género masculino\r\n",
        "sel_m = genders != 'f'\r\n",
        "d[sel_m] = 0\r\n",
        "print('After assigning males the value 0 we get:','\\n', d, '\\n')"
      ],
      "execution_count": 32,
      "outputs": [
        {
          "output_type": "stream",
          "text": [
            "[[ 0  1  2  3  4]\n",
            " [ 5  6  7  8  9]\n",
            " [10 11 12 13 14]\n",
            " [15 16 17 18 19]\n",
            " [20 21 22 23 24]\n",
            " [25 26 27 28 29]\n",
            " [30 31 32 33 34]] \n",
            "\n",
            "the sub matrix of females: \n",
            " [[ 0  1  2  3  4]\n",
            " [ 5  6  7  8  9]\n",
            " [10 11 12 13 14]\n",
            " [20 21 22 23 24]] \n",
            "\n",
            "After assigning males the value 0 we get: \n",
            " [[ 0  1  2  3  4]\n",
            " [ 5  6  7  8  9]\n",
            " [10 11 12 13 14]\n",
            " [ 0  0  0  0  0]\n",
            " [20 21 22 23 24]\n",
            " [ 0  0  0  0  0]\n",
            " [ 0  0  0  0  0]] \n",
            "\n"
          ],
          "name": "stdout"
        }
      ]
    },
    {
      "cell_type": "code",
      "metadata": {
        "colab": {
          "base_uri": "https://localhost:8080/"
        },
        "id": "4epvfMEHD85X",
        "outputId": "abbb5797-16dd-4830-f610-d263c8da3031"
      },
      "source": [
        "# Fancy indexing\r\n",
        "d[[0,2,3]]"
      ],
      "execution_count": 33,
      "outputs": [
        {
          "output_type": "execute_result",
          "data": {
            "text/plain": [
              "array([[ 0,  1,  2,  3,  4],\n",
              "       [10, 11, 12, 13, 14],\n",
              "       [ 0,  0,  0,  0,  0]])"
            ]
          },
          "metadata": {
            "tags": []
          },
          "execution_count": 33
        }
      ]
    },
    {
      "cell_type": "code",
      "metadata": {
        "colab": {
          "base_uri": "https://localhost:8080/"
        },
        "id": "_jfxPFDREeab",
        "outputId": "e292fa8e-40f4-4062-8791-66ec5624a181"
      },
      "source": [
        "#1D correspondência a um corte? (slice assignment)\r\n",
        "my_array = np.zeros(10)\r\n",
        "my_array[3:6] = -1\r\n",
        "print('assignment on slice is broadcast')\r\n",
        "print(my_array)"
      ],
      "execution_count": 34,
      "outputs": [
        {
          "output_type": "stream",
          "text": [
            "assignment on slice is broadcast\n",
            "[ 0.  0.  0. -1. -1. -1.  0.  0.  0.  0.]\n"
          ],
          "name": "stdout"
        }
      ]
    },
    {
      "cell_type": "code",
      "metadata": {
        "colab": {
          "base_uri": "https://localhost:8080/"
        },
        "id": "DIH8oC8CE2dW",
        "outputId": "8ccb4c4b-0b94-43bc-ef27-cc7e4e43fb6c"
      },
      "source": [
        "# vamos ver como a transposing funciona numa matriz\r\n",
        "my_array = np.arange(32).reshape(8,4)\r\n",
        "print('the original matrix is', '\\n', my_array, '\\n')\r\n",
        "\r\n",
        "mt = my_array.T #transposing sintaxe: matriz.T\r\n",
        "print('the transposed matrix is', '\\n', mt, '\\n')"
      ],
      "execution_count": 37,
      "outputs": [
        {
          "output_type": "stream",
          "text": [
            "the original matrix is \n",
            " [[ 0  1  2  3]\n",
            " [ 4  5  6  7]\n",
            " [ 8  9 10 11]\n",
            " [12 13 14 15]\n",
            " [16 17 18 19]\n",
            " [20 21 22 23]\n",
            " [24 25 26 27]\n",
            " [28 29 30 31]] \n",
            "\n",
            "the transposed matrix is \n",
            " [[ 0  4  8 12 16 20 24 28]\n",
            " [ 1  5  9 13 17 21 25 29]\n",
            " [ 2  6 10 14 18 22 26 30]\n",
            " [ 3  7 11 15 19 23 27 31]] \n",
            "\n"
          ],
          "name": "stdout"
        }
      ]
    },
    {
      "cell_type": "code",
      "metadata": {
        "colab": {
          "base_uri": "https://localhost:8080/"
        },
        "id": "wNbzWBQiFZe5",
        "outputId": "d4ec9253-509f-4bd4-bd5b-8937659c8146"
      },
      "source": [
        "# funções universais unárias do Numpy\r\n",
        "\r\n",
        "my_array = np.arange(10)\r\n",
        "print('original array:\\n', my_array, '\\n')\r\n",
        "\r\n",
        "print('The squareroot of the array is \\n', np.sqrt(my_array), '\\n\\n')\r\n",
        "\r\n",
        "print('The array times 4 is \\n', my_array*4, '\\n')\r\n"
      ],
      "execution_count": 39,
      "outputs": [
        {
          "output_type": "stream",
          "text": [
            "original array:\n",
            " [0 1 2 3 4 5 6 7 8 9] \n",
            "\n",
            "The squareroot of the array is \n",
            " [0.         1.         1.41421356 1.73205081 2.         2.23606798\n",
            " 2.44948974 2.64575131 2.82842712 3.        ] \n",
            "\n",
            "\n",
            "The array times 4 is \n",
            " [ 0  4  8 12 16 20 24 28 32 36] \n",
            "\n"
          ],
          "name": "stdout"
        }
      ]
    },
    {
      "cell_type": "code",
      "metadata": {
        "colab": {
          "base_uri": "https://localhost:8080/"
        },
        "id": "xlI74OlSGU2U",
        "outputId": "16df519e-50c9-45e6-c694-35f5fbcdc764"
      },
      "source": [
        "# funções universais binárias\r\n",
        "x = np.random.randn(4)\r\n",
        "y = np.random.randn(4)\r\n",
        "\r\n",
        "print('x is ', x, '\\n')\r\n",
        "print('y is ', y, '\\n')\r\n",
        "\r\n",
        "print('the array of per-component max value is: \\n', np.maximum(x,y))\r\n"
      ],
      "execution_count": 42,
      "outputs": [
        {
          "output_type": "stream",
          "text": [
            "x is  [ 1.83427718 -2.54219608 -2.33286217  0.3841998 ] \n",
            "\n",
            "y is  [-0.38721022  1.76044959 -2.3415741   2.05686983] \n",
            "\n",
            "the array of per-component max value is: \n",
            " [ 1.83427718  1.76044959 -2.33286217  2.05686983]\n"
          ],
          "name": "stdout"
        }
      ]
    },
    {
      "cell_type": "code",
      "metadata": {
        "colab": {
          "base_uri": "https://localhost:8080/"
        },
        "id": "DuSrBjU-HHGd",
        "outputId": "2f81c8a8-262a-4283-a3d8-39826491a6fb"
      },
      "source": [
        "# sorting numpy arrays\r\n",
        "\r\n",
        "my_array = np.random.randn(6)\r\n",
        "\r\n",
        "print('original 1D array has \\n', my_array, '\\n')\r\n",
        "\r\n",
        "my_array.sort() # ATENÇÃO, SÓ ORDENA NO ARRAY ORIGINAL NÃO DEVOLVE NADA\r\n",
        "print('sorted 1D array has \\n', my_array, '\\n')\r\n",
        "\r\n",
        "my_array = np.random.randn(25).reshape((5,5))\r\n",
        "print('original 2D array has: \\n', my_array, '\\n')\r\n",
        "\r\n",
        "print('sort the columns:')\r\n",
        "my_array.sort(0) # ZERO quer dizer que vai dar preferência a ordenar os valores das COLUNAS da matriz (duvida)\r\n",
        "print(my_array, '\\n')\r\n",
        "\r\n",
        "print('sort the rows:')\r\n",
        "my_array.sort(1) # UM quer dizer que vai dar preferência a ordenar os valores das FILAS da matriz\r\n",
        "print(my_array, '\\n')\r\n",
        "\r\n",
        "\r\n",
        "# os sorts parecem estranhos depois de feito, dont worry pq há valores negativos (IMPORTANT DETAIL!)"
      ],
      "execution_count": 51,
      "outputs": [
        {
          "output_type": "stream",
          "text": [
            "original 1D array has \n",
            " [ 0.28512839 -0.67635986 -0.19677522  0.9042536   0.07041535 -0.91674831] \n",
            "\n",
            "sorted 1D array has \n",
            " [-0.91674831 -0.67635986 -0.19677522  0.07041535  0.28512839  0.9042536 ] \n",
            "\n",
            "original 2D array has: \n",
            " [[-0.84254481 -1.09608164 -1.18763432  0.23320961  0.8994474 ]\n",
            " [-1.11546671  0.01346432 -0.49684784  0.18618257  2.42111341]\n",
            " [-0.45963141  0.91643365 -0.37190585  0.85790124 -1.17163705]\n",
            " [-0.49935383  2.37044352  0.18566258 -0.02818883 -0.20620777]\n",
            " [ 1.06131325 -0.95091368 -1.05693786 -0.17169263  0.33238122]] \n",
            "\n",
            "sort the columns:\n",
            "[[-1.11546671 -1.09608164 -1.18763432 -0.17169263 -1.17163705]\n",
            " [-0.84254481 -0.95091368 -1.05693786 -0.02818883 -0.20620777]\n",
            " [-0.49935383  0.01346432 -0.49684784  0.18618257  0.33238122]\n",
            " [-0.45963141  0.91643365 -0.37190585  0.23320961  0.8994474 ]\n",
            " [ 1.06131325  2.37044352  0.18566258  0.85790124  2.42111341]] \n",
            "\n",
            "sort the rows:\n",
            "[[-1.18763432 -1.17163705 -1.11546671 -1.09608164 -0.17169263]\n",
            " [-1.05693786 -0.95091368 -0.84254481 -0.20620777 -0.02818883]\n",
            " [-0.49935383 -0.49684784  0.01346432  0.18618257  0.33238122]\n",
            " [-0.45963141 -0.37190585  0.23320961  0.8994474   0.91643365]\n",
            " [ 0.18566258  0.85790124  1.06131325  2.37044352  2.42111341]] \n",
            "\n"
          ],
          "name": "stdout"
        }
      ]
    },
    {
      "cell_type": "code",
      "metadata": {
        "colab": {
          "base_uri": "https://localhost:8080/"
        },
        "id": "7jSXjpoOI5A_",
        "outputId": "e39ce260-89c1-4fa7-bff7-e3106ca4a76c"
      },
      "source": [
        "import pandas as pd\r\n",
        "\r\n",
        "sx = pd.Series([1,2,-9,0])\r\n",
        "print('my first pandas series is', sx, '\\n')\r\n",
        "\r\n",
        "print('A series has values \\n', sx.values)\r\n",
        "print('A series has index \\n', sx.index)\r\n",
        "\r\n",
        "sx.index =['a','b','c','d'] # podemos redefinir os indices de um dataframe\r\n",
        "print(sx, '\\n')\r\n",
        "print('A series has new indexes \\n', sx.index)\r\n",
        "\r\n",
        "print('In my sx the element with index a is:', sx['a'], '\\n')\r\n",
        "\r\n",
        "print('Boolean indexing? No problem!\\n', sx[[True,False,False,True]],'\\n')\r\n",
        "\r\n",
        "print('Fancy indexing? No problem! \\n', sx[['a','d']],'\\n')\r\n",
        "\r\n",
        "print('check for index in series, no problem')\r\n",
        "\r\n",
        "# INACABADO (VER FICHA MOODLE)"
      ],
      "execution_count": 59,
      "outputs": [
        {
          "output_type": "stream",
          "text": [
            "my first pandas series is 0    1\n",
            "1    2\n",
            "2   -9\n",
            "3    0\n",
            "dtype: int64 \n",
            "\n",
            "A series has values \n",
            " [ 1  2 -9  0]\n",
            "A series has index \n",
            " RangeIndex(start=0, stop=4, step=1)\n",
            "a    1\n",
            "b    2\n",
            "c   -9\n",
            "d    0\n",
            "dtype: int64 \n",
            "\n",
            "A series has new indexes \n",
            " Index(['a', 'b', 'c', 'd'], dtype='object')\n",
            "In my sx the element with index a is: 1 \n",
            "\n",
            "Boolean indexing? No problem!\n",
            " a    1\n",
            "d    0\n",
            "dtype: int64 \n",
            "\n",
            "Fancy indexing? No problem! \n",
            " a    1\n",
            "d    0\n",
            "dtype: int64 \n",
            "\n"
          ],
          "name": "stdout"
        }
      ]
    },
    {
      "cell_type": "code",
      "metadata": {
        "id": "iJrkrnZhKDmp"
      },
      "source": [
        ""
      ],
      "execution_count": null,
      "outputs": []
    }
  ]
}